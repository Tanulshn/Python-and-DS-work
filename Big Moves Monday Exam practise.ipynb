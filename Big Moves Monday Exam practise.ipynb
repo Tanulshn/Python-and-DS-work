{
 "cells": [
  {
   "cell_type": "code",
   "execution_count": 2,
   "id": "d197c501",
   "metadata": {},
   "outputs": [],
   "source": [
    "import numpy as np\n",
    "import pandas as pd\n",
    "import matplotlib.pyplot as plt\n",
    "import seaborn as sns"
   ]
  },
  {
   "cell_type": "code",
   "execution_count": 8,
   "id": "7a14e0c3",
   "metadata": {},
   "outputs": [],
   "source": [
    "import datetime\n",
    "import yfinance as yf\n",
    "from itertools import product"
   ]
  },
  {
   "cell_type": "markdown",
   "id": "76a43c42",
   "metadata": {},
   "source": [
    "### Big moves Monday\n",
    "Buy on Monday given a few conditions and exit on Friday\n",
    "1. Cond No 1: Friday Close - Monday Close  >= 0.25 *  Relative Range MA\n",
    "2. IBS must be lower than 0.3\n",
    "3. The dau must be a Monday; 1 day before has to a Friday: 4 day after is Friday.\n",
    "\n",
    "- Relative Range = (HIgh - Low)/ Close\n",
    "- IBS = (Close - Low)/(High - Low)"
   ]
  },
  {
   "cell_type": "code",
   "execution_count": 5,
   "id": "96b7bb77",
   "metadata": {},
   "outputs": [],
   "source": [
    "class Financial_data():\n",
    "    def __init__(self, ticker, start, end):\n",
    "        self.ticker = ticker\n",
    "        self.start = start\n",
    "        self.end = end\n",
    "        \n",
    "        self.df= yf.download(self.ticker, self.start, self.end)\n",
    "        self.df= pd.DataFrame(self.df)\n",
    "        self.df['r'] = np.log(self.df['Adj Close']/self.df['Adj Close'].shift(1))\n",
    "        self.df.dropna(inplace=True)\n",
    "    "
   ]
  },
  {
   "cell_type": "code",
   "execution_count": 31,
   "id": "d5ac659e",
   "metadata": {},
   "outputs": [],
   "source": [
    "class BMM(Financial_data):\n",
    "    def BMM_backtest(self, avg_days=None):\n",
    "        if avg_days is None:\n",
    "            avg_days = 14\n",
    "        self.avg_days = avg_days\n",
    "        \n",
    "        self.indicators()\n",
    "        self.signal()\n",
    "        \n",
    "        self.df['s'] = self.df['position'].shift(1)* self.df['r']\n",
    "        perf = np.exp(self.df[['r','s']].iloc[self.avg_days:].sum())\n",
    "        return perf\n",
    "    \n",
    "    def indicators(self):\n",
    "        # Create Relative Range MA\n",
    "        self.df['RR'] = (self.df['High'] - self.df['Low'])/self.df['Close']\n",
    "        self.df['RR_ma'] = self.df['RR'].rolling(window= self.avg_days).mean()\n",
    "        \n",
    "        # Create IBS\n",
    "        self.df['IBS'] = (self.df['Adj Close']- self.df['Low'])/(self.df['High']- self.df['Low'])\n",
    "        \n",
    "        # Create indicators for days\n",
    "        self.df['day'] = self.df.index.day_name()\n",
    "        self.df['prev_day'] = self.df['day'].shift(1)\n",
    "        self.df['4_days_later'] = self.df['day'].shift(-4)\n",
    "        \n",
    "    def signal(self):\n",
    "        #Signal 1 : RR_MA\n",
    "        self.df['cond_1'] = np.where((self.df['Adj Close'].shift(1)- self.df['Adj Close'])>= 0.25*self.df['RR_ma'], 1,0)\n",
    "        \n",
    "        #signal 2: IBS\n",
    "        self.df['cond_2'] = np.where(self.df['IBS']< 0.3, 1,0)\n",
    "        \n",
    "        # signal 3: Day\n",
    "        self.df['cond_3'] = np.where((self.df['day']== 'Monday')\n",
    "                                     & (self.df['prev_day']== 'Friday')\n",
    "                                     & (self.df['4_days_later'] == 'Friday'),\n",
    "                                     1,0)\n",
    "        \n",
    "        self.df['signal'] = np.where((self.df['cond_1']==1)\n",
    "                                    & (self.df['cond_2']==1)\n",
    "                                    & (self.df['cond_3']==1), 1, 0)\n",
    "        self.df['position'] = self.df['signal'].replace(to_replace=0, method='ffill', limit=3)\n",
    "        \n",
    "        "
   ]
  },
  {
   "cell_type": "code",
   "execution_count": 32,
   "id": "3dcef430",
   "metadata": {},
   "outputs": [],
   "source": [
    "end = datetime.date.today()\n",
    "start= end- pd.Timedelta(days=3*365)"
   ]
  },
  {
   "cell_type": "code",
   "execution_count": 33,
   "id": "e039af73",
   "metadata": {},
   "outputs": [
    {
     "name": "stdout",
     "output_type": "stream",
     "text": [
      "[*********************100%***********************]  1 of 1 completed\n"
     ]
    }
   ],
   "source": [
    "bmm = BMM(\"^NSEI\", start, end)"
   ]
  },
  {
   "cell_type": "code",
   "execution_count": 34,
   "id": "ec466569",
   "metadata": {},
   "outputs": [
    {
     "data": {
      "text/plain": [
       "r    1.578846\n",
       "s    1.165111\n",
       "dtype: float64"
      ]
     },
     "execution_count": 34,
     "metadata": {},
     "output_type": "execute_result"
    }
   ],
   "source": [
    "bmm.BMM_backtest(20)"
   ]
  },
  {
   "cell_type": "code",
   "execution_count": 35,
   "id": "962261c3",
   "metadata": {},
   "outputs": [],
   "source": [
    "# bmm.df.to_csv('BMM.csv')"
   ]
  },
  {
   "cell_type": "code",
   "execution_count": 37,
   "id": "276af2ad",
   "metadata": {},
   "outputs": [],
   "source": [
    "days=[10,14,21,30]"
   ]
  },
  {
   "cell_type": "code",
   "execution_count": 45,
   "id": "396da74b",
   "metadata": {},
   "outputs": [
    {
     "name": "stdout",
     "output_type": "stream",
     "text": [
      "   No of Days  Benchmark Ret  Strat_ret\n",
      "0          10       1.518627   1.165111\n",
      "1          14       1.518809   1.165111\n",
      "2          21       1.597357   1.165111\n",
      "3          30       1.503504   1.138662\n"
     ]
    }
   ],
   "source": [
    "res = pd.DataFrame()\n",
    "for i in days:\n",
    "    \n",
    "    perf = bmm.BMM_backtest(i)\n",
    "    res = res.append(pd.DataFrame({'No of Days':i, 'Benchmark Ret': perf['r'], 'Strat_ret': perf['s']}, index=[0]), ignore_index=True) \n",
    "    #print(perf)\n",
    "print(res)"
   ]
  },
  {
   "cell_type": "code",
   "execution_count": 46,
   "id": "5e6863a8",
   "metadata": {},
   "outputs": [
    {
     "data": {
      "text/html": [
       "<div>\n",
       "<style scoped>\n",
       "    .dataframe tbody tr th:only-of-type {\n",
       "        vertical-align: middle;\n",
       "    }\n",
       "\n",
       "    .dataframe tbody tr th {\n",
       "        vertical-align: top;\n",
       "    }\n",
       "\n",
       "    .dataframe thead th {\n",
       "        text-align: right;\n",
       "    }\n",
       "</style>\n",
       "<table border=\"1\" class=\"dataframe\">\n",
       "  <thead>\n",
       "    <tr style=\"text-align: right;\">\n",
       "      <th></th>\n",
       "      <th>No of Days</th>\n",
       "      <th>Benchmark Ret</th>\n",
       "      <th>Strat_ret</th>\n",
       "    </tr>\n",
       "  </thead>\n",
       "  <tbody>\n",
       "    <tr>\n",
       "      <th>0</th>\n",
       "      <td>10</td>\n",
       "      <td>1.518627</td>\n",
       "      <td>1.165111</td>\n",
       "    </tr>\n",
       "    <tr>\n",
       "      <th>1</th>\n",
       "      <td>14</td>\n",
       "      <td>1.518809</td>\n",
       "      <td>1.165111</td>\n",
       "    </tr>\n",
       "    <tr>\n",
       "      <th>2</th>\n",
       "      <td>21</td>\n",
       "      <td>1.597357</td>\n",
       "      <td>1.165111</td>\n",
       "    </tr>\n",
       "    <tr>\n",
       "      <th>3</th>\n",
       "      <td>30</td>\n",
       "      <td>1.503504</td>\n",
       "      <td>1.138662</td>\n",
       "    </tr>\n",
       "  </tbody>\n",
       "</table>\n",
       "</div>"
      ],
      "text/plain": [
       "   No of Days  Benchmark Ret  Strat_ret\n",
       "0          10       1.518627   1.165111\n",
       "1          14       1.518809   1.165111\n",
       "2          21       1.597357   1.165111\n",
       "3          30       1.503504   1.138662"
      ]
     },
     "execution_count": 46,
     "metadata": {},
     "output_type": "execute_result"
    }
   ],
   "source": [
    "res"
   ]
  },
  {
   "cell_type": "code",
   "execution_count": null,
   "id": "ae0d33a1",
   "metadata": {},
   "outputs": [],
   "source": []
  }
 ],
 "metadata": {
  "kernelspec": {
   "display_name": "Python 3",
   "language": "python",
   "name": "python3"
  },
  "language_info": {
   "codemirror_mode": {
    "name": "ipython",
    "version": 3
   },
   "file_extension": ".py",
   "mimetype": "text/x-python",
   "name": "python",
   "nbconvert_exporter": "python",
   "pygments_lexer": "ipython3",
   "version": "3.8.8"
  }
 },
 "nbformat": 4,
 "nbformat_minor": 5
}
