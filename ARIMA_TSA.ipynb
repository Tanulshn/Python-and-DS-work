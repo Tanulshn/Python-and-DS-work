{
  "nbformat": 4,
  "nbformat_minor": 0,
  "metadata": {
    "colab": {
      "name": "ARIMA TSA.ipynb",
      "provenance": [],
      "collapsed_sections": [],
      "toc_visible": true,
      "mount_file_id": "1ey4lXtQ8ujuq4yj4fAC6Lu9YyFt9ZZDR",
      "authorship_tag": "ABX9TyPB6a6+LusSirZ4ieFjD9on",
      "include_colab_link": true
    },
    "kernelspec": {
      "name": "python3",
      "display_name": "Python 3"
    },
    "language_info": {
      "name": "python"
    }
  },
  "cells": [
    {
      "cell_type": "markdown",
      "metadata": {
        "id": "view-in-github",
        "colab_type": "text"
      },
      "source": [
        "<a href=\"https://colab.research.google.com/github/Tanulshn/Python-and-DS-work/blob/main/ARIMA_TSA.ipynb\" target=\"_parent\"><img src=\"https://colab.research.google.com/assets/colab-badge.svg\" alt=\"Open In Colab\"/></a>"
      ]
    },
    {
      "cell_type": "markdown",
      "metadata": {
        "id": "_yLN9ylEU_cl"
      },
      "source": [
        ""
      ]
    },
    {
      "cell_type": "code",
      "metadata": {
        "id": "losOLZTeTipN"
      },
      "source": [
        "# Basic Package\n",
        "import pandas as pd\n",
        "import numpy as np\n",
        "import seaborn as sns\n",
        "import matplotlib.pyplot as plt\n",
        "%matplotlib inline\n",
        "plt.style.use('seaborn-darkgrid')\n",
        "\n",
        "# Warnings \n",
        "import warnings\n",
        "warnings.simplefilter(action='ignore')\n"
      ],
      "execution_count": 1,
      "outputs": []
    },
    {
      "cell_type": "markdown",
      "metadata": {
        "id": "oZ6EHExdbZzr"
      },
      "source": [
        "### Data Preprocessing"
      ]
    },
    {
      "cell_type": "code",
      "metadata": {
        "colab": {
          "base_uri": "https://localhost:8080/",
          "height": 667
        },
        "id": "_voSF3iyaSOc",
        "outputId": "7b843ebc-2425-4f93-97be-1f639c827e0c"
      },
      "source": [
        "# Read the data\n",
        "raw_data = pd.read_csv('/content/drive/MyDrive/Colab Notebooks/Time Series Analysis/Banks/HDFC Bank/2 yr TSA.csv')\n",
        "raw_data.head(20)"
      ],
      "execution_count": 2,
      "outputs": [
        {
          "output_type": "execute_result",
          "data": {
            "text/html": [
              "<div>\n",
              "<style scoped>\n",
              "    .dataframe tbody tr th:only-of-type {\n",
              "        vertical-align: middle;\n",
              "    }\n",
              "\n",
              "    .dataframe tbody tr th {\n",
              "        vertical-align: top;\n",
              "    }\n",
              "\n",
              "    .dataframe thead th {\n",
              "        text-align: right;\n",
              "    }\n",
              "</style>\n",
              "<table border=\"1\" class=\"dataframe\">\n",
              "  <thead>\n",
              "    <tr style=\"text-align: right;\">\n",
              "      <th></th>\n",
              "      <th>Date</th>\n",
              "      <th>Value</th>\n",
              "      <th>Price</th>\n",
              "    </tr>\n",
              "  </thead>\n",
              "  <tbody>\n",
              "    <tr>\n",
              "      <th>0</th>\n",
              "      <td>6/1/2019</td>\n",
              "      <td>No Data FOund</td>\n",
              "      <td>No Data FOund</td>\n",
              "    </tr>\n",
              "    <tr>\n",
              "      <th>1</th>\n",
              "      <td>6/2/2019</td>\n",
              "      <td>No Data FOund</td>\n",
              "      <td>No Data FOund</td>\n",
              "    </tr>\n",
              "    <tr>\n",
              "      <th>2</th>\n",
              "      <td>6/3/2019</td>\n",
              "      <td>31.80974372</td>\n",
              "      <td>1228.55</td>\n",
              "    </tr>\n",
              "    <tr>\n",
              "      <th>3</th>\n",
              "      <td>6/4/2019</td>\n",
              "      <td>31.74760267</td>\n",
              "      <td>1226.15</td>\n",
              "    </tr>\n",
              "    <tr>\n",
              "      <th>4</th>\n",
              "      <td>6/5/2019</td>\n",
              "      <td>No Data FOund</td>\n",
              "      <td>No Data FOund</td>\n",
              "    </tr>\n",
              "    <tr>\n",
              "      <th>5</th>\n",
              "      <td>6/6/2019</td>\n",
              "      <td>31.37281447</td>\n",
              "      <td>1211.675</td>\n",
              "    </tr>\n",
              "    <tr>\n",
              "      <th>6</th>\n",
              "      <td>6/7/2019</td>\n",
              "      <td>31.68740353</td>\n",
              "      <td>1223.825</td>\n",
              "    </tr>\n",
              "    <tr>\n",
              "      <th>7</th>\n",
              "      <td>6/8/2019</td>\n",
              "      <td>No Data FOund</td>\n",
              "      <td>No Data FOund</td>\n",
              "    </tr>\n",
              "    <tr>\n",
              "      <th>8</th>\n",
              "      <td>6/9/2019</td>\n",
              "      <td>No Data FOund</td>\n",
              "      <td>No Data FOund</td>\n",
              "    </tr>\n",
              "    <tr>\n",
              "      <th>9</th>\n",
              "      <td>6/10/2019</td>\n",
              "      <td>31.59095544</td>\n",
              "      <td>1220.1</td>\n",
              "    </tr>\n",
              "    <tr>\n",
              "      <th>10</th>\n",
              "      <td>6/11/2019</td>\n",
              "      <td>31.69711307</td>\n",
              "      <td>1224.2</td>\n",
              "    </tr>\n",
              "    <tr>\n",
              "      <th>11</th>\n",
              "      <td>6/12/2019</td>\n",
              "      <td>31.42071486</td>\n",
              "      <td>1213.525</td>\n",
              "    </tr>\n",
              "    <tr>\n",
              "      <th>12</th>\n",
              "      <td>6/13/2019</td>\n",
              "      <td>31.64917469</td>\n",
              "      <td>1222.35</td>\n",
              "    </tr>\n",
              "    <tr>\n",
              "      <th>13</th>\n",
              "      <td>6/14/2019</td>\n",
              "      <td>31.52489274</td>\n",
              "      <td>1217.55</td>\n",
              "    </tr>\n",
              "    <tr>\n",
              "      <th>14</th>\n",
              "      <td>6/15/2019</td>\n",
              "      <td>No Data FOund</td>\n",
              "      <td>No Data FOund</td>\n",
              "    </tr>\n",
              "    <tr>\n",
              "      <th>15</th>\n",
              "      <td>6/16/2019</td>\n",
              "      <td>No Data FOund</td>\n",
              "      <td>No Data FOund</td>\n",
              "    </tr>\n",
              "    <tr>\n",
              "      <th>16</th>\n",
              "      <td>6/17/2019</td>\n",
              "      <td>31.35529966</td>\n",
              "      <td>1211</td>\n",
              "    </tr>\n",
              "    <tr>\n",
              "      <th>17</th>\n",
              "      <td>6/18/2019</td>\n",
              "      <td>31.33996896</td>\n",
              "      <td>1208.625</td>\n",
              "    </tr>\n",
              "    <tr>\n",
              "      <th>18</th>\n",
              "      <td>6/19/2019</td>\n",
              "      <td>31.48388194</td>\n",
              "      <td>1214.175</td>\n",
              "    </tr>\n",
              "    <tr>\n",
              "      <th>19</th>\n",
              "      <td>6/20/2019</td>\n",
              "      <td>31.45795167</td>\n",
              "      <td>1213.175</td>\n",
              "    </tr>\n",
              "  </tbody>\n",
              "</table>\n",
              "</div>"
            ],
            "text/plain": [
              "         Date          Value          Price\n",
              "0    6/1/2019  No Data FOund  No Data FOund\n",
              "1    6/2/2019  No Data FOund  No Data FOund\n",
              "2    6/3/2019    31.80974372        1228.55\n",
              "3    6/4/2019    31.74760267        1226.15\n",
              "4    6/5/2019  No Data FOund  No Data FOund\n",
              "5    6/6/2019    31.37281447       1211.675\n",
              "6    6/7/2019    31.68740353       1223.825\n",
              "7    6/8/2019  No Data FOund  No Data FOund\n",
              "8    6/9/2019  No Data FOund  No Data FOund\n",
              "9   6/10/2019    31.59095544         1220.1\n",
              "10  6/11/2019    31.69711307         1224.2\n",
              "11  6/12/2019    31.42071486       1213.525\n",
              "12  6/13/2019    31.64917469        1222.35\n",
              "13  6/14/2019    31.52489274        1217.55\n",
              "14  6/15/2019  No Data FOund  No Data FOund\n",
              "15  6/16/2019  No Data FOund  No Data FOund\n",
              "16  6/17/2019    31.35529966           1211\n",
              "17  6/18/2019    31.33996896       1208.625\n",
              "18  6/19/2019    31.48388194       1214.175\n",
              "19  6/20/2019    31.45795167       1213.175"
            ]
          },
          "metadata": {
            "tags": []
          },
          "execution_count": 2
        }
      ]
    },
    {
      "cell_type": "code",
      "metadata": {
        "colab": {
          "base_uri": "https://localhost:8080/"
        },
        "id": "BrZD8ifycjDf",
        "outputId": "b6f264a7-28ed-4cf8-b541-dec6ead8083a"
      },
      "source": [
        "df=raw_data.copy()\n",
        "df.info()"
      ],
      "execution_count": 3,
      "outputs": [
        {
          "output_type": "stream",
          "text": [
            "<class 'pandas.core.frame.DataFrame'>\n",
            "RangeIndex: 731 entries, 0 to 730\n",
            "Data columns (total 3 columns):\n",
            " #   Column  Non-Null Count  Dtype \n",
            "---  ------  --------------  ----- \n",
            " 0   Date    731 non-null    object\n",
            " 1   Value   731 non-null    object\n",
            " 2   Price   731 non-null    object\n",
            "dtypes: object(3)\n",
            "memory usage: 17.3+ KB\n"
          ],
          "name": "stdout"
        }
      ]
    },
    {
      "cell_type": "code",
      "metadata": {
        "colab": {
          "base_uri": "https://localhost:8080/"
        },
        "id": "jmDEw1l3dbxv",
        "outputId": "67fd001f-4a5a-4583-9798-90327ccdc9a7"
      },
      "source": [
        "# Change the dtype\n",
        "for i in (['Value','Price']):\n",
        "  df[i]=pd.to_numeric(raw_data[i], errors= 'coerce').round(2)\n",
        "df.info()"
      ],
      "execution_count": 4,
      "outputs": [
        {
          "output_type": "stream",
          "text": [
            "<class 'pandas.core.frame.DataFrame'>\n",
            "RangeIndex: 731 entries, 0 to 730\n",
            "Data columns (total 3 columns):\n",
            " #   Column  Non-Null Count  Dtype  \n",
            "---  ------  --------------  -----  \n",
            " 0   Date    731 non-null    object \n",
            " 1   Value   494 non-null    float64\n",
            " 2   Price   494 non-null    float64\n",
            "dtypes: float64(2), object(1)\n",
            "memory usage: 17.3+ KB\n"
          ],
          "name": "stdout"
        }
      ]
    },
    {
      "cell_type": "code",
      "metadata": {
        "colab": {
          "base_uri": "https://localhost:8080/",
          "height": 524
        },
        "id": "5uneHIwppI9E",
        "outputId": "63100495-323d-4af4-c9ca-955c159be38f"
      },
      "source": [
        "df['Value'].plot()\n",
        "plt.show()\n",
        "df['Price'].plot()"
      ],
      "execution_count": 5,
      "outputs": [
        {
          "output_type": "display_data",
          "data": {
            "image/png": "[encoded data removed]",
            "text/plain": [
              "<Figure size 432x288 with 1 Axes>"
            ]
          },
          "metadata": {
            "tags": [],
            "needs_background": "light"
          }
        },
        {
          "output_type": "execute_result",
          "data": {
            "text/plain": [
              "<matplotlib.axes._subplots.AxesSubplot at 0x7f23cf26c890>"
            ]
          },
          "metadata": {
            "tags": []
          },
          "execution_count": 5
        },
        {
          "output_type": "display_data",
          "data": {
            "image/png": "[encoded data removed]",
            "text/plain": [
              "<Figure size 432x288 with 1 Axes>"
            ]
          },
          "metadata": {
            "tags": [],
            "needs_background": "light"
          }
        }
      ]
    },
    {
      "cell_type": "code",
      "metadata": {
        "colab": {
          "base_uri": "https://localhost:8080/",
          "height": 111
        },
        "id": "oM_OUgWRpjjL",
        "outputId": "9ebedf78-7e6d-4852-8307-ec7394319e3b"
      },
      "source": [
        "df.corr()"
      ],
      "execution_count": 6,
      "outputs": [
        {
          "output_type": "execute_result",
          "data": {
            "text/html": [
              "<div>\n",
              "<style scoped>\n",
              "    .dataframe tbody tr th:only-of-type {\n",
              "        vertical-align: middle;\n",
              "    }\n",
              "\n",
              "    .dataframe tbody tr th {\n",
              "        vertical-align: top;\n",
              "    }\n",
              "\n",
              "    .dataframe thead th {\n",
              "        text-align: right;\n",
              "    }\n",
              "</style>\n",
              "<table border=\"1\" class=\"dataframe\">\n",
              "  <thead>\n",
              "    <tr style=\"text-align: right;\">\n",
              "      <th></th>\n",
              "      <th>Value</th>\n",
              "      <th>Price</th>\n",
              "    </tr>\n",
              "  </thead>\n",
              "  <tbody>\n",
              "    <tr>\n",
              "      <th>Value</th>\n",
              "      <td>1.000000</td>\n",
              "      <td>0.673561</td>\n",
              "    </tr>\n",
              "    <tr>\n",
              "      <th>Price</th>\n",
              "      <td>0.673561</td>\n",
              "      <td>1.000000</td>\n",
              "    </tr>\n",
              "  </tbody>\n",
              "</table>\n",
              "</div>"
            ],
            "text/plain": [
              "          Value     Price\n",
              "Value  1.000000  0.673561\n",
              "Price  0.673561  1.000000"
            ]
          },
          "metadata": {
            "tags": []
          },
          "execution_count": 6
        }
      ]
    },
    {
      "cell_type": "markdown",
      "metadata": {
        "id": "LFxM7w82eK0l"
      },
      "source": [
        "#### Date-time formatting"
      ]
    },
    {
      "cell_type": "code",
      "metadata": {
        "colab": {
          "base_uri": "https://localhost:8080/"
        },
        "id": "3o3NOYTJeOc6",
        "outputId": "142c3278-a956-4fcb-cc80-c243193f0ba4"
      },
      "source": [
        "df['Date'] = pd.to_datetime(df['Date'], dayfirst = False)\n",
        "df.set_index('Date', inplace=True)\n",
        "df.isnull().sum()"
      ],
      "execution_count": 7,
      "outputs": [
        {
          "output_type": "execute_result",
          "data": {
            "text/plain": [
              "Value    237\n",
              "Price    237\n",
              "dtype: int64"
            ]
          },
          "metadata": {
            "tags": []
          },
          "execution_count": 7
        }
      ]
    },
    {
      "cell_type": "code",
      "metadata": {
        "colab": {
          "base_uri": "https://localhost:8080/"
        },
        "id": "Ve3MhVjsg1hU",
        "outputId": "bf2722f2-1229-43ec-87ee-d0a129fa35cb"
      },
      "source": [
        "# Business days time series\n",
        "data = df.resample('b').last()\n",
        "data.isnull().sum()"
      ],
      "execution_count": 8,
      "outputs": [
        {
          "output_type": "execute_result",
          "data": {
            "text/plain": [
              "Value    31\n",
              "Price    31\n",
              "dtype: int64"
            ]
          },
          "metadata": {
            "tags": []
          },
          "execution_count": 8
        }
      ]
    },
    {
      "cell_type": "code",
      "metadata": {
        "id": "szD52GP-xVE7"
      },
      "source": [
        "data.fillna(method='bfill', inplace=True)"
      ],
      "execution_count": 9,
      "outputs": []
    },
    {
      "cell_type": "code",
      "metadata": {
        "colab": {
          "base_uri": "https://localhost:8080/"
        },
        "id": "UPthM2RJkKnq",
        "outputId": "487aa6fb-82c0-4c6c-c07a-0001958eab6c"
      },
      "source": [
        "data.isnull().sum()"
      ],
      "execution_count": 10,
      "outputs": [
        {
          "output_type": "execute_result",
          "data": {
            "text/plain": [
              "Value    0\n",
              "Price    0\n",
              "dtype: int64"
            ]
          },
          "metadata": {
            "tags": []
          },
          "execution_count": 10
        }
      ]
    },
    {
      "cell_type": "code",
      "metadata": {
        "colab": {
          "base_uri": "https://localhost:8080/"
        },
        "id": "sL_xYDY4m1ws",
        "outputId": "0a7536ae-0f02-4f4d-8d95-f97aa09b41d0"
      },
      "source": [
        "data.shape"
      ],
      "execution_count": 11,
      "outputs": [
        {
          "output_type": "execute_result",
          "data": {
            "text/plain": [
              "(522, 2)"
            ]
          },
          "metadata": {
            "tags": []
          },
          "execution_count": 11
        }
      ]
    },
    {
      "cell_type": "markdown",
      "metadata": {
        "id": "7YJ8HhLuOK7k"
      },
      "source": [
        "## Test for Stationarity"
      ]
    },
    {
      "cell_type": "code",
      "metadata": {
        "id": "HPRnafLHmihk"
      },
      "source": [
        "import statsmodels.tsa.stattools as sts\n",
        "from statsmodels.tsa.stattools import adfuller"
      ],
      "execution_count": 12,
      "outputs": []
    },
    {
      "cell_type": "code",
      "metadata": {
        "id": "N2v3BdtsOcZ9"
      },
      "source": [
        "# Define a function for Stationarity check\n",
        "\n",
        "def adfuller_test(series):\n",
        "  \"\"\" Takes the series and tests whether the series is stationary or not \n",
        "  by using ADFULLER test.\n",
        "  \"\"\"\n",
        "  result = adfuller(series)\n",
        "  labels = ['ADF Test stat', 'p-value', '# Lags', '# observations']\n",
        "  for value, label in zip(result,labels):\n",
        "    print(label, ': ', str(value))\n",
        "\n",
        "  if result[1]<=0.05:\n",
        "    print('Outcome: Strong evidence against the null hypothesis; reject H0; data has no unit root; DATA IS STATIONARY.')\n",
        "  else:\n",
        "    print('Outcome: Weak evidence against H0; accept H0, DATA IS NOT STATIONARY') \n"
      ],
      "execution_count": 13,
      "outputs": []
    },
    {
      "cell_type": "code",
      "metadata": {
        "colab": {
          "base_uri": "https://localhost:8080/"
        },
        "id": "ls_nxmOMPWtx",
        "outputId": "f3724d69-2e53-4d49-eb06-f0fcd2c6683b"
      },
      "source": [
        "adfuller_test(data['Price'])"
      ],
      "execution_count": 14,
      "outputs": [
        {
          "output_type": "stream",
          "text": [
            "ADF Test stat :  -0.9667821344274781\n",
            "p-value :  0.7651861831579707\n",
            "# Lags :  4\n",
            "# observations :  517\n",
            "Outcome: Weak evidence against H0; accept H0, DATA IS NOT STATIONARY\n"
          ],
          "name": "stdout"
        }
      ]
    },
    {
      "cell_type": "markdown",
      "metadata": {
        "id": "w1pOfXhWPell"
      },
      "source": [
        "Conclusion: The Data is not stationary\n",
        "We need to induce stationarity to be able to perform forecast through ARIMA"
      ]
    },
    {
      "cell_type": "code",
      "metadata": {
        "id": "_8VBO7_kPc6k"
      },
      "source": [
        ""
      ],
      "execution_count": 14,
      "outputs": []
    },
    {
      "cell_type": "markdown",
      "metadata": {
        "id": "YrKva34IPokx"
      },
      "source": [
        "### Induce Stationarity"
      ]
    },
    {
      "cell_type": "code",
      "metadata": {
        "colab": {
          "base_uri": "https://localhost:8080/",
          "height": 305
        },
        "id": "kseHimbCPr7u",
        "outputId": "3d7778db-c299-48f9-a6ce-c044d66fb326"
      },
      "source": [
        "# First degree differencing\n",
        "stationary_series = data['Price'].diff(2).dropna()\n",
        "stationary_series.plot()"
      ],
      "execution_count": 15,
      "outputs": [
        {
          "output_type": "execute_result",
          "data": {
            "text/plain": [
              "<matplotlib.axes._subplots.AxesSubplot at 0x7f23ce066c90>"
            ]
          },
          "metadata": {
            "tags": []
          },
          "execution_count": 15
        },
        {
          "output_type": "display_data",
          "data": {
            "image/png": "[encoded data removed]",
            "text/plain": [
              "<Figure size 432x288 with 1 Axes>"
            ]
          },
          "metadata": {
            "tags": [],
            "needs_background": "light"
          }
        }
      ]
    },
    {
      "cell_type": "code",
      "metadata": {
        "id": "Lx-AcgZ9RzQK"
      },
      "source": [
        ""
      ],
      "execution_count": 15,
      "outputs": []
    },
    {
      "cell_type": "code",
      "metadata": {
        "colab": {
          "base_uri": "https://localhost:8080/"
        },
        "id": "uVv8JU1wP0b5",
        "outputId": "d93b9927-f29a-4315-c60f-75aa8a286456"
      },
      "source": [
        "# Check for stationarity\n",
        "adfuller_test(stationary_series)"
      ],
      "execution_count": 16,
      "outputs": [
        {
          "output_type": "stream",
          "text": [
            "ADF Test stat :  -5.332410724983448\n",
            "p-value :  4.689713708385117e-06\n",
            "# Lags :  14\n",
            "# observations :  505\n",
            "Outcome: Strong evidence against the null hypothesis; reject H0; data has no unit root; DATA IS STATIONARY.\n"
          ],
          "name": "stdout"
        }
      ]
    },
    {
      "cell_type": "markdown",
      "metadata": {
        "id": "v0XGiGRPQLo6"
      },
      "source": [
        "Now that the snew series is stationary, we can plot ACF and PACF to determine the p and q variables for ARIMA\n",
        "\n",
        "## Autocorrelation check"
      ]
    },
    {
      "cell_type": "code",
      "metadata": {
        "colab": {
          "base_uri": "https://localhost:8080/"
        },
        "id": "uwUDm8kBVGQX",
        "outputId": "df6c24ad-92bf-4f2e-9a2b-fa4cea6299d1"
      },
      "source": [
        "# Create train set\n",
        "train_size = int(len(data)*0.7)\n",
        "train_size"
      ],
      "execution_count": 17,
      "outputs": [
        {
          "output_type": "execute_result",
          "data": {
            "text/plain": [
              "365"
            ]
          },
          "metadata": {
            "tags": []
          },
          "execution_count": 17
        }
      ]
    },
    {
      "cell_type": "code",
      "metadata": {
        "id": "WLUIaoseP5O7"
      },
      "source": [
        "import statsmodels.graphics.tsaplots as sgt"
      ],
      "execution_count": 18,
      "outputs": []
    },
    {
      "cell_type": "code",
      "metadata": {
        "colab": {
          "base_uri": "https://localhost:8080/",
          "height": 337
        },
        "id": "I1zomWKMQehi",
        "outputId": "ff266024-905b-42c8-fd4e-32bd441f6d73"
      },
      "source": [
        "fig = plt.figure(figsize=(20,10))\n",
        "ax1 = fig.add_subplot(211)\n",
        "fig = sgt.plot_pacf(data['Price'][:train_size].diff(2).dropna(), lags=20, ax=ax1,zero= False)\n",
        "\n",
        "ax2 = fig.add_subplot(212)\n",
        "fig = sgt.plot_acf(data['Price'][:train_size].diff(2).dropna(), lags=20, ax=ax2, zero= False)\n",
        "\n"
      ],
      "execution_count": 19,
      "outputs": [
        {
          "output_type": "display_data",
          "data": {
            "image/png": "[encoded data removed]",
            "text/plain": [
              "<Figure size 1440x720 with 2 Axes>"
            ]
          },
          "metadata": {
            "tags": [],
            "needs_background": "light"
          }
        }
      ]
    },
    {
      "cell_type": "markdown",
      "metadata": {
        "id": "n0WvFJYXSgud"
      },
      "source": [
        "Conclusion:\n",
        "\n",
        "Value of p: No of lags for AR (PACF Plot): 6\n",
        "\n",
        "Value of q: No of lags for MA (ACF Plot):  6\n"
      ]
    },
    {
      "cell_type": "markdown",
      "metadata": {
        "id": "44x3qgZfS9P6"
      },
      "source": [
        "## ARIMA model"
      ]
    },
    {
      "cell_type": "code",
      "metadata": {
        "id": "Ftfbgu2hRwI5"
      },
      "source": [
        "# Import package\n",
        "from statsmodels.tsa.arima_model import ARIMA\n",
        "\n",
        "from sklearn.metrics import mean_squared_error\n",
        "from sklearn.metrics import mean_absolute_error"
      ],
      "execution_count": 20,
      "outputs": []
    },
    {
      "cell_type": "code",
      "metadata": {
        "id": "RAkHHcsmTBI_"
      },
      "source": [
        "# Define a function to call:\n",
        "\n",
        "def predict_ARIMA(train_data):\n",
        "  \"\"\" The fun will fit ARIMA on the train data and forecast\n",
        "  \"\"\"\n",
        "  model = ARIMA(train_data, order=(2,2,1))\n",
        "  \n",
        "  # Fit the model\n",
        "  try:\n",
        "    model_fit = model.fit(disp=0)\n",
        "    #Forecast\n",
        "    forecast = model_fit.forecast() \n",
        "    return forecast[0][0]\n",
        "  except:\n",
        "    pass"
      ],
      "execution_count": 21,
      "outputs": []
    },
    {
      "cell_type": "code",
      "metadata": {
        "colab": {
          "base_uri": "https://localhost:8080/"
        },
        "id": "hFYbDbcJT12Z",
        "outputId": "8213d93b-b5d5-4049-b5d1-09bce8e16cd4"
      },
      "source": [
        "warnings.filterwarnings('ignore')\n",
        "warnings.filterwarnings('ignore', 'statsmodels.tsa.arima_model.ARMA',\n",
        "                        FutureWarning)\n",
        "\n",
        "# Find the params\n",
        "model = ARIMA(data['Price'][:train_size], order=(2, 2, 1))\n",
        "model_fit_0 = model.fit()\n",
        "print(model_fit_0.params.round(2))"
      ],
      "execution_count": 22,
      "outputs": [
        {
          "output_type": "stream",
          "text": [
            "const             0.01\n",
            "ar.L1.D2.Price    0.02\n",
            "ar.L2.D2.Price   -0.03\n",
            "ma.L1.D2.Price   -1.00\n",
            "dtype: float64\n"
          ],
          "name": "stdout"
        }
      ]
    },
    {
      "cell_type": "code",
      "metadata": {
        "id": "raTS0Hn3UAJk"
      },
      "source": [
        "data['Pred'] = data['Price'].rolling(train_size).apply(predict_ARIMA).round(2)\n",
        "data['Pred'] = data['Pred'].shift(1)"
      ],
      "execution_count": 23,
      "outputs": []
    },
    {
      "cell_type": "code",
      "metadata": {
        "colab": {
          "base_uri": "https://localhost:8080/",
          "height": 235
        },
        "id": "IBvK79HDUOtT",
        "outputId": "f1eec073-9be0-4eae-fdcc-5b9c6dbe171d"
      },
      "source": [
        "data.tail()"
      ],
      "execution_count": 24,
      "outputs": [
        {
          "output_type": "execute_result",
          "data": {
            "text/html": [
              "<div>\n",
              "<style scoped>\n",
              "    .dataframe tbody tr th:only-of-type {\n",
              "        vertical-align: middle;\n",
              "    }\n",
              "\n",
              "    .dataframe tbody tr th {\n",
              "        vertical-align: top;\n",
              "    }\n",
              "\n",
              "    .dataframe thead th {\n",
              "        text-align: right;\n",
              "    }\n",
              "</style>\n",
              "<table border=\"1\" class=\"dataframe\">\n",
              "  <thead>\n",
              "    <tr style=\"text-align: right;\">\n",
              "      <th></th>\n",
              "      <th>Value</th>\n",
              "      <th>Price</th>\n",
              "      <th>Pred</th>\n",
              "    </tr>\n",
              "    <tr>\n",
              "      <th>Date</th>\n",
              "      <th></th>\n",
              "      <th></th>\n",
              "      <th></th>\n",
              "    </tr>\n",
              "  </thead>\n",
              "  <tbody>\n",
              "    <tr>\n",
              "      <th>2021-05-25</th>\n",
              "      <td>26.23</td>\n",
              "      <td>1478.95</td>\n",
              "      <td>1511.16</td>\n",
              "    </tr>\n",
              "    <tr>\n",
              "      <th>2021-05-26</th>\n",
              "      <td>26.19</td>\n",
              "      <td>1477.05</td>\n",
              "      <td>1480.47</td>\n",
              "    </tr>\n",
              "    <tr>\n",
              "      <th>2021-05-27</th>\n",
              "      <td>26.29</td>\n",
              "      <td>1482.65</td>\n",
              "      <td>1481.62</td>\n",
              "    </tr>\n",
              "    <tr>\n",
              "      <th>2021-05-28</th>\n",
              "      <td>26.66</td>\n",
              "      <td>1503.45</td>\n",
              "      <td>1486.04</td>\n",
              "    </tr>\n",
              "    <tr>\n",
              "      <th>2021-05-31</th>\n",
              "      <td>26.88</td>\n",
              "      <td>1515.85</td>\n",
              "      <td>1507.07</td>\n",
              "    </tr>\n",
              "  </tbody>\n",
              "</table>\n",
              "</div>"
            ],
            "text/plain": [
              "            Value    Price     Pred\n",
              "Date                               \n",
              "2021-05-25  26.23  1478.95  1511.16\n",
              "2021-05-26  26.19  1477.05  1480.47\n",
              "2021-05-27  26.29  1482.65  1481.62\n",
              "2021-05-28  26.66  1503.45  1486.04\n",
              "2021-05-31  26.88  1515.85  1507.07"
            ]
          },
          "metadata": {
            "tags": []
          },
          "execution_count": 24
        }
      ]
    },
    {
      "cell_type": "markdown",
      "metadata": {
        "id": "vnlmmweUaLRB"
      },
      "source": [
        "### ARIMA model evaluation"
      ]
    },
    {
      "cell_type": "code",
      "metadata": {
        "id": "aNLKdyRlYTfz"
      },
      "source": [
        "def model_performance(actual, predicted):\n",
        "  \"\"\" This function will print the MAE, MSE, RMSE and Mean Absolute percentage error (MAPE)\n",
        "  This will also plot PACF an residual plot\"\"\"\n",
        "\n",
        "  #Mean Absolute error\n",
        "  mae = mean_absolute_error(actual, predicted).round(2)\n",
        "  print('The Mean Absolute Error is: ', mae)\n",
        "  \n",
        "  #Mean Squared Error \n",
        "  mse = mean_squared_error(actual, predicted).round(2)\n",
        "  print('The Mean Squared Error is: ', mse)\n",
        "\n",
        "  # Root Mean Squared Error\n",
        "  rmse = np.sqrt(mse).round(2)\n",
        "  print('The RMSE is: ', rmse )\n",
        "\n",
        "  # Mean Absolute percentage error\n",
        "  mape = 100*((actual-predicted)/actual).abs().mean()\n",
        "  print('The Mean Absolute Percentage Error is: ', mape)\n",
        "\n",
        "  # Residuals\n",
        "  residuals = actual- predicted\n",
        "  labels = actual.index\n",
        "  #fig,(ax1,ax2) = plt.subplot(2,1, figsize=(12,11))\n",
        "\n",
        "  # Plot Graph\n",
        "  plt.figure(figsize=(15,10))\n",
        "  \n",
        "  plt.subplot(2,1,1)\n",
        "  plt.plot(actual, color = 'red')\n",
        "  plt.plot(predicted, color = 'blue' )\n",
        "  plt.ylabel('Price')\n",
        "  plt.title('Predicted v/s Actual')\n",
        "\n",
        "  # Plot PACF\n",
        "  plt.subplot(2,1,2)\n",
        "  sgt.plot_acf(residuals, color= 'green')\n",
        "  plt.xlabel('Lags')\n",
        "  plt.ylabel('Autocorrelation')\n",
        "  plt.title('Autocorrelation of Residuals')\n",
        "\n",
        "  plt.tight_layout()\n",
        "  plt.show()"
      ],
      "execution_count": 25,
      "outputs": []
    },
    {
      "cell_type": "code",
      "metadata": {
        "colab": {
          "base_uri": "https://localhost:8080/",
          "height": 779
        },
        "id": "os13HU4QZhW_",
        "outputId": "b31a582a-f3c0-4306-ed13-6a5e0359802e"
      },
      "source": [
        "model_performance(data['Price'].iloc[train_size:],data['Pred'].iloc[train_size:])"
      ],
      "execution_count": 26,
      "outputs": [
        {
          "output_type": "stream",
          "text": [
            "The Mean Absolute Error is:  20.39\n",
            "The Mean Squared Error is:  718.3\n",
            "The RMSE is:  26.8\n",
            "The Mean Absolute Percentage Error is:  1.4124774989246776\n"
          ],
          "name": "stdout"
        },
        {
          "output_type": "display_data",
          "data": {
            "image/png": "[encoded data removed]",
            "text/plain": [
              "<Figure size 1080x720 with 2 Axes>"
            ]
          },
          "metadata": {
            "tags": [],
            "needs_background": "light"
          }
        },
        {
          "output_type": "display_data",
          "data": {
            "image/png": "[encoded data removed]",
            "text/plain": [
              "<Figure size 432x288 with 1 Axes>"
            ]
          },
          "metadata": {
            "tags": [],
            "needs_background": "light"
          }
        }
      ]
    },
    {
      "cell_type": "markdown",
      "metadata": {
        "id": "UjMIdNmXaNI2"
      },
      "source": [
        "### Trade Strategy- Long Short\n",
        "\n",
        "What are we trying to do in the strategy:\n",
        "- Create Signal - When the predicted price is higher than previous day actual price, create a signal +1, or -1 if not.\n",
        "- Signal implies the direction for the returns.\n",
        "- *Strategy* returns- Creating a hypothetical return (Pred return), in case the position was held throughout the tennure. "
      ]
    },
    {
      "cell_type": "code",
      "metadata": {
        "colab": {
          "base_uri": "https://localhost:8080/",
          "height": 543
        },
        "id": "zqw-0tosZrLi",
        "outputId": "6f721db7-e6ef-4142-b767-482fee357a79"
      },
      "source": [
        "data['Return'] = data['Price'].pct_change()\n",
        "data['Position'] = np.where(data['Pred'].shift(1) < data['Pred'], 1,-1)\n",
        "\n",
        "data['Strategy_return'] = data['Return']* data['Position']\n",
        "\n",
        "data.tail(15)"
      ],
      "execution_count": 36,
      "outputs": [
        {
          "output_type": "execute_result",
          "data": {
            "text/html": [
              "<div>\n",
              "<style scoped>\n",
              "    .dataframe tbody tr th:only-of-type {\n",
              "        vertical-align: middle;\n",
              "    }\n",
              "\n",
              "    .dataframe tbody tr th {\n",
              "        vertical-align: top;\n",
              "    }\n",
              "\n",
              "    .dataframe thead th {\n",
              "        text-align: right;\n",
              "    }\n",
              "</style>\n",
              "<table border=\"1\" class=\"dataframe\">\n",
              "  <thead>\n",
              "    <tr style=\"text-align: right;\">\n",
              "      <th></th>\n",
              "      <th>Value</th>\n",
              "      <th>Price</th>\n",
              "      <th>Pred</th>\n",
              "      <th>Return</th>\n",
              "      <th>Position</th>\n",
              "      <th>Strategy_return</th>\n",
              "    </tr>\n",
              "    <tr>\n",
              "      <th>Date</th>\n",
              "      <th></th>\n",
              "      <th></th>\n",
              "      <th></th>\n",
              "      <th></th>\n",
              "      <th></th>\n",
              "      <th></th>\n",
              "    </tr>\n",
              "  </thead>\n",
              "  <tbody>\n",
              "    <tr>\n",
              "      <th>2021-05-11</th>\n",
              "      <td>24.88</td>\n",
              "      <td>1403.55</td>\n",
              "      <td>1422.14</td>\n",
              "      <td>-0.011480</td>\n",
              "      <td>1</td>\n",
              "      <td>-0.011480</td>\n",
              "    </tr>\n",
              "    <tr>\n",
              "      <th>2021-05-12</th>\n",
              "      <td>24.81</td>\n",
              "      <td>1399.50</td>\n",
              "      <td>1405.29</td>\n",
              "      <td>-0.002886</td>\n",
              "      <td>-1</td>\n",
              "      <td>0.002886</td>\n",
              "    </tr>\n",
              "    <tr>\n",
              "      <th>2021-05-13</th>\n",
              "      <td>24.58</td>\n",
              "      <td>1386.85</td>\n",
              "      <td>1402.13</td>\n",
              "      <td>-0.009039</td>\n",
              "      <td>-1</td>\n",
              "      <td>0.009039</td>\n",
              "    </tr>\n",
              "    <tr>\n",
              "      <th>2021-05-14</th>\n",
              "      <td>24.58</td>\n",
              "      <td>1386.85</td>\n",
              "      <td>1388.76</td>\n",
              "      <td>0.000000</td>\n",
              "      <td>-1</td>\n",
              "      <td>-0.000000</td>\n",
              "    </tr>\n",
              "    <tr>\n",
              "      <th>2021-05-17</th>\n",
              "      <td>25.53</td>\n",
              "      <td>1440.25</td>\n",
              "      <td>1389.41</td>\n",
              "      <td>0.038505</td>\n",
              "      <td>1</td>\n",
              "      <td>0.038505</td>\n",
              "    </tr>\n",
              "    <tr>\n",
              "      <th>2021-05-18</th>\n",
              "      <td>26.17</td>\n",
              "      <td>1476.70</td>\n",
              "      <td>1444.75</td>\n",
              "      <td>0.025308</td>\n",
              "      <td>1</td>\n",
              "      <td>0.025308</td>\n",
              "    </tr>\n",
              "    <tr>\n",
              "      <th>2021-05-19</th>\n",
              "      <td>25.85</td>\n",
              "      <td>1458.20</td>\n",
              "      <td>1479.70</td>\n",
              "      <td>-0.012528</td>\n",
              "      <td>1</td>\n",
              "      <td>-0.012528</td>\n",
              "    </tr>\n",
              "    <tr>\n",
              "      <th>2021-05-20</th>\n",
              "      <td>25.40</td>\n",
              "      <td>1432.80</td>\n",
              "      <td>1459.21</td>\n",
              "      <td>-0.017419</td>\n",
              "      <td>-1</td>\n",
              "      <td>0.017419</td>\n",
              "    </tr>\n",
              "    <tr>\n",
              "      <th>2021-05-21</th>\n",
              "      <td>26.54</td>\n",
              "      <td>1497.30</td>\n",
              "      <td>1435.06</td>\n",
              "      <td>0.045017</td>\n",
              "      <td>-1</td>\n",
              "      <td>-0.045017</td>\n",
              "    </tr>\n",
              "    <tr>\n",
              "      <th>2021-05-24</th>\n",
              "      <td>26.78</td>\n",
              "      <td>1509.95</td>\n",
              "      <td>1503.76</td>\n",
              "      <td>0.008449</td>\n",
              "      <td>1</td>\n",
              "      <td>0.008449</td>\n",
              "    </tr>\n",
              "    <tr>\n",
              "      <th>2021-05-25</th>\n",
              "      <td>26.23</td>\n",
              "      <td>1478.95</td>\n",
              "      <td>1511.16</td>\n",
              "      <td>-0.020530</td>\n",
              "      <td>1</td>\n",
              "      <td>-0.020530</td>\n",
              "    </tr>\n",
              "    <tr>\n",
              "      <th>2021-05-26</th>\n",
              "      <td>26.19</td>\n",
              "      <td>1477.05</td>\n",
              "      <td>1480.47</td>\n",
              "      <td>-0.001285</td>\n",
              "      <td>-1</td>\n",
              "      <td>0.001285</td>\n",
              "    </tr>\n",
              "    <tr>\n",
              "      <th>2021-05-27</th>\n",
              "      <td>26.29</td>\n",
              "      <td>1482.65</td>\n",
              "      <td>1481.62</td>\n",
              "      <td>0.003791</td>\n",
              "      <td>1</td>\n",
              "      <td>0.003791</td>\n",
              "    </tr>\n",
              "    <tr>\n",
              "      <th>2021-05-28</th>\n",
              "      <td>26.66</td>\n",
              "      <td>1503.45</td>\n",
              "      <td>1486.04</td>\n",
              "      <td>0.014029</td>\n",
              "      <td>1</td>\n",
              "      <td>0.014029</td>\n",
              "    </tr>\n",
              "    <tr>\n",
              "      <th>2021-05-31</th>\n",
              "      <td>26.88</td>\n",
              "      <td>1515.85</td>\n",
              "      <td>1507.07</td>\n",
              "      <td>0.008248</td>\n",
              "      <td>1</td>\n",
              "      <td>0.008248</td>\n",
              "    </tr>\n",
              "  </tbody>\n",
              "</table>\n",
              "</div>"
            ],
            "text/plain": [
              "            Value    Price     Pred    Return  Position  Strategy_return\n",
              "Date                                                                    \n",
              "2021-05-11  24.88  1403.55  1422.14 -0.011480         1        -0.011480\n",
              "2021-05-12  24.81  1399.50  1405.29 -0.002886        -1         0.002886\n",
              "2021-05-13  24.58  1386.85  1402.13 -0.009039        -1         0.009039\n",
              "2021-05-14  24.58  1386.85  1388.76  0.000000        -1        -0.000000\n",
              "2021-05-17  25.53  1440.25  1389.41  0.038505         1         0.038505\n",
              "2021-05-18  26.17  1476.70  1444.75  0.025308         1         0.025308\n",
              "2021-05-19  25.85  1458.20  1479.70 -0.012528         1        -0.012528\n",
              "2021-05-20  25.40  1432.80  1459.21 -0.017419        -1         0.017419\n",
              "2021-05-21  26.54  1497.30  1435.06  0.045017        -1        -0.045017\n",
              "2021-05-24  26.78  1509.95  1503.76  0.008449         1         0.008449\n",
              "2021-05-25  26.23  1478.95  1511.16 -0.020530         1        -0.020530\n",
              "2021-05-26  26.19  1477.05  1480.47 -0.001285        -1         0.001285\n",
              "2021-05-27  26.29  1482.65  1481.62  0.003791         1         0.003791\n",
              "2021-05-28  26.66  1503.45  1486.04  0.014029         1         0.014029\n",
              "2021-05-31  26.88  1515.85  1507.07  0.008248         1         0.008248"
            ]
          },
          "metadata": {
            "tags": []
          },
          "execution_count": 36
        }
      ]
    },
    {
      "cell_type": "code",
      "metadata": {
        "id": "lQ6Y_lxMaZKj"
      },
      "source": [
        "# Define a function to analyse the returns\n",
        "\n",
        "def analyse_strategy(return_series):\n",
        "  \"\"\" Takes the Returns column as input and performs few calculations\n",
        "  Sharpe ratio- Return to risk ratio\n",
        "  Cumulative return - Month over month return calculated\n",
        "  Drawdown calculation\n",
        "  Print statistics\n",
        "  \"\"\"\n",
        "  sharpe_ratio = return_series.mean()/return_series.std()*np.sqrt(252)\n",
        "\n",
        "  #Cumulative Returns\n",
        "  cum_return = (return_series+1).cumprod()\n",
        "  \n",
        "\n",
        "  print('The Sharpe Ratio is %.2f' % sharpe_ratio)\n",
        "  print('The cumulative return is %.2f' % (((cum_return[-1])-1)*100) + \"%\") \n",
        "  print('The std dev is: ', return_series.std())\n",
        "  print( ' The number of days for retrn assessment: ', int(len(return_series)))\n",
        "  # Plots\n",
        "  labels = return_series.index\n",
        "  plt.figure(figsize=(15,10))\n",
        "\n",
        "  #Plot strategy return\n",
        "  plt.plot(cum_return, color = 'b')\n",
        "  plt.title('Cumulative returns', fontsize=14)\n",
        "  plt.ylabel('Cumulative Return')\n",
        "  plt.xlabel('Date')"
      ],
      "execution_count": 37,
      "outputs": []
    },
    {
      "cell_type": "code",
      "metadata": {
        "colab": {
          "base_uri": "https://localhost:8080/",
          "height": 515
        },
        "id": "C1T3093ldstW",
        "outputId": "a9ff3d46-e3bb-4c84-d8a1-c2f684b53336"
      },
      "source": [
        "analyse_strategy(data['Strategy_return'].iloc[train_size:])"
      ],
      "execution_count": 38,
      "outputs": [
        {
          "output_type": "stream",
          "text": [
            "The Sharpe Ratio is 1.01\n",
            "The cumulative return is 17.04%\n",
            "The std dev is:  0.01851381215259276\n",
            " The number of days for retrn assessment:  157\n"
          ],
          "name": "stdout"
        },
        {
          "output_type": "display_data",
          "data": {
            "image/png": "[encoded data removed]",
            "text/plain": [
              "<Figure size 1080x720 with 1 Axes>"
            ]
          },
          "metadata": {
            "tags": [],
            "needs_background": "light"
          }
        }
      ]
    },
    {
      "cell_type": "markdown",
      "metadata": {
        "id": "MpcmudWVfBzX"
      },
      "source": [
        "### Trade Strategy- Long Only\n",
        "\n",
        "What are we trying to do in the strategy:\n",
        "- Create Signal - When the predicted price is higher than previous day actual price, create a signal +1, or 0.\n",
        "- Signal implies the direction for the returns.\n",
        "- *Strategy* returns- Creating a hypothetical return (Pred return), in case the position was held throughout the tennure. "
      ]
    },
    {
      "cell_type": "code",
      "metadata": {
        "colab": {
          "base_uri": "https://localhost:8080/",
          "height": 543
        },
        "id": "TciyRo5dd0Lo",
        "outputId": "d873f143-bfbe-4ad4-a3ca-8ad32f120739"
      },
      "source": [
        "data['Return'] = data['Price'].pct_change()\n",
        "data['Position'] = np.where(data['Pred'].shift(1) < data['Pred'], 1,0)\n",
        "\n",
        "data['Strategy_return'] = data['Return']* data['Position']\n",
        "\n",
        "data.tail(15)"
      ],
      "execution_count": 39,
      "outputs": [
        {
          "output_type": "execute_result",
          "data": {
            "text/html": [
              "<div>\n",
              "<style scoped>\n",
              "    .dataframe tbody tr th:only-of-type {\n",
              "        vertical-align: middle;\n",
              "    }\n",
              "\n",
              "    .dataframe tbody tr th {\n",
              "        vertical-align: top;\n",
              "    }\n",
              "\n",
              "    .dataframe thead th {\n",
              "        text-align: right;\n",
              "    }\n",
              "</style>\n",
              "<table border=\"1\" class=\"dataframe\">\n",
              "  <thead>\n",
              "    <tr style=\"text-align: right;\">\n",
              "      <th></th>\n",
              "      <th>Value</th>\n",
              "      <th>Price</th>\n",
              "      <th>Pred</th>\n",
              "      <th>Return</th>\n",
              "      <th>Position</th>\n",
              "      <th>Strategy_return</th>\n",
              "    </tr>\n",
              "    <tr>\n",
              "      <th>Date</th>\n",
              "      <th></th>\n",
              "      <th></th>\n",
              "      <th></th>\n",
              "      <th></th>\n",
              "      <th></th>\n",
              "      <th></th>\n",
              "    </tr>\n",
              "  </thead>\n",
              "  <tbody>\n",
              "    <tr>\n",
              "      <th>2021-05-11</th>\n",
              "      <td>24.88</td>\n",
              "      <td>1403.55</td>\n",
              "      <td>1422.14</td>\n",
              "      <td>-0.011480</td>\n",
              "      <td>1</td>\n",
              "      <td>-0.011480</td>\n",
              "    </tr>\n",
              "    <tr>\n",
              "      <th>2021-05-12</th>\n",
              "      <td>24.81</td>\n",
              "      <td>1399.50</td>\n",
              "      <td>1405.29</td>\n",
              "      <td>-0.002886</td>\n",
              "      <td>0</td>\n",
              "      <td>-0.000000</td>\n",
              "    </tr>\n",
              "    <tr>\n",
              "      <th>2021-05-13</th>\n",
              "      <td>24.58</td>\n",
              "      <td>1386.85</td>\n",
              "      <td>1402.13</td>\n",
              "      <td>-0.009039</td>\n",
              "      <td>0</td>\n",
              "      <td>-0.000000</td>\n",
              "    </tr>\n",
              "    <tr>\n",
              "      <th>2021-05-14</th>\n",
              "      <td>24.58</td>\n",
              "      <td>1386.85</td>\n",
              "      <td>1388.76</td>\n",
              "      <td>0.000000</td>\n",
              "      <td>0</td>\n",
              "      <td>0.000000</td>\n",
              "    </tr>\n",
              "    <tr>\n",
              "      <th>2021-05-17</th>\n",
              "      <td>25.53</td>\n",
              "      <td>1440.25</td>\n",
              "      <td>1389.41</td>\n",
              "      <td>0.038505</td>\n",
              "      <td>1</td>\n",
              "      <td>0.038505</td>\n",
              "    </tr>\n",
              "    <tr>\n",
              "      <th>2021-05-18</th>\n",
              "      <td>26.17</td>\n",
              "      <td>1476.70</td>\n",
              "      <td>1444.75</td>\n",
              "      <td>0.025308</td>\n",
              "      <td>1</td>\n",
              "      <td>0.025308</td>\n",
              "    </tr>\n",
              "    <tr>\n",
              "      <th>2021-05-19</th>\n",
              "      <td>25.85</td>\n",
              "      <td>1458.20</td>\n",
              "      <td>1479.70</td>\n",
              "      <td>-0.012528</td>\n",
              "      <td>1</td>\n",
              "      <td>-0.012528</td>\n",
              "    </tr>\n",
              "    <tr>\n",
              "      <th>2021-05-20</th>\n",
              "      <td>25.40</td>\n",
              "      <td>1432.80</td>\n",
              "      <td>1459.21</td>\n",
              "      <td>-0.017419</td>\n",
              "      <td>0</td>\n",
              "      <td>-0.000000</td>\n",
              "    </tr>\n",
              "    <tr>\n",
              "      <th>2021-05-21</th>\n",
              "      <td>26.54</td>\n",
              "      <td>1497.30</td>\n",
              "      <td>1435.06</td>\n",
              "      <td>0.045017</td>\n",
              "      <td>0</td>\n",
              "      <td>0.000000</td>\n",
              "    </tr>\n",
              "    <tr>\n",
              "      <th>2021-05-24</th>\n",
              "      <td>26.78</td>\n",
              "      <td>1509.95</td>\n",
              "      <td>1503.76</td>\n",
              "      <td>0.008449</td>\n",
              "      <td>1</td>\n",
              "      <td>0.008449</td>\n",
              "    </tr>\n",
              "    <tr>\n",
              "      <th>2021-05-25</th>\n",
              "      <td>26.23</td>\n",
              "      <td>1478.95</td>\n",
              "      <td>1511.16</td>\n",
              "      <td>-0.020530</td>\n",
              "      <td>1</td>\n",
              "      <td>-0.020530</td>\n",
              "    </tr>\n",
              "    <tr>\n",
              "      <th>2021-05-26</th>\n",
              "      <td>26.19</td>\n",
              "      <td>1477.05</td>\n",
              "      <td>1480.47</td>\n",
              "      <td>-0.001285</td>\n",
              "      <td>0</td>\n",
              "      <td>-0.000000</td>\n",
              "    </tr>\n",
              "    <tr>\n",
              "      <th>2021-05-27</th>\n",
              "      <td>26.29</td>\n",
              "      <td>1482.65</td>\n",
              "      <td>1481.62</td>\n",
              "      <td>0.003791</td>\n",
              "      <td>1</td>\n",
              "      <td>0.003791</td>\n",
              "    </tr>\n",
              "    <tr>\n",
              "      <th>2021-05-28</th>\n",
              "      <td>26.66</td>\n",
              "      <td>1503.45</td>\n",
              "      <td>1486.04</td>\n",
              "      <td>0.014029</td>\n",
              "      <td>1</td>\n",
              "      <td>0.014029</td>\n",
              "    </tr>\n",
              "    <tr>\n",
              "      <th>2021-05-31</th>\n",
              "      <td>26.88</td>\n",
              "      <td>1515.85</td>\n",
              "      <td>1507.07</td>\n",
              "      <td>0.008248</td>\n",
              "      <td>1</td>\n",
              "      <td>0.008248</td>\n",
              "    </tr>\n",
              "  </tbody>\n",
              "</table>\n",
              "</div>"
            ],
            "text/plain": [
              "            Value    Price     Pred    Return  Position  Strategy_return\n",
              "Date                                                                    \n",
              "2021-05-11  24.88  1403.55  1422.14 -0.011480         1        -0.011480\n",
              "2021-05-12  24.81  1399.50  1405.29 -0.002886         0        -0.000000\n",
              "2021-05-13  24.58  1386.85  1402.13 -0.009039         0        -0.000000\n",
              "2021-05-14  24.58  1386.85  1388.76  0.000000         0         0.000000\n",
              "2021-05-17  25.53  1440.25  1389.41  0.038505         1         0.038505\n",
              "2021-05-18  26.17  1476.70  1444.75  0.025308         1         0.025308\n",
              "2021-05-19  25.85  1458.20  1479.70 -0.012528         1        -0.012528\n",
              "2021-05-20  25.40  1432.80  1459.21 -0.017419         0        -0.000000\n",
              "2021-05-21  26.54  1497.30  1435.06  0.045017         0         0.000000\n",
              "2021-05-24  26.78  1509.95  1503.76  0.008449         1         0.008449\n",
              "2021-05-25  26.23  1478.95  1511.16 -0.020530         1        -0.020530\n",
              "2021-05-26  26.19  1477.05  1480.47 -0.001285         0        -0.000000\n",
              "2021-05-27  26.29  1482.65  1481.62  0.003791         1         0.003791\n",
              "2021-05-28  26.66  1503.45  1486.04  0.014029         1         0.014029\n",
              "2021-05-31  26.88  1515.85  1507.07  0.008248         1         0.008248"
            ]
          },
          "metadata": {
            "tags": []
          },
          "execution_count": 39
        }
      ]
    },
    {
      "cell_type": "code",
      "metadata": {
        "colab": {
          "base_uri": "https://localhost:8080/",
          "height": 515
        },
        "id": "HYGgdj3KfOx5",
        "outputId": "944bbaea-19c9-4c08-c29b-111a3c833954"
      },
      "source": [
        "analyse_strategy(data['Strategy_return'].iloc[train_size:])"
      ],
      "execution_count": 40,
      "outputs": [
        {
          "output_type": "stream",
          "text": [
            "The Sharpe Ratio is 1.56\n",
            "The cumulative return is 21.44%\n",
            "The std dev is:  0.013541881767528699\n",
            " The number of days for retrn assessment:  157\n"
          ],
          "name": "stdout"
        },
        {
          "output_type": "display_data",
          "data": {
            "image/png": "[encoded data removed]",
            "text/plain": [
              "<Figure size 1080x720 with 1 Axes>"
            ]
          },
          "metadata": {
            "tags": [],
            "needs_background": "light"
          }
        }
      ]
    },
    {
      "cell_type": "code",
      "metadata": {
        "id": "bX0QTQWIfQCy"
      },
      "source": [
        ""
      ],
      "execution_count": 31,
      "outputs": []
    }
  ]
}