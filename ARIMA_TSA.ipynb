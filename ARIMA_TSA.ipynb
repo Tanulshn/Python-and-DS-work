{
  "nbformat": 4,
  "nbformat_minor": 0,
  "metadata": {
    "colab": {
      "name": "ARIMA TSA.ipynb",
      "provenance": [],
      "collapsed_sections": [],
      "toc_visible": true,
      "mount_file_id": "1ey4lXtQ8ujuq4yj4fAC6Lu9YyFt9ZZDR",
      "authorship_tag": "ABX9TyODYsWjFYicgQLQ7L2vwqj0",
      "include_colab_link": true
    },
    "kernelspec": {
      "name": "python3",
      "display_name": "Python 3"
    },
    "language_info": {
      "name": "python"
    }
  },
  "cells": [
    {
      "cell_type": "markdown",
      "metadata": {
        "id": "view-in-github",
        "colab_type": "text"
      },
      "source": [
        "<a href=\"https://colab.research.google.com/github/Tanulshn/Python-and-DS-work/blob/main/ARIMA_TSA.ipynb\" target=\"_parent\"><img src=\"https://colab.research.google.com/assets/colab-badge.svg\" alt=\"Open In Colab\"/></a>"
      ]
    },
    {
      "cell_type": "markdown",
      "metadata": {
        "id": "_yLN9ylEU_cl"
      },
      "source": [
        ""
      ]
    },
    {
      "cell_type": "code",
      "metadata": {
        "id": "losOLZTeTipN"
      },
      "source": [
        "# Basic Package\n",
        "import pandas as pd\n",
        "import numpy as np\n",
        "import seaborn as sns\n",
        "import matplotlib.pyplot as plt\n",
        "%matplotlib inline\n",
        "plt.style.use('seaborn-darkgrid')\n",
        "\n",
        "# Warnings \n",
        "import warnings\n",
        "warnings.simplefilter(action='ignore')\n"
      ],
      "execution_count": 1,
      "outputs": []
    },
    {
      "cell_type": "markdown",
      "metadata": {
        "id": "oZ6EHExdbZzr"
      },
      "source": [
        "### Data Preprocessing"
      ]
    },
    {
      "cell_type": "code",
      "metadata": {
        "colab": {
          "base_uri": "https://localhost:8080/",
          "height": 667
        },
        "id": "_voSF3iyaSOc",
        "outputId": "f4cb9c7d-357c-490b-eb44-c4c45ad677a5"
      },
      "source": [
        "# Read the data\n",
        "raw_data = pd.read_csv('/content/drive/MyDrive/Colab Notebooks/LnT csv.csv')\n",
        "raw_data.head(20)"
      ],
      "execution_count": 2,
      "outputs": [
        {
          "output_type": "execute_result",
          "data": {
            "text/html": [
              "<div>\n",
              "<style scoped>\n",
              "    .dataframe tbody tr th:only-of-type {\n",
              "        vertical-align: middle;\n",
              "    }\n",
              "\n",
              "    .dataframe tbody tr th {\n",
              "        vertical-align: top;\n",
              "    }\n",
              "\n",
              "    .dataframe thead th {\n",
              "        text-align: right;\n",
              "    }\n",
              "</style>\n",
              "<table border=\"1\" class=\"dataframe\">\n",
              "  <thead>\n",
              "    <tr style=\"text-align: right;\">\n",
              "      <th></th>\n",
              "      <th>Date</th>\n",
              "      <th>Value</th>\n",
              "      <th>Price</th>\n",
              "    </tr>\n",
              "  </thead>\n",
              "  <tbody>\n",
              "    <tr>\n",
              "      <th>0</th>\n",
              "      <td>6/1/2019</td>\n",
              "      <td>No Data FOund</td>\n",
              "      <td>No Data FOund</td>\n",
              "    </tr>\n",
              "    <tr>\n",
              "      <th>1</th>\n",
              "      <td>6/2/2019</td>\n",
              "      <td>No Data FOund</td>\n",
              "      <td>No Data FOund</td>\n",
              "    </tr>\n",
              "    <tr>\n",
              "      <th>2</th>\n",
              "      <td>6/3/2019</td>\n",
              "      <td>29.20660303</td>\n",
              "      <td>1559.4</td>\n",
              "    </tr>\n",
              "    <tr>\n",
              "      <th>3</th>\n",
              "      <td>6/4/2019</td>\n",
              "      <td>29.40138864</td>\n",
              "      <td>1569.8</td>\n",
              "    </tr>\n",
              "    <tr>\n",
              "      <th>4</th>\n",
              "      <td>6/5/2019</td>\n",
              "      <td>No Data FOund</td>\n",
              "      <td>No Data FOund</td>\n",
              "    </tr>\n",
              "    <tr>\n",
              "      <th>5</th>\n",
              "      <td>6/6/2019</td>\n",
              "      <td>28.39187478</td>\n",
              "      <td>1515.9</td>\n",
              "    </tr>\n",
              "    <tr>\n",
              "      <th>6</th>\n",
              "      <td>6/7/2019</td>\n",
              "      <td>28.35347954</td>\n",
              "      <td>1513.85</td>\n",
              "    </tr>\n",
              "    <tr>\n",
              "      <th>7</th>\n",
              "      <td>6/8/2019</td>\n",
              "      <td>No Data FOund</td>\n",
              "      <td>No Data FOund</td>\n",
              "    </tr>\n",
              "    <tr>\n",
              "      <th>8</th>\n",
              "      <td>6/9/2019</td>\n",
              "      <td>No Data FOund</td>\n",
              "      <td>No Data FOund</td>\n",
              "    </tr>\n",
              "    <tr>\n",
              "      <th>9</th>\n",
              "      <td>6/10/2019</td>\n",
              "      <td>28.69529082</td>\n",
              "      <td>1532.1</td>\n",
              "    </tr>\n",
              "    <tr>\n",
              "      <th>10</th>\n",
              "      <td>6/11/2019</td>\n",
              "      <td>28.54920162</td>\n",
              "      <td>1524.3</td>\n",
              "    </tr>\n",
              "    <tr>\n",
              "      <th>11</th>\n",
              "      <td>6/12/2019</td>\n",
              "      <td>28.26732437</td>\n",
              "      <td>1509.25</td>\n",
              "    </tr>\n",
              "    <tr>\n",
              "      <th>12</th>\n",
              "      <td>6/13/2019</td>\n",
              "      <td>28.42277827</td>\n",
              "      <td>1517.55</td>\n",
              "    </tr>\n",
              "    <tr>\n",
              "      <th>13</th>\n",
              "      <td>6/14/2019</td>\n",
              "      <td>28.58666039</td>\n",
              "      <td>1526.3</td>\n",
              "    </tr>\n",
              "    <tr>\n",
              "      <th>14</th>\n",
              "      <td>6/15/2019</td>\n",
              "      <td>No Data FOund</td>\n",
              "      <td>No Data FOund</td>\n",
              "    </tr>\n",
              "    <tr>\n",
              "      <th>15</th>\n",
              "      <td>6/16/2019</td>\n",
              "      <td>No Data FOund</td>\n",
              "      <td>No Data FOund</td>\n",
              "    </tr>\n",
              "    <tr>\n",
              "      <th>16</th>\n",
              "      <td>6/17/2019</td>\n",
              "      <td>28.07066583</td>\n",
              "      <td>1498.75</td>\n",
              "    </tr>\n",
              "    <tr>\n",
              "      <th>17</th>\n",
              "      <td>6/18/2019</td>\n",
              "      <td>28.1933433</td>\n",
              "      <td>1505.3</td>\n",
              "    </tr>\n",
              "    <tr>\n",
              "      <th>18</th>\n",
              "      <td>6/19/2019</td>\n",
              "      <td>28.19053389</td>\n",
              "      <td>1505.15</td>\n",
              "    </tr>\n",
              "    <tr>\n",
              "      <th>19</th>\n",
              "      <td>6/20/2019</td>\n",
              "      <td>29.16352545</td>\n",
              "      <td>1557.1</td>\n",
              "    </tr>\n",
              "  </tbody>\n",
              "</table>\n",
              "</div>"
            ],
            "text/plain": [
              "         Date          Value          Price\n",
              "0    6/1/2019  No Data FOund  No Data FOund\n",
              "1    6/2/2019  No Data FOund  No Data FOund\n",
              "2    6/3/2019    29.20660303         1559.4\n",
              "3    6/4/2019    29.40138864         1569.8\n",
              "4    6/5/2019  No Data FOund  No Data FOund\n",
              "5    6/6/2019    28.39187478         1515.9\n",
              "6    6/7/2019    28.35347954        1513.85\n",
              "7    6/8/2019  No Data FOund  No Data FOund\n",
              "8    6/9/2019  No Data FOund  No Data FOund\n",
              "9   6/10/2019    28.69529082         1532.1\n",
              "10  6/11/2019    28.54920162         1524.3\n",
              "11  6/12/2019    28.26732437        1509.25\n",
              "12  6/13/2019    28.42277827        1517.55\n",
              "13  6/14/2019    28.58666039         1526.3\n",
              "14  6/15/2019  No Data FOund  No Data FOund\n",
              "15  6/16/2019  No Data FOund  No Data FOund\n",
              "16  6/17/2019    28.07066583        1498.75\n",
              "17  6/18/2019     28.1933433         1505.3\n",
              "18  6/19/2019    28.19053389        1505.15\n",
              "19  6/20/2019    29.16352545         1557.1"
            ]
          },
          "metadata": {
            "tags": []
          },
          "execution_count": 2
        }
      ]
    },
    {
      "cell_type": "code",
      "metadata": {
        "colab": {
          "base_uri": "https://localhost:8080/"
        },
        "id": "BrZD8ifycjDf",
        "outputId": "b5b9fed6-fdba-4f80-a889-17de39b5f723"
      },
      "source": [
        "df=raw_data.copy()\n",
        "df.info()"
      ],
      "execution_count": 3,
      "outputs": [
        {
          "output_type": "stream",
          "text": [
            "<class 'pandas.core.frame.DataFrame'>\n",
            "RangeIndex: 731 entries, 0 to 730\n",
            "Data columns (total 3 columns):\n",
            " #   Column  Non-Null Count  Dtype \n",
            "---  ------  --------------  ----- \n",
            " 0   Date    731 non-null    object\n",
            " 1   Value   731 non-null    object\n",
            " 2   Price   731 non-null    object\n",
            "dtypes: object(3)\n",
            "memory usage: 17.3+ KB\n"
          ],
          "name": "stdout"
        }
      ]
    },
    {
      "cell_type": "code",
      "metadata": {
        "colab": {
          "base_uri": "https://localhost:8080/"
        },
        "id": "jmDEw1l3dbxv",
        "outputId": "bb38f9bc-92ba-40a5-811a-685f3583cf37"
      },
      "source": [
        "# Change the dtype\n",
        "for i in (['Value','Price']):\n",
        "  df[i]=pd.to_numeric(raw_data[i], errors= 'coerce').round(2)\n",
        "df.info()"
      ],
      "execution_count": 4,
      "outputs": [
        {
          "output_type": "stream",
          "text": [
            "<class 'pandas.core.frame.DataFrame'>\n",
            "RangeIndex: 731 entries, 0 to 730\n",
            "Data columns (total 3 columns):\n",
            " #   Column  Non-Null Count  Dtype  \n",
            "---  ------  --------------  -----  \n",
            " 0   Date    731 non-null    object \n",
            " 1   Value   494 non-null    float64\n",
            " 2   Price   494 non-null    float64\n",
            "dtypes: float64(2), object(1)\n",
            "memory usage: 17.3+ KB\n"
          ],
          "name": "stdout"
        }
      ]
    },
    {
      "cell_type": "code",
      "metadata": {
        "colab": {
          "base_uri": "https://localhost:8080/",
          "height": 524
        },
        "id": "5uneHIwppI9E",
        "outputId": "7f4476f6-8817-40d1-b304-d6f751d06ec1"
      },
      "source": [
        "df['Value'].plot()\n",
        "plt.show()\n",
        "df['Price'].plot()"
      ],
      "execution_count": 5,
      "outputs": [
        {
          "output_type": "display_data",
          "data": {
            "image/png": "[encoded data removed]",
            "text/plain": [
              "<Figure size 432x288 with 1 Axes>"
            ]
          },
          "metadata": {
            "tags": [],
            "needs_background": "light"
          }
        },
        {
          "output_type": "execute_result",
          "data": {
            "text/plain": [
              "<matplotlib.axes._subplots.AxesSubplot at 0x7f3f36579d90>"
            ]
          },
          "metadata": {
            "tags": []
          },
          "execution_count": 5
        },
        {
          "output_type": "display_data",
          "data": {
            "image/png": "[encoded data removed]",
            "text/plain": [
              "<Figure size 432x288 with 1 Axes>"
            ]
          },
          "metadata": {
            "tags": [],
            "needs_background": "light"
          }
        }
      ]
    },
    {
      "cell_type": "code",
      "metadata": {
        "colab": {
          "base_uri": "https://localhost:8080/",
          "height": 111
        },
        "id": "oM_OUgWRpjjL",
        "outputId": "c95003fe-f146-4396-d3cb-3eb60da338ef"
      },
      "source": [
        "df.corr()"
      ],
      "execution_count": 6,
      "outputs": [
        {
          "output_type": "execute_result",
          "data": {
            "text/html": [
              "<div>\n",
              "<style scoped>\n",
              "    .dataframe tbody tr th:only-of-type {\n",
              "        vertical-align: middle;\n",
              "    }\n",
              "\n",
              "    .dataframe tbody tr th {\n",
              "        vertical-align: top;\n",
              "    }\n",
              "\n",
              "    .dataframe thead th {\n",
              "        text-align: right;\n",
              "    }\n",
              "</style>\n",
              "<table border=\"1\" class=\"dataframe\">\n",
              "  <thead>\n",
              "    <tr style=\"text-align: right;\">\n",
              "      <th></th>\n",
              "      <th>Value</th>\n",
              "      <th>Price</th>\n",
              "    </tr>\n",
              "  </thead>\n",
              "  <tbody>\n",
              "    <tr>\n",
              "      <th>Value</th>\n",
              "      <td>1.000000</td>\n",
              "      <td>0.314806</td>\n",
              "    </tr>\n",
              "    <tr>\n",
              "      <th>Price</th>\n",
              "      <td>0.314806</td>\n",
              "      <td>1.000000</td>\n",
              "    </tr>\n",
              "  </tbody>\n",
              "</table>\n",
              "</div>"
            ],
            "text/plain": [
              "          Value     Price\n",
              "Value  1.000000  0.314806\n",
              "Price  0.314806  1.000000"
            ]
          },
          "metadata": {
            "tags": []
          },
          "execution_count": 6
        }
      ]
    },
    {
      "cell_type": "markdown",
      "metadata": {
        "id": "LFxM7w82eK0l"
      },
      "source": [
        "#### Date-time formatting"
      ]
    },
    {
      "cell_type": "code",
      "metadata": {
        "colab": {
          "base_uri": "https://localhost:8080/"
        },
        "id": "3o3NOYTJeOc6",
        "outputId": "b27d8286-73e4-4d5e-8c67-0e5c27368ebd"
      },
      "source": [
        "df['Date'] = pd.to_datetime(df['Date'], dayfirst = False)\n",
        "df.set_index('Date', inplace=True)\n",
        "df.isnull().sum()"
      ],
      "execution_count": 7,
      "outputs": [
        {
          "output_type": "execute_result",
          "data": {
            "text/plain": [
              "Value    237\n",
              "Price    237\n",
              "dtype: int64"
            ]
          },
          "metadata": {
            "tags": []
          },
          "execution_count": 7
        }
      ]
    },
    {
      "cell_type": "code",
      "metadata": {
        "colab": {
          "base_uri": "https://localhost:8080/"
        },
        "id": "Ve3MhVjsg1hU",
        "outputId": "f4bd7eaf-68f9-4cf6-f068-93d85af06d77"
      },
      "source": [
        "# Business days time series\n",
        "data = df.resample('b').last()\n",
        "data.isnull().sum()"
      ],
      "execution_count": 8,
      "outputs": [
        {
          "output_type": "execute_result",
          "data": {
            "text/plain": [
              "Value    31\n",
              "Price    31\n",
              "dtype: int64"
            ]
          },
          "metadata": {
            "tags": []
          },
          "execution_count": 8
        }
      ]
    },
    {
      "cell_type": "code",
      "metadata": {
        "id": "szD52GP-xVE7"
      },
      "source": [
        "data.fillna(method='bfill', inplace=True)"
      ],
      "execution_count": 9,
      "outputs": []
    },
    {
      "cell_type": "code",
      "metadata": {
        "colab": {
          "base_uri": "https://localhost:8080/"
        },
        "id": "UPthM2RJkKnq",
        "outputId": "ed9aa83c-71bb-492c-884c-6a8625557585"
      },
      "source": [
        "data.isnull().sum()"
      ],
      "execution_count": 10,
      "outputs": [
        {
          "output_type": "execute_result",
          "data": {
            "text/plain": [
              "Value    0\n",
              "Price    0\n",
              "dtype: int64"
            ]
          },
          "metadata": {
            "tags": []
          },
          "execution_count": 10
        }
      ]
    },
    {
      "cell_type": "code",
      "metadata": {
        "colab": {
          "base_uri": "https://localhost:8080/"
        },
        "id": "sL_xYDY4m1ws",
        "outputId": "9c7c8be2-ccb9-44d8-bb82-30d95dc234c7"
      },
      "source": [
        "data.shape"
      ],
      "execution_count": 11,
      "outputs": [
        {
          "output_type": "execute_result",
          "data": {
            "text/plain": [
              "(522, 2)"
            ]
          },
          "metadata": {
            "tags": []
          },
          "execution_count": 11
        }
      ]
    },
    {
      "cell_type": "markdown",
      "metadata": {
        "id": "7YJ8HhLuOK7k"
      },
      "source": [
        "## Test for Stationarity"
      ]
    },
    {
      "cell_type": "code",
      "metadata": {
        "id": "HPRnafLHmihk"
      },
      "source": [
        "import statsmodels.tsa.stattools as sts\n",
        "from statsmodels.tsa.stattools import adfuller"
      ],
      "execution_count": 12,
      "outputs": []
    },
    {
      "cell_type": "code",
      "metadata": {
        "id": "N2v3BdtsOcZ9"
      },
      "source": [
        "# Define a function for Stationarity check\n",
        "\n",
        "def adfuller_test(series):\n",
        "  \"\"\" Takes the series and tests whether the series is stationary or not \n",
        "  by using ADFULLER test.\n",
        "  \"\"\"\n",
        "  result = adfuller(series)\n",
        "  labels = ['ADF Test stat', 'p-value', '# Lags', '# observations']\n",
        "  for value, label in zip(result,labels):\n",
        "    print(label, ': ', str(value))\n",
        "\n",
        "  if result[1]<=0.05:\n",
        "    print('Outcome: Strong evidence against the null hypothesis; reject H0; data has no unit root; DATA IS STATIONARY.')\n",
        "  else:\n",
        "    print('Outcome: Weak evidence against H0; accept H0, DATA IS NOT STATIONARY') \n"
      ],
      "execution_count": 13,
      "outputs": []
    },
    {
      "cell_type": "code",
      "metadata": {
        "colab": {
          "base_uri": "https://localhost:8080/"
        },
        "id": "ls_nxmOMPWtx",
        "outputId": "4cc015ec-9329-48a1-c952-6a3c314f73ff"
      },
      "source": [
        "adfuller_test(data['Price'])"
      ],
      "execution_count": 14,
      "outputs": [
        {
          "output_type": "stream",
          "text": [
            "ADF Test stat :  -1.3602889063716508\n",
            "p-value :  0.6011592102918991\n",
            "# Lags :  0\n",
            "# observations :  521\n",
            "Outcome: Weak evidence against H0; accept H0, DATA IS NOT STATIONARY\n"
          ],
          "name": "stdout"
        }
      ]
    },
    {
      "cell_type": "markdown",
      "metadata": {
        "id": "w1pOfXhWPell"
      },
      "source": [
        "Conclusion: The Data is not stationary\n",
        "We need to induce stationarity to be able to perform forecast through ARIMA"
      ]
    },
    {
      "cell_type": "code",
      "metadata": {
        "id": "_8VBO7_kPc6k"
      },
      "source": [
        ""
      ],
      "execution_count": 14,
      "outputs": []
    },
    {
      "cell_type": "markdown",
      "metadata": {
        "id": "YrKva34IPokx"
      },
      "source": [
        "### Induce Stationarity"
      ]
    },
    {
      "cell_type": "code",
      "metadata": {
        "colab": {
          "base_uri": "https://localhost:8080/",
          "height": 305
        },
        "id": "kseHimbCPr7u",
        "outputId": "a28552d3-e618-4697-a83b-be24d2f7d2a7"
      },
      "source": [
        "# First degree differencing\n",
        "stationary_series = data['Price'].diff(2).dropna()\n",
        "stationary_series.plot()"
      ],
      "execution_count": 15,
      "outputs": [
        {
          "output_type": "execute_result",
          "data": {
            "text/plain": [
              "<matplotlib.axes._subplots.AxesSubplot at 0x7f3f2c8e1150>"
            ]
          },
          "metadata": {
            "tags": []
          },
          "execution_count": 15
        },
        {
          "output_type": "display_data",
          "data": {
            "image/png": "[encoded data removed]",
            "text/plain": [
              "<Figure size 432x288 with 1 Axes>"
            ]
          },
          "metadata": {
            "tags": [],
            "needs_background": "light"
          }
        }
      ]
    },
    {
      "cell_type": "code",
      "metadata": {
        "id": "Lx-AcgZ9RzQK"
      },
      "source": [
        ""
      ],
      "execution_count": 15,
      "outputs": []
    },
    {
      "cell_type": "code",
      "metadata": {
        "colab": {
          "base_uri": "https://localhost:8080/"
        },
        "id": "uVv8JU1wP0b5",
        "outputId": "8b06cb74-62a7-4c05-eba8-50ea6348de19"
      },
      "source": [
        "# Check for stationarity\n",
        "adfuller_test(stationary_series)"
      ],
      "execution_count": 16,
      "outputs": [
        {
          "output_type": "stream",
          "text": [
            "ADF Test stat :  -4.047423751459808\n",
            "p-value :  0.001181563257353773\n",
            "# Lags :  19\n",
            "# observations :  500\n",
            "Outcome: Strong evidence against the null hypothesis; reject H0; data has no unit root; DATA IS STATIONARY.\n"
          ],
          "name": "stdout"
        }
      ]
    },
    {
      "cell_type": "markdown",
      "metadata": {
        "id": "v0XGiGRPQLo6"
      },
      "source": [
        "Now that the snew series is stationary, we can plot ACF and PACF to determine the p and q variables for ARIMA\n",
        "\n",
        "## Autocorrelation check"
      ]
    },
    {
      "cell_type": "code",
      "metadata": {
        "colab": {
          "base_uri": "https://localhost:8080/"
        },
        "id": "uwUDm8kBVGQX",
        "outputId": "aaacaeec-bb51-4281-c260-385f7221ae6e"
      },
      "source": [
        "# Create train set\n",
        "train_size = int(len(data)*0.7)\n",
        "train_size"
      ],
      "execution_count": 17,
      "outputs": [
        {
          "output_type": "execute_result",
          "data": {
            "text/plain": [
              "365"
            ]
          },
          "metadata": {
            "tags": []
          },
          "execution_count": 17
        }
      ]
    },
    {
      "cell_type": "code",
      "metadata": {
        "id": "WLUIaoseP5O7"
      },
      "source": [
        "import statsmodels.graphics.tsaplots as sgt"
      ],
      "execution_count": 18,
      "outputs": []
    },
    {
      "cell_type": "code",
      "metadata": {
        "colab": {
          "base_uri": "https://localhost:8080/",
          "height": 388
        },
        "id": "I1zomWKMQehi",
        "outputId": "9b005409-ede6-4e99-9bbf-591a359a2008"
      },
      "source": [
        "fig = plt.figure(figsize=(20,10))\n",
        "ax1 = fig.add_subplot(211)\n",
        "fig = sgt.plot_pacf(data['Price'][:train_size].diff(2).dropna(), lags=20, ax=ax1,zero= False)\n",
        "\n",
        "ax2 = fig.add_subplot(212)\n",
        "fig = sgt.plot_acf(data['Price'][:train_size].diff(2).dropna(), lags=20, ax=ax2, zero= False)\n",
        "\n"
      ],
      "execution_count": 19,
      "outputs": [
        {
          "output_type": "display_data",
          "data": {
            "image/png": "[encoded data removed]",
            "text/plain": [
              "<Figure size 1440x720 with 2 Axes>"
            ]
          },
          "metadata": {
            "tags": [],
            "needs_background": "light"
          }
        }
      ]
    },
    {
      "cell_type": "markdown",
      "metadata": {
        "id": "n0WvFJYXSgud"
      },
      "source": [
        "Conclusion:\n",
        "\n",
        "Value of p: No of lags for AR (PACF Plot): 3\n",
        "\n",
        "Value of q: No of lags for MA (ACF Plot):  1\n"
      ]
    },
    {
      "cell_type": "markdown",
      "metadata": {
        "id": "44x3qgZfS9P6"
      },
      "source": [
        "## ARIMA model"
      ]
    },
    {
      "cell_type": "code",
      "metadata": {
        "id": "Ftfbgu2hRwI5"
      },
      "source": [
        "# Import package\n",
        "from statsmodels.tsa.arima_model import ARIMA\n",
        "\n",
        "from sklearn.metrics import mean_squared_error\n",
        "from sklearn.metrics import mean_absolute_error"
      ],
      "execution_count": 20,
      "outputs": []
    },
    {
      "cell_type": "code",
      "metadata": {
        "id": "RAkHHcsmTBI_"
      },
      "source": [
        "# Define a function to call:\n",
        "\n",
        "def predict_ARIMA(train_data):\n",
        "  \"\"\" The fun will fit ARIMA on the train data and forecast\n",
        "  \"\"\"\n",
        "  model = ARIMA(train_data, order=(3,2,1))\n",
        "  \n",
        "  # Fit the model\n",
        "  try:\n",
        "    model_fit = model.fit(disp=0)\n",
        "    #Forecast\n",
        "    forecast = model_fit.forecast() \n",
        "    return forecast[0][0]\n",
        "  except:\n",
        "    pass"
      ],
      "execution_count": 21,
      "outputs": []
    },
    {
      "cell_type": "code",
      "metadata": {
        "colab": {
          "base_uri": "https://localhost:8080/"
        },
        "id": "hFYbDbcJT12Z",
        "outputId": "ebd59502-7946-461d-e1d5-c33a27ff7a4a"
      },
      "source": [
        "warnings.filterwarnings('ignore')\n",
        "warnings.filterwarnings('ignore', 'statsmodels.tsa.arima_model.ARMA',\n",
        "                        FutureWarning)\n",
        "\n",
        "# Find the params\n",
        "model = ARIMA(data['Price'][:train_size], order=(3, 2, 1))\n",
        "model_fit_0 = model.fit()\n",
        "print(model_fit_0.params.round(2))"
      ],
      "execution_count": 22,
      "outputs": [
        {
          "output_type": "stream",
          "text": [
            "const             0.01\n",
            "ar.L1.D2.Price    0.01\n",
            "ar.L2.D2.Price   -0.03\n",
            "ar.L3.D2.Price    0.03\n",
            "ma.L1.D2.Price   -1.00\n",
            "dtype: float64\n"
          ],
          "name": "stdout"
        }
      ]
    },
    {
      "cell_type": "code",
      "metadata": {
        "id": "raTS0Hn3UAJk"
      },
      "source": [
        "data['Pred'] = data['Price'].rolling(train_size).apply(predict_ARIMA).round(2)\n",
        "data['Pred'] = data['Pred'].shift(1)"
      ],
      "execution_count": 23,
      "outputs": []
    },
    {
      "cell_type": "code",
      "metadata": {
        "colab": {
          "base_uri": "https://localhost:8080/",
          "height": 235
        },
        "id": "IBvK79HDUOtT",
        "outputId": "c4b446ea-f8ca-4375-cc0d-7a8596aded35"
      },
      "source": [
        "data.tail()"
      ],
      "execution_count": 24,
      "outputs": [
        {
          "output_type": "execute_result",
          "data": {
            "text/html": [
              "<div>\n",
              "<style scoped>\n",
              "    .dataframe tbody tr th:only-of-type {\n",
              "        vertical-align: middle;\n",
              "    }\n",
              "\n",
              "    .dataframe tbody tr th {\n",
              "        vertical-align: top;\n",
              "    }\n",
              "\n",
              "    .dataframe thead th {\n",
              "        text-align: right;\n",
              "    }\n",
              "</style>\n",
              "<table border=\"1\" class=\"dataframe\">\n",
              "  <thead>\n",
              "    <tr style=\"text-align: right;\">\n",
              "      <th></th>\n",
              "      <th>Value</th>\n",
              "      <th>Price</th>\n",
              "      <th>Pred</th>\n",
              "    </tr>\n",
              "    <tr>\n",
              "      <th>Date</th>\n",
              "      <th></th>\n",
              "      <th></th>\n",
              "      <th></th>\n",
              "    </tr>\n",
              "  </thead>\n",
              "  <tbody>\n",
              "    <tr>\n",
              "      <th>2021-05-25</th>\n",
              "      <td>75.86</td>\n",
              "      <td>1450.95</td>\n",
              "      <td>1448.03</td>\n",
              "    </tr>\n",
              "    <tr>\n",
              "      <th>2021-05-26</th>\n",
              "      <td>77.01</td>\n",
              "      <td>1472.90</td>\n",
              "      <td>1454.78</td>\n",
              "    </tr>\n",
              "    <tr>\n",
              "      <th>2021-05-27</th>\n",
              "      <td>77.53</td>\n",
              "      <td>1482.85</td>\n",
              "      <td>1478.47</td>\n",
              "    </tr>\n",
              "    <tr>\n",
              "      <th>2021-05-28</th>\n",
              "      <td>77.28</td>\n",
              "      <td>1478.10</td>\n",
              "      <td>1487.41</td>\n",
              "    </tr>\n",
              "    <tr>\n",
              "      <th>2021-05-31</th>\n",
              "      <td>76.74</td>\n",
              "      <td>1467.70</td>\n",
              "      <td>1482.82</td>\n",
              "    </tr>\n",
              "  </tbody>\n",
              "</table>\n",
              "</div>"
            ],
            "text/plain": [
              "            Value    Price     Pred\n",
              "Date                               \n",
              "2021-05-25  75.86  1450.95  1448.03\n",
              "2021-05-26  77.01  1472.90  1454.78\n",
              "2021-05-27  77.53  1482.85  1478.47\n",
              "2021-05-28  77.28  1478.10  1487.41\n",
              "2021-05-31  76.74  1467.70  1482.82"
            ]
          },
          "metadata": {
            "tags": []
          },
          "execution_count": 24
        }
      ]
    },
    {
      "cell_type": "markdown",
      "metadata": {
        "id": "vnlmmweUaLRB"
      },
      "source": [
        "### ARIMA model evaluation"
      ]
    },
    {
      "cell_type": "code",
      "metadata": {
        "id": "aNLKdyRlYTfz"
      },
      "source": [
        "def model_performance(actual, predicted):\n",
        "  \"\"\" This function will print the MAE, MSE, RMSE and Mean Absolute percentage error (MAPE)\n",
        "  This will also plot PACF an residual plot\"\"\"\n",
        "\n",
        "  #Mean Absolute error\n",
        "  mae = mean_absolute_error(actual, predicted).round(2)\n",
        "  print('The Mean Absolute Error is: ', mae)\n",
        "  \n",
        "  #Mean Squared Error \n",
        "  mse = mean_squared_error(actual, predicted).round(2)\n",
        "  print('The Mean Squared Error is: ', mse)\n",
        "\n",
        "  # Root Mean Squared Error\n",
        "  rmse = np.sqrt(mse).round(2)\n",
        "  print('The RMSE is: ', rmse )\n",
        "\n",
        "  # Mean Absolute percentage error\n",
        "  mape = 100*((actual-predicted)/actual).abs().mean()\n",
        "  print('The Mean Absolute Percentage Error is: ', mape)\n",
        "\n",
        "  # Residuals\n",
        "  residuals = actual- predicted\n",
        "  labels = actual.index\n",
        "  #fig,(ax1,ax2) = plt.subplot(2,1, figsize=(12,11))\n",
        "\n",
        "  # Plot Graph\n",
        "  plt.figure(figsize=(15,10))\n",
        "  \n",
        "  plt.subplot(2,1,1)\n",
        "  plt.plot(actual, color = 'red')\n",
        "  plt.plot(predicted, color = 'blue' )\n",
        "  plt.ylabel('Price')\n",
        "  plt.title('Predicted v/s Actual')\n",
        "\n",
        "  # Plot PACF\n",
        "  plt.subplot(2,1,2)\n",
        "  sgt.plot_acf(residuals, color= 'green')\n",
        "  plt.xlabel('Lags')\n",
        "  plt.ylabel('Autocorrelation')\n",
        "  plt.title('Autocorrelation of Residuals')\n",
        "\n",
        "  plt.tight_layout()\n",
        "  plt.show()"
      ],
      "execution_count": 25,
      "outputs": []
    },
    {
      "cell_type": "code",
      "metadata": {
        "colab": {
          "base_uri": "https://localhost:8080/",
          "height": 845
        },
        "id": "os13HU4QZhW_",
        "outputId": "7c141b84-ba82-4b6c-83d3-59dffd9b7ac5"
      },
      "source": [
        "model_performance(data['Price'].iloc[train_size:],data['Pred'].iloc[train_size:])"
      ],
      "execution_count": 26,
      "outputs": [
        {
          "output_type": "stream",
          "text": [
            "The Mean Absolute Error is:  17.58\n",
            "The Mean Squared Error is:  610.96\n",
            "The RMSE is:  24.72\n",
            "The Mean Absolute Percentage Error is:  1.3289930666647476\n"
          ],
          "name": "stdout"
        },
        {
          "output_type": "display_data",
          "data": {
            "image/png": "[encoded data removed]",
            "text/plain": [
              "<Figure size 1080x720 with 2 Axes>"
            ]
          },
          "metadata": {
            "tags": [],
            "needs_background": "light"
          }
        },
        {
          "output_type": "display_data",
          "data": {
            "image/png": "[encoded data removed]",
            "text/plain": [
              "<Figure size 432x288 with 1 Axes>"
            ]
          },
          "metadata": {
            "tags": [],
            "needs_background": "light"
          }
        }
      ]
    },
    {
      "cell_type": "markdown",
      "metadata": {
        "id": "UjMIdNmXaNI2"
      },
      "source": [
        "### Trade Strategy- Long Short\n",
        "\n",
        "What are we trying to do in the strategy:\n",
        "- Create Signal - When the predicted price is higher than previous day actual price, create a signal +1, or -1 if not.\n",
        "- Signal implies the direction for the returns.\n",
        "- *Strategy* returns- Creating a hypothetical return (Pred return), in case the position was held throughout the tennure. "
      ]
    },
    {
      "cell_type": "code",
      "metadata": {
        "colab": {
          "base_uri": "https://localhost:8080/",
          "height": 543
        },
        "id": "zqw-0tosZrLi",
        "outputId": "d7a3b240-7352-47a3-9df4-063799324332"
      },
      "source": [
        "data['Return'] = data['Price'].pct_change()\n",
        "data['Position'] = np.where(data['Price'].shift(1) < data['Pred'], 1,-1)\n",
        "\n",
        "data['Strategy_return'] = data['Return']* data['Position']\n",
        "\n",
        "data.tail(15)"
      ],
      "execution_count": 27,
      "outputs": [
        {
          "output_type": "execute_result",
          "data": {
            "text/html": [
              "<div>\n",
              "<style scoped>\n",
              "    .dataframe tbody tr th:only-of-type {\n",
              "        vertical-align: middle;\n",
              "    }\n",
              "\n",
              "    .dataframe tbody tr th {\n",
              "        vertical-align: top;\n",
              "    }\n",
              "\n",
              "    .dataframe thead th {\n",
              "        text-align: right;\n",
              "    }\n",
              "</style>\n",
              "<table border=\"1\" class=\"dataframe\">\n",
              "  <thead>\n",
              "    <tr style=\"text-align: right;\">\n",
              "      <th></th>\n",
              "      <th>Value</th>\n",
              "      <th>Price</th>\n",
              "      <th>Pred</th>\n",
              "      <th>Return</th>\n",
              "      <th>Position</th>\n",
              "      <th>Strategy_return</th>\n",
              "    </tr>\n",
              "    <tr>\n",
              "      <th>Date</th>\n",
              "      <th></th>\n",
              "      <th></th>\n",
              "      <th></th>\n",
              "      <th></th>\n",
              "      <th></th>\n",
              "      <th></th>\n",
              "    </tr>\n",
              "  </thead>\n",
              "  <tbody>\n",
              "    <tr>\n",
              "      <th>2021-05-11</th>\n",
              "      <td>72.34</td>\n",
              "      <td>1383.60</td>\n",
              "      <td>1400.78</td>\n",
              "      <td>-0.008172</td>\n",
              "      <td>1</td>\n",
              "      <td>-0.008172</td>\n",
              "    </tr>\n",
              "    <tr>\n",
              "      <th>2021-05-12</th>\n",
              "      <td>72.43</td>\n",
              "      <td>1385.30</td>\n",
              "      <td>1385.02</td>\n",
              "      <td>0.001229</td>\n",
              "      <td>1</td>\n",
              "      <td>0.001229</td>\n",
              "    </tr>\n",
              "    <tr>\n",
              "      <th>2021-05-13</th>\n",
              "      <td>74.01</td>\n",
              "      <td>1415.50</td>\n",
              "      <td>1390.15</td>\n",
              "      <td>0.021800</td>\n",
              "      <td>1</td>\n",
              "      <td>0.021800</td>\n",
              "    </tr>\n",
              "    <tr>\n",
              "      <th>2021-05-14</th>\n",
              "      <td>74.01</td>\n",
              "      <td>1415.50</td>\n",
              "      <td>1420.43</td>\n",
              "      <td>0.000000</td>\n",
              "      <td>1</td>\n",
              "      <td>0.000000</td>\n",
              "    </tr>\n",
              "    <tr>\n",
              "      <th>2021-05-17</th>\n",
              "      <td>72.50</td>\n",
              "      <td>1386.75</td>\n",
              "      <td>1418.43</td>\n",
              "      <td>-0.020311</td>\n",
              "      <td>1</td>\n",
              "      <td>-0.020311</td>\n",
              "    </tr>\n",
              "    <tr>\n",
              "      <th>2021-05-18</th>\n",
              "      <td>74.10</td>\n",
              "      <td>1417.30</td>\n",
              "      <td>1390.14</td>\n",
              "      <td>0.022030</td>\n",
              "      <td>1</td>\n",
              "      <td>0.022030</td>\n",
              "    </tr>\n",
              "    <tr>\n",
              "      <th>2021-05-19</th>\n",
              "      <td>73.38</td>\n",
              "      <td>1403.45</td>\n",
              "      <td>1423.48</td>\n",
              "      <td>-0.009772</td>\n",
              "      <td>1</td>\n",
              "      <td>-0.009772</td>\n",
              "    </tr>\n",
              "    <tr>\n",
              "      <th>2021-05-20</th>\n",
              "      <td>73.71</td>\n",
              "      <td>1409.75</td>\n",
              "      <td>1405.13</td>\n",
              "      <td>0.004489</td>\n",
              "      <td>1</td>\n",
              "      <td>0.004489</td>\n",
              "    </tr>\n",
              "    <tr>\n",
              "      <th>2021-05-21</th>\n",
              "      <td>74.14</td>\n",
              "      <td>1418.05</td>\n",
              "      <td>1415.06</td>\n",
              "      <td>0.005888</td>\n",
              "      <td>1</td>\n",
              "      <td>0.005888</td>\n",
              "    </tr>\n",
              "    <tr>\n",
              "      <th>2021-05-24</th>\n",
              "      <td>75.46</td>\n",
              "      <td>1443.25</td>\n",
              "      <td>1421.92</td>\n",
              "      <td>0.017771</td>\n",
              "      <td>1</td>\n",
              "      <td>0.017771</td>\n",
              "    </tr>\n",
              "    <tr>\n",
              "      <th>2021-05-25</th>\n",
              "      <td>75.86</td>\n",
              "      <td>1450.95</td>\n",
              "      <td>1448.03</td>\n",
              "      <td>0.005335</td>\n",
              "      <td>1</td>\n",
              "      <td>0.005335</td>\n",
              "    </tr>\n",
              "    <tr>\n",
              "      <th>2021-05-26</th>\n",
              "      <td>77.01</td>\n",
              "      <td>1472.90</td>\n",
              "      <td>1454.78</td>\n",
              "      <td>0.015128</td>\n",
              "      <td>1</td>\n",
              "      <td>0.015128</td>\n",
              "    </tr>\n",
              "    <tr>\n",
              "      <th>2021-05-27</th>\n",
              "      <td>77.53</td>\n",
              "      <td>1482.85</td>\n",
              "      <td>1478.47</td>\n",
              "      <td>0.006755</td>\n",
              "      <td>1</td>\n",
              "      <td>0.006755</td>\n",
              "    </tr>\n",
              "    <tr>\n",
              "      <th>2021-05-28</th>\n",
              "      <td>77.28</td>\n",
              "      <td>1478.10</td>\n",
              "      <td>1487.41</td>\n",
              "      <td>-0.003203</td>\n",
              "      <td>1</td>\n",
              "      <td>-0.003203</td>\n",
              "    </tr>\n",
              "    <tr>\n",
              "      <th>2021-05-31</th>\n",
              "      <td>76.74</td>\n",
              "      <td>1467.70</td>\n",
              "      <td>1482.82</td>\n",
              "      <td>-0.007036</td>\n",
              "      <td>1</td>\n",
              "      <td>-0.007036</td>\n",
              "    </tr>\n",
              "  </tbody>\n",
              "</table>\n",
              "</div>"
            ],
            "text/plain": [
              "            Value    Price     Pred    Return  Position  Strategy_return\n",
              "Date                                                                    \n",
              "2021-05-11  72.34  1383.60  1400.78 -0.008172         1        -0.008172\n",
              "2021-05-12  72.43  1385.30  1385.02  0.001229         1         0.001229\n",
              "2021-05-13  74.01  1415.50  1390.15  0.021800         1         0.021800\n",
              "2021-05-14  74.01  1415.50  1420.43  0.000000         1         0.000000\n",
              "2021-05-17  72.50  1386.75  1418.43 -0.020311         1        -0.020311\n",
              "2021-05-18  74.10  1417.30  1390.14  0.022030         1         0.022030\n",
              "2021-05-19  73.38  1403.45  1423.48 -0.009772         1        -0.009772\n",
              "2021-05-20  73.71  1409.75  1405.13  0.004489         1         0.004489\n",
              "2021-05-21  74.14  1418.05  1415.06  0.005888         1         0.005888\n",
              "2021-05-24  75.46  1443.25  1421.92  0.017771         1         0.017771\n",
              "2021-05-25  75.86  1450.95  1448.03  0.005335         1         0.005335\n",
              "2021-05-26  77.01  1472.90  1454.78  0.015128         1         0.015128\n",
              "2021-05-27  77.53  1482.85  1478.47  0.006755         1         0.006755\n",
              "2021-05-28  77.28  1478.10  1487.41 -0.003203         1        -0.003203\n",
              "2021-05-31  76.74  1467.70  1482.82 -0.007036         1        -0.007036"
            ]
          },
          "metadata": {
            "tags": []
          },
          "execution_count": 27
        }
      ]
    },
    {
      "cell_type": "code",
      "metadata": {
        "id": "lQ6Y_lxMaZKj"
      },
      "source": [
        "# Define a function to analyse the returns of Strategy returns\n",
        "\n",
        "def analyse_strategy(return_series):\n",
        "  \"\"\" Takes the Returns column as input and performs few calculations\n",
        "  Sharpe ratio- Return to risk ratio\n",
        "  Cumulative return - Month over month return calculated\n",
        "  Drawdown calculation\n",
        "  Print statistics\n",
        "  \"\"\"\n",
        "  sharpe_ratio = return_series.mean()/return_series.std()*np.sqrt(252)\n",
        "\n",
        "  #Cumulative Returns\n",
        "  cum_return = (return_series+1).cumprod()\n",
        "  \n",
        "\n",
        "  print('The Sharpe Ratio is %.2f' % sharpe_ratio)\n",
        "  print('The cumulative return is %.2f' % (((cum_return[-1])-1)*100) + \"%\") \n",
        "  print('The std dev is: ', return_series.std())\n",
        "  print( ' The number of days for retrn assessment: ', int(len(return_series)))\n",
        "  # Plots\n",
        "  labels = return_series.index\n",
        "  plt.figure(figsize=(15,10))\n",
        "\n",
        "  #Plot strategy return\n",
        "  plt.plot(cum_return, color = 'b')\n",
        "  plt.title('Cumulative returns', fontsize=14)\n",
        "  plt.ylabel('Cumulative Return')\n",
        "  plt.xlabel('Date')"
      ],
      "execution_count": 28,
      "outputs": []
    },
    {
      "cell_type": "code",
      "metadata": {
        "id": "4agn-mkXhHYf"
      },
      "source": [
        "# Define a function to calcualte return of the stock without strategy\n",
        "def stock_return(series):\n",
        "  \n",
        "  #Cumulative Returns\n",
        "  cum_return = (series+1).cumprod()\n",
        "\n",
        "  print('The return of the stock is :',(((cum_return[-1])-1)*100).round(2))"
      ],
      "execution_count": 29,
      "outputs": []
    },
    {
      "cell_type": "code",
      "metadata": {
        "colab": {
          "base_uri": "https://localhost:8080/"
        },
        "id": "R-Hc6vXeh0Eq",
        "outputId": "4bceb7c4-7b1a-4a7b-cbf7-c16703ae05ac"
      },
      "source": [
        "stock_return(data['Return'].iloc[train_size:])"
      ],
      "execution_count": 30,
      "outputs": [
        {
          "output_type": "stream",
          "text": [
            "The return of the stock is : 56.76\n"
          ],
          "name": "stdout"
        }
      ]
    },
    {
      "cell_type": "code",
      "metadata": {
        "colab": {
          "base_uri": "https://localhost:8080/",
          "height": 587
        },
        "id": "C1T3093ldstW",
        "outputId": "8ae75257-1a67-4f3d-e459-4ae146227c7f"
      },
      "source": [
        "analyse_strategy(data['Strategy_return'].iloc[train_size:])"
      ],
      "execution_count": 31,
      "outputs": [
        {
          "output_type": "stream",
          "text": [
            "The Sharpe Ratio is 1.98\n",
            "The cumulative return is 40.61%\n",
            "The std dev is:  0.018862438763509022\n",
            " The number of days for retrn assessment:  157\n"
          ],
          "name": "stdout"
        },
        {
          "output_type": "display_data",
          "data": {
            "image/png": "[encoded data removed]",
            "text/plain": [
              "<Figure size 1080x720 with 1 Axes>"
            ]
          },
          "metadata": {
            "tags": [],
            "needs_background": "light"
          }
        }
      ]
    },
    {
      "cell_type": "markdown",
      "metadata": {
        "id": "MpcmudWVfBzX"
      },
      "source": [
        "### Trade Strategy- Long Only\n",
        "\n",
        "What are we trying to do in the strategy:\n",
        "- Create Signal - When the predicted price is higher than previous day actual price, create a signal +1, or 0.\n",
        "- Signal implies the direction for the returns.\n",
        "- *Strategy* returns- Creating a hypothetical return (Pred return), in case the position was held throughout the tennure. "
      ]
    },
    {
      "cell_type": "code",
      "metadata": {
        "colab": {
          "base_uri": "https://localhost:8080/",
          "height": 543
        },
        "id": "TciyRo5dd0Lo",
        "outputId": "08220021-3912-4ce2-cd47-4a57ce9ad9e7"
      },
      "source": [
        "data['Return'] = data['Price'].pct_change()\n",
        "data['Position'] = np.where(data['Price'].shift(1) < data['Pred'], 1,0)\n",
        "\n",
        "data['Strategy_return'] = data['Return']* data['Position']\n",
        "\n",
        "data.tail(15)"
      ],
      "execution_count": 32,
      "outputs": [
        {
          "output_type": "execute_result",
          "data": {
            "text/html": [
              "<div>\n",
              "<style scoped>\n",
              "    .dataframe tbody tr th:only-of-type {\n",
              "        vertical-align: middle;\n",
              "    }\n",
              "\n",
              "    .dataframe tbody tr th {\n",
              "        vertical-align: top;\n",
              "    }\n",
              "\n",
              "    .dataframe thead th {\n",
              "        text-align: right;\n",
              "    }\n",
              "</style>\n",
              "<table border=\"1\" class=\"dataframe\">\n",
              "  <thead>\n",
              "    <tr style=\"text-align: right;\">\n",
              "      <th></th>\n",
              "      <th>Value</th>\n",
              "      <th>Price</th>\n",
              "      <th>Pred</th>\n",
              "      <th>Return</th>\n",
              "      <th>Position</th>\n",
              "      <th>Strategy_return</th>\n",
              "    </tr>\n",
              "    <tr>\n",
              "      <th>Date</th>\n",
              "      <th></th>\n",
              "      <th></th>\n",
              "      <th></th>\n",
              "      <th></th>\n",
              "      <th></th>\n",
              "      <th></th>\n",
              "    </tr>\n",
              "  </thead>\n",
              "  <tbody>\n",
              "    <tr>\n",
              "      <th>2021-05-11</th>\n",
              "      <td>72.34</td>\n",
              "      <td>1383.60</td>\n",
              "      <td>1400.78</td>\n",
              "      <td>-0.008172</td>\n",
              "      <td>1</td>\n",
              "      <td>-0.008172</td>\n",
              "    </tr>\n",
              "    <tr>\n",
              "      <th>2021-05-12</th>\n",
              "      <td>72.43</td>\n",
              "      <td>1385.30</td>\n",
              "      <td>1385.02</td>\n",
              "      <td>0.001229</td>\n",
              "      <td>1</td>\n",
              "      <td>0.001229</td>\n",
              "    </tr>\n",
              "    <tr>\n",
              "      <th>2021-05-13</th>\n",
              "      <td>74.01</td>\n",
              "      <td>1415.50</td>\n",
              "      <td>1390.15</td>\n",
              "      <td>0.021800</td>\n",
              "      <td>1</td>\n",
              "      <td>0.021800</td>\n",
              "    </tr>\n",
              "    <tr>\n",
              "      <th>2021-05-14</th>\n",
              "      <td>74.01</td>\n",
              "      <td>1415.50</td>\n",
              "      <td>1420.43</td>\n",
              "      <td>0.000000</td>\n",
              "      <td>1</td>\n",
              "      <td>0.000000</td>\n",
              "    </tr>\n",
              "    <tr>\n",
              "      <th>2021-05-17</th>\n",
              "      <td>72.50</td>\n",
              "      <td>1386.75</td>\n",
              "      <td>1418.43</td>\n",
              "      <td>-0.020311</td>\n",
              "      <td>1</td>\n",
              "      <td>-0.020311</td>\n",
              "    </tr>\n",
              "    <tr>\n",
              "      <th>2021-05-18</th>\n",
              "      <td>74.10</td>\n",
              "      <td>1417.30</td>\n",
              "      <td>1390.14</td>\n",
              "      <td>0.022030</td>\n",
              "      <td>1</td>\n",
              "      <td>0.022030</td>\n",
              "    </tr>\n",
              "    <tr>\n",
              "      <th>2021-05-19</th>\n",
              "      <td>73.38</td>\n",
              "      <td>1403.45</td>\n",
              "      <td>1423.48</td>\n",
              "      <td>-0.009772</td>\n",
              "      <td>1</td>\n",
              "      <td>-0.009772</td>\n",
              "    </tr>\n",
              "    <tr>\n",
              "      <th>2021-05-20</th>\n",
              "      <td>73.71</td>\n",
              "      <td>1409.75</td>\n",
              "      <td>1405.13</td>\n",
              "      <td>0.004489</td>\n",
              "      <td>1</td>\n",
              "      <td>0.004489</td>\n",
              "    </tr>\n",
              "    <tr>\n",
              "      <th>2021-05-21</th>\n",
              "      <td>74.14</td>\n",
              "      <td>1418.05</td>\n",
              "      <td>1415.06</td>\n",
              "      <td>0.005888</td>\n",
              "      <td>1</td>\n",
              "      <td>0.005888</td>\n",
              "    </tr>\n",
              "    <tr>\n",
              "      <th>2021-05-24</th>\n",
              "      <td>75.46</td>\n",
              "      <td>1443.25</td>\n",
              "      <td>1421.92</td>\n",
              "      <td>0.017771</td>\n",
              "      <td>1</td>\n",
              "      <td>0.017771</td>\n",
              "    </tr>\n",
              "    <tr>\n",
              "      <th>2021-05-25</th>\n",
              "      <td>75.86</td>\n",
              "      <td>1450.95</td>\n",
              "      <td>1448.03</td>\n",
              "      <td>0.005335</td>\n",
              "      <td>1</td>\n",
              "      <td>0.005335</td>\n",
              "    </tr>\n",
              "    <tr>\n",
              "      <th>2021-05-26</th>\n",
              "      <td>77.01</td>\n",
              "      <td>1472.90</td>\n",
              "      <td>1454.78</td>\n",
              "      <td>0.015128</td>\n",
              "      <td>1</td>\n",
              "      <td>0.015128</td>\n",
              "    </tr>\n",
              "    <tr>\n",
              "      <th>2021-05-27</th>\n",
              "      <td>77.53</td>\n",
              "      <td>1482.85</td>\n",
              "      <td>1478.47</td>\n",
              "      <td>0.006755</td>\n",
              "      <td>1</td>\n",
              "      <td>0.006755</td>\n",
              "    </tr>\n",
              "    <tr>\n",
              "      <th>2021-05-28</th>\n",
              "      <td>77.28</td>\n",
              "      <td>1478.10</td>\n",
              "      <td>1487.41</td>\n",
              "      <td>-0.003203</td>\n",
              "      <td>1</td>\n",
              "      <td>-0.003203</td>\n",
              "    </tr>\n",
              "    <tr>\n",
              "      <th>2021-05-31</th>\n",
              "      <td>76.74</td>\n",
              "      <td>1467.70</td>\n",
              "      <td>1482.82</td>\n",
              "      <td>-0.007036</td>\n",
              "      <td>1</td>\n",
              "      <td>-0.007036</td>\n",
              "    </tr>\n",
              "  </tbody>\n",
              "</table>\n",
              "</div>"
            ],
            "text/plain": [
              "            Value    Price     Pred    Return  Position  Strategy_return\n",
              "Date                                                                    \n",
              "2021-05-11  72.34  1383.60  1400.78 -0.008172         1        -0.008172\n",
              "2021-05-12  72.43  1385.30  1385.02  0.001229         1         0.001229\n",
              "2021-05-13  74.01  1415.50  1390.15  0.021800         1         0.021800\n",
              "2021-05-14  74.01  1415.50  1420.43  0.000000         1         0.000000\n",
              "2021-05-17  72.50  1386.75  1418.43 -0.020311         1        -0.020311\n",
              "2021-05-18  74.10  1417.30  1390.14  0.022030         1         0.022030\n",
              "2021-05-19  73.38  1403.45  1423.48 -0.009772         1        -0.009772\n",
              "2021-05-20  73.71  1409.75  1405.13  0.004489         1         0.004489\n",
              "2021-05-21  74.14  1418.05  1415.06  0.005888         1         0.005888\n",
              "2021-05-24  75.46  1443.25  1421.92  0.017771         1         0.017771\n",
              "2021-05-25  75.86  1450.95  1448.03  0.005335         1         0.005335\n",
              "2021-05-26  77.01  1472.90  1454.78  0.015128         1         0.015128\n",
              "2021-05-27  77.53  1482.85  1478.47  0.006755         1         0.006755\n",
              "2021-05-28  77.28  1478.10  1487.41 -0.003203         1        -0.003203\n",
              "2021-05-31  76.74  1467.70  1482.82 -0.007036         1        -0.007036"
            ]
          },
          "metadata": {
            "tags": []
          },
          "execution_count": 32
        }
      ]
    },
    {
      "cell_type": "code",
      "metadata": {
        "colab": {
          "base_uri": "https://localhost:8080/"
        },
        "id": "qcDoeQwHj5Ng",
        "outputId": "12e3eb07-ea21-41cd-caff-34eedcce9d49"
      },
      "source": [
        "stock_return(data['Return'].iloc[train_size:])"
      ],
      "execution_count": 33,
      "outputs": [
        {
          "output_type": "stream",
          "text": [
            "The return of the stock is : 56.76\n"
          ],
          "name": "stdout"
        }
      ]
    },
    {
      "cell_type": "code",
      "metadata": {
        "colab": {
          "base_uri": "https://localhost:8080/",
          "height": 517
        },
        "id": "HYGgdj3KfOx5",
        "outputId": "007fbe1c-f8b0-48ff-cc93-82f6dd91cf58"
      },
      "source": [
        "analyse_strategy(data['Strategy_return'].iloc[train_size:])"
      ],
      "execution_count": 34,
      "outputs": [
        {
          "output_type": "stream",
          "text": [
            "The Sharpe Ratio is 2.39\n",
            "The cumulative return is 48.86%\n",
            "The std dev is:  0.017876426949731374\n",
            " The number of days for retrn assessment:  157\n"
          ],
          "name": "stdout"
        },
        {
          "output_type": "display_data",
          "data": {
            "image/png": "[encoded data removed]",
            "text/plain": [
              "<Figure size 1080x720 with 1 Axes>"
            ]
          },
          "metadata": {
            "tags": [],
            "needs_background": "light"
          }
        }
      ]
    },
    {
      "cell_type": "code",
      "metadata": {
        "id": "bX0QTQWIfQCy"
      },
      "source": [
        ""
      ],
      "execution_count": 34,
      "outputs": []
    },
    {
      "cell_type": "markdown",
      "metadata": {
        "id": "kCykttvHUDl6"
      },
      "source": [
        "### Calculate Volatility\n",
        "To calculate the volatility, we measure the std dev of the log of returns.\n",
        "\n",
        "Since the volatility measures the fluctuation in time, a common mistake is that it is calculated over the price. However, it should be calculated as the dispersion of the log of returns.\n",
        "\n",
        "This is because the distribution of price is unknown and we are taking standard deviation as a measure of risk. To be sure that the standard deviation is accurate and meaningful, an assumption has to be made that the underlying data follows a normal distribution. Hence the volatility is calculated over the log of returns."
      ]
    },
    {
      "cell_type": "code",
      "metadata": {
        "id": "QEQDBdh0UFtf"
      },
      "source": [
        ""
      ],
      "execution_count": 36,
      "outputs": []
    },
    {
      "cell_type": "markdown",
      "metadata": {
        "id": "xx_YseM3YbFx"
      },
      "source": [
        "#### Daily Volatility"
      ]
    },
    {
      "cell_type": "code",
      "metadata": {
        "colab": {
          "base_uri": "https://localhost:8080/",
          "height": 339
        },
        "id": "mU_C7kE-UHJL",
        "outputId": "6bef2729-0be6-4976-f5f1-339347fed75a"
      },
      "source": [
        "# Daily Volatility\n",
        "\n",
        "# Compute the Log returns \n",
        "data['log_R'] = np.log(data['Price']/data['Price'].shift(1))\n",
        "\n",
        "# Compute volatility using the pandas rolling std dev function \n",
        "data['Daily_Volatility'] = data['log_R'].rolling(window=20).std()*100\n",
        "\n",
        "data.tail()"
      ],
      "execution_count": 40,
      "outputs": [
        {
          "output_type": "execute_result",
          "data": {
            "text/html": [
              "<div>\n",
              "<style scoped>\n",
              "    .dataframe tbody tr th:only-of-type {\n",
              "        vertical-align: middle;\n",
              "    }\n",
              "\n",
              "    .dataframe tbody tr th {\n",
              "        vertical-align: top;\n",
              "    }\n",
              "\n",
              "    .dataframe thead th {\n",
              "        text-align: right;\n",
              "    }\n",
              "</style>\n",
              "<table border=\"1\" class=\"dataframe\">\n",
              "  <thead>\n",
              "    <tr style=\"text-align: right;\">\n",
              "      <th></th>\n",
              "      <th>Value</th>\n",
              "      <th>Price</th>\n",
              "      <th>Pred</th>\n",
              "      <th>Return</th>\n",
              "      <th>Position</th>\n",
              "      <th>Strategy_return</th>\n",
              "      <th>log_R</th>\n",
              "      <th>Daily_Volatility</th>\n",
              "    </tr>\n",
              "    <tr>\n",
              "      <th>Date</th>\n",
              "      <th></th>\n",
              "      <th></th>\n",
              "      <th></th>\n",
              "      <th></th>\n",
              "      <th></th>\n",
              "      <th></th>\n",
              "      <th></th>\n",
              "      <th></th>\n",
              "    </tr>\n",
              "  </thead>\n",
              "  <tbody>\n",
              "    <tr>\n",
              "      <th>2021-05-25</th>\n",
              "      <td>75.86</td>\n",
              "      <td>1450.95</td>\n",
              "      <td>1448.03</td>\n",
              "      <td>0.005335</td>\n",
              "      <td>1</td>\n",
              "      <td>0.005335</td>\n",
              "      <td>0.005321</td>\n",
              "      <td>1.382351</td>\n",
              "    </tr>\n",
              "    <tr>\n",
              "      <th>2021-05-26</th>\n",
              "      <td>77.01</td>\n",
              "      <td>1472.90</td>\n",
              "      <td>1454.78</td>\n",
              "      <td>0.015128</td>\n",
              "      <td>1</td>\n",
              "      <td>0.015128</td>\n",
              "      <td>0.015015</td>\n",
              "      <td>1.402167</td>\n",
              "    </tr>\n",
              "    <tr>\n",
              "      <th>2021-05-27</th>\n",
              "      <td>77.53</td>\n",
              "      <td>1482.85</td>\n",
              "      <td>1478.47</td>\n",
              "      <td>0.006755</td>\n",
              "      <td>1</td>\n",
              "      <td>0.006755</td>\n",
              "      <td>0.006733</td>\n",
              "      <td>1.351637</td>\n",
              "    </tr>\n",
              "    <tr>\n",
              "      <th>2021-05-28</th>\n",
              "      <td>77.28</td>\n",
              "      <td>1478.10</td>\n",
              "      <td>1487.41</td>\n",
              "      <td>-0.003203</td>\n",
              "      <td>1</td>\n",
              "      <td>-0.003203</td>\n",
              "      <td>-0.003208</td>\n",
              "      <td>1.298660</td>\n",
              "    </tr>\n",
              "    <tr>\n",
              "      <th>2021-05-31</th>\n",
              "      <td>76.74</td>\n",
              "      <td>1467.70</td>\n",
              "      <td>1482.82</td>\n",
              "      <td>-0.007036</td>\n",
              "      <td>1</td>\n",
              "      <td>-0.007036</td>\n",
              "      <td>-0.007061</td>\n",
              "      <td>1.324303</td>\n",
              "    </tr>\n",
              "  </tbody>\n",
              "</table>\n",
              "</div>"
            ],
            "text/plain": [
              "            Value    Price  ...     log_R  Daily_Volatility\n",
              "Date                        ...                            \n",
              "2021-05-25  75.86  1450.95  ...  0.005321          1.382351\n",
              "2021-05-26  77.01  1472.90  ...  0.015015          1.402167\n",
              "2021-05-27  77.53  1482.85  ...  0.006733          1.351637\n",
              "2021-05-28  77.28  1478.10  ... -0.003208          1.298660\n",
              "2021-05-31  76.74  1467.70  ... -0.007061          1.324303\n",
              "\n",
              "[5 rows x 8 columns]"
            ]
          },
          "metadata": {
            "tags": []
          },
          "execution_count": 40
        }
      ]
    },
    {
      "cell_type": "code",
      "metadata": {
        "colab": {
          "base_uri": "https://localhost:8080/",
          "height": 280
        },
        "id": "BxXAjKrmV4Wt",
        "outputId": "1c78b466-d27d-48d6-bf49-1169bedcab7e"
      },
      "source": [
        "plt.plot(data['Daily_Volatility'])"
      ],
      "execution_count": 41,
      "outputs": [
        {
          "output_type": "execute_result",
          "data": {
            "text/plain": [
              "[<matplotlib.lines.Line2D at 0x7f3f22c5d850>]"
            ]
          },
          "metadata": {
            "tags": []
          },
          "execution_count": 41
        },
        {
          "output_type": "display_data",
          "data": {
            "image/png": "[encoded data removed]",
            "text/plain": [
              "<Figure size 432x288 with 1 Axes>"
            ]
          },
          "metadata": {
            "tags": [],
            "needs_background": "light"
          }
        }
      ]
    },
    {
      "cell_type": "code",
      "metadata": {
        "colab": {
          "base_uri": "https://localhost:8080/",
          "height": 280
        },
        "id": "NyXjjsnCWkL1",
        "outputId": "a050e97a-556a-4255-ef42-e5e6d1b35718"
      },
      "source": [
        "# Convert daily volatility to annual volatility\n",
        "data['Annual_Volatility'] = data['Daily_Volatility']* np.sqrt(252)\n",
        "\n",
        "plt.plot(data['Annual_Volatility'])"
      ],
      "execution_count": 43,
      "outputs": [
        {
          "output_type": "execute_result",
          "data": {
            "text/plain": [
              "[<matplotlib.lines.Line2D at 0x7f3f22d44a50>]"
            ]
          },
          "metadata": {
            "tags": []
          },
          "execution_count": 43
        },
        {
          "output_type": "display_data",
          "data": {
            "image/png": "[encoded data removed]",
            "text/plain": [
              "<Figure size 432x288 with 1 Axes>"
            ]
          },
          "metadata": {
            "tags": [],
            "needs_background": "light"
          }
        }
      ]
    },
    {
      "cell_type": "code",
      "metadata": {
        "id": "I_G5LZ5LXF43"
      },
      "source": [
        ""
      ],
      "execution_count": null,
      "outputs": []
    }
  ]
}