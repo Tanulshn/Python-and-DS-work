{
  "nbformat": 4,
  "nbformat_minor": 0,
  "metadata": {
    "colab": {
      "name": "ARIMA TSA.ipynb",
      "provenance": [],
      "collapsed_sections": [],
      "toc_visible": true,
      "mount_file_id": "1ey4lXtQ8ujuq4yj4fAC6Lu9YyFt9ZZDR",
      "authorship_tag": "ABX9TyPV0mTaWRO/kJ4gw6Zj/wlh",
      "include_colab_link": true
    },
    "kernelspec": {
      "name": "python3",
      "display_name": "Python 3"
    },
    "language_info": {
      "name": "python"
    }
  },
  "cells": [
    {
      "cell_type": "markdown",
      "metadata": {
        "id": "view-in-github",
        "colab_type": "text"
      },
      "source": [
        "<a href=\"https://colab.research.google.com/github/Tanulshn/Python-and-DS-work/blob/main/ARIMA_TSA.ipynb\" target=\"_parent\"><img src=\"https://colab.research.google.com/assets/colab-badge.svg\" alt=\"Open In Colab\"/></a>"
      ]
    },
    {
      "cell_type": "markdown",
      "metadata": {
        "id": "_yLN9ylEU_cl"
      },
      "source": [
        ""
      ]
    },
    {
      "cell_type": "code",
      "metadata": {
        "id": "losOLZTeTipN"
      },
      "source": [
        "# Basic Package\n",
        "import pandas as pd\n",
        "import numpy as np\n",
        "import seaborn as sns\n",
        "import matplotlib.pyplot as plt\n",
        "%matplotlib inline\n",
        "plt.style.use('seaborn-darkgrid')\n",
        "\n",
        "# Warnings \n",
        "import warnings\n",
        "warnings.simplefilter(action='ignore')\n"
      ],
      "execution_count": 1,
      "outputs": []
    },
    {
      "cell_type": "markdown",
      "metadata": {
        "id": "oZ6EHExdbZzr"
      },
      "source": [
        "### Data Preprocessing"
      ]
    },
    {
      "cell_type": "code",
      "metadata": {
        "colab": {
          "base_uri": "https://localhost:8080/",
          "height": 667
        },
        "id": "_voSF3iyaSOc",
        "outputId": "f190c1a6-aef4-4488-92fb-b37dd1728641"
      },
      "source": [
        "# Read the data\n",
        "raw_data = pd.read_csv('/content/drive/MyDrive/Colab Notebooks/Time Series Analysis/Banks/HDFC Bank/2 yr TSA.csv')\n",
        "raw_data.head(20)"
      ],
      "execution_count": 2,
      "outputs": [
        {
          "output_type": "execute_result",
          "data": {
            "text/html": [
              "<div>\n",
              "<style scoped>\n",
              "    .dataframe tbody tr th:only-of-type {\n",
              "        vertical-align: middle;\n",
              "    }\n",
              "\n",
              "    .dataframe tbody tr th {\n",
              "        vertical-align: top;\n",
              "    }\n",
              "\n",
              "    .dataframe thead th {\n",
              "        text-align: right;\n",
              "    }\n",
              "</style>\n",
              "<table border=\"1\" class=\"dataframe\">\n",
              "  <thead>\n",
              "    <tr style=\"text-align: right;\">\n",
              "      <th></th>\n",
              "      <th>Date</th>\n",
              "      <th>Value</th>\n",
              "      <th>Price</th>\n",
              "    </tr>\n",
              "  </thead>\n",
              "  <tbody>\n",
              "    <tr>\n",
              "      <th>0</th>\n",
              "      <td>6/1/2019</td>\n",
              "      <td>No Data FOund</td>\n",
              "      <td>No Data FOund</td>\n",
              "    </tr>\n",
              "    <tr>\n",
              "      <th>1</th>\n",
              "      <td>6/2/2019</td>\n",
              "      <td>No Data FOund</td>\n",
              "      <td>No Data FOund</td>\n",
              "    </tr>\n",
              "    <tr>\n",
              "      <th>2</th>\n",
              "      <td>6/3/2019</td>\n",
              "      <td>31.80974372</td>\n",
              "      <td>1228.55</td>\n",
              "    </tr>\n",
              "    <tr>\n",
              "      <th>3</th>\n",
              "      <td>6/4/2019</td>\n",
              "      <td>31.74760267</td>\n",
              "      <td>1226.15</td>\n",
              "    </tr>\n",
              "    <tr>\n",
              "      <th>4</th>\n",
              "      <td>6/5/2019</td>\n",
              "      <td>No Data FOund</td>\n",
              "      <td>No Data FOund</td>\n",
              "    </tr>\n",
              "    <tr>\n",
              "      <th>5</th>\n",
              "      <td>6/6/2019</td>\n",
              "      <td>31.37281447</td>\n",
              "      <td>1211.675</td>\n",
              "    </tr>\n",
              "    <tr>\n",
              "      <th>6</th>\n",
              "      <td>6/7/2019</td>\n",
              "      <td>31.68740353</td>\n",
              "      <td>1223.825</td>\n",
              "    </tr>\n",
              "    <tr>\n",
              "      <th>7</th>\n",
              "      <td>6/8/2019</td>\n",
              "      <td>No Data FOund</td>\n",
              "      <td>No Data FOund</td>\n",
              "    </tr>\n",
              "    <tr>\n",
              "      <th>8</th>\n",
              "      <td>6/9/2019</td>\n",
              "      <td>No Data FOund</td>\n",
              "      <td>No Data FOund</td>\n",
              "    </tr>\n",
              "    <tr>\n",
              "      <th>9</th>\n",
              "      <td>6/10/2019</td>\n",
              "      <td>31.59095544</td>\n",
              "      <td>1220.1</td>\n",
              "    </tr>\n",
              "    <tr>\n",
              "      <th>10</th>\n",
              "      <td>6/11/2019</td>\n",
              "      <td>31.69711307</td>\n",
              "      <td>1224.2</td>\n",
              "    </tr>\n",
              "    <tr>\n",
              "      <th>11</th>\n",
              "      <td>6/12/2019</td>\n",
              "      <td>31.42071486</td>\n",
              "      <td>1213.525</td>\n",
              "    </tr>\n",
              "    <tr>\n",
              "      <th>12</th>\n",
              "      <td>6/13/2019</td>\n",
              "      <td>31.64917469</td>\n",
              "      <td>1222.35</td>\n",
              "    </tr>\n",
              "    <tr>\n",
              "      <th>13</th>\n",
              "      <td>6/14/2019</td>\n",
              "      <td>31.52489274</td>\n",
              "      <td>1217.55</td>\n",
              "    </tr>\n",
              "    <tr>\n",
              "      <th>14</th>\n",
              "      <td>6/15/2019</td>\n",
              "      <td>No Data FOund</td>\n",
              "      <td>No Data FOund</td>\n",
              "    </tr>\n",
              "    <tr>\n",
              "      <th>15</th>\n",
              "      <td>6/16/2019</td>\n",
              "      <td>No Data FOund</td>\n",
              "      <td>No Data FOund</td>\n",
              "    </tr>\n",
              "    <tr>\n",
              "      <th>16</th>\n",
              "      <td>6/17/2019</td>\n",
              "      <td>31.35529966</td>\n",
              "      <td>1211</td>\n",
              "    </tr>\n",
              "    <tr>\n",
              "      <th>17</th>\n",
              "      <td>6/18/2019</td>\n",
              "      <td>31.33996896</td>\n",
              "      <td>1208.625</td>\n",
              "    </tr>\n",
              "    <tr>\n",
              "      <th>18</th>\n",
              "      <td>6/19/2019</td>\n",
              "      <td>31.48388194</td>\n",
              "      <td>1214.175</td>\n",
              "    </tr>\n",
              "    <tr>\n",
              "      <th>19</th>\n",
              "      <td>6/20/2019</td>\n",
              "      <td>31.45795167</td>\n",
              "      <td>1213.175</td>\n",
              "    </tr>\n",
              "  </tbody>\n",
              "</table>\n",
              "</div>"
            ],
            "text/plain": [
              "         Date          Value          Price\n",
              "0    6/1/2019  No Data FOund  No Data FOund\n",
              "1    6/2/2019  No Data FOund  No Data FOund\n",
              "2    6/3/2019    31.80974372        1228.55\n",
              "3    6/4/2019    31.74760267        1226.15\n",
              "4    6/5/2019  No Data FOund  No Data FOund\n",
              "5    6/6/2019    31.37281447       1211.675\n",
              "6    6/7/2019    31.68740353       1223.825\n",
              "7    6/8/2019  No Data FOund  No Data FOund\n",
              "8    6/9/2019  No Data FOund  No Data FOund\n",
              "9   6/10/2019    31.59095544         1220.1\n",
              "10  6/11/2019    31.69711307         1224.2\n",
              "11  6/12/2019    31.42071486       1213.525\n",
              "12  6/13/2019    31.64917469        1222.35\n",
              "13  6/14/2019    31.52489274        1217.55\n",
              "14  6/15/2019  No Data FOund  No Data FOund\n",
              "15  6/16/2019  No Data FOund  No Data FOund\n",
              "16  6/17/2019    31.35529966           1211\n",
              "17  6/18/2019    31.33996896       1208.625\n",
              "18  6/19/2019    31.48388194       1214.175\n",
              "19  6/20/2019    31.45795167       1213.175"
            ]
          },
          "metadata": {
            "tags": []
          },
          "execution_count": 2
        }
      ]
    },
    {
      "cell_type": "code",
      "metadata": {
        "colab": {
          "base_uri": "https://localhost:8080/"
        },
        "id": "BrZD8ifycjDf",
        "outputId": "9a166117-76af-4ffb-c9d9-257078b5cbd5"
      },
      "source": [
        "df=raw_data.copy()\n",
        "df.info()"
      ],
      "execution_count": 23,
      "outputs": [
        {
          "output_type": "stream",
          "text": [
            "<class 'pandas.core.frame.DataFrame'>\n",
            "RangeIndex: 731 entries, 0 to 730\n",
            "Data columns (total 3 columns):\n",
            " #   Column  Non-Null Count  Dtype \n",
            "---  ------  --------------  ----- \n",
            " 0   Date    731 non-null    object\n",
            " 1   Value   731 non-null    object\n",
            " 2   Price   731 non-null    object\n",
            "dtypes: object(3)\n",
            "memory usage: 17.3+ KB\n"
          ],
          "name": "stdout"
        }
      ]
    },
    {
      "cell_type": "code",
      "metadata": {
        "colab": {
          "base_uri": "https://localhost:8080/"
        },
        "id": "jmDEw1l3dbxv",
        "outputId": "c0043bac-9283-4a6f-e3a7-95f00eb9d896"
      },
      "source": [
        "# Change the dtype\n",
        "for i in (['Value','Price']):\n",
        "  df[i]=pd.to_numeric(raw_data[i], errors= 'coerce').round(2)\n",
        "df.info()"
      ],
      "execution_count": 24,
      "outputs": [
        {
          "output_type": "stream",
          "text": [
            "<class 'pandas.core.frame.DataFrame'>\n",
            "RangeIndex: 731 entries, 0 to 730\n",
            "Data columns (total 3 columns):\n",
            " #   Column  Non-Null Count  Dtype  \n",
            "---  ------  --------------  -----  \n",
            " 0   Date    731 non-null    object \n",
            " 1   Value   494 non-null    float64\n",
            " 2   Price   494 non-null    float64\n",
            "dtypes: float64(2), object(1)\n",
            "memory usage: 17.3+ KB\n"
          ],
          "name": "stdout"
        }
      ]
    },
    {
      "cell_type": "code",
      "metadata": {
        "colab": {
          "base_uri": "https://localhost:8080/",
          "height": 524
        },
        "id": "5uneHIwppI9E",
        "outputId": "26fa48a6-7cf7-45de-947f-7efdc6e4deb2"
      },
      "source": [
        "df['Value'].plot()\n",
        "plt.show()\n",
        "df['Price'].plot()"
      ],
      "execution_count": 25,
      "outputs": [
        {
          "output_type": "display_data",
          "data": {
            "image/png": "[encoded data removed]",
            "text/plain": [
              "<Figure size 432x288 with 1 Axes>"
            ]
          },
          "metadata": {
            "tags": [],
            "needs_background": "light"
          }
        },
        {
          "output_type": "execute_result",
          "data": {
            "text/plain": [
              "<matplotlib.axes._subplots.AxesSubplot at 0x7f14b5b86450>"
            ]
          },
          "metadata": {
            "tags": []
          },
          "execution_count": 25
        },
        {
          "output_type": "display_data",
          "data": {
            "image/png": "[encoded data removed]",
            "text/plain": [
              "<Figure size 432x288 with 1 Axes>"
            ]
          },
          "metadata": {
            "tags": [],
            "needs_background": "light"
          }
        }
      ]
    },
    {
      "cell_type": "code",
      "metadata": {
        "colab": {
          "base_uri": "https://localhost:8080/",
          "height": 111
        },
        "id": "oM_OUgWRpjjL",
        "outputId": "a21effa8-9969-4d45-be26-7f4f667f50d8"
      },
      "source": [
        "df.corr()"
      ],
      "execution_count": 26,
      "outputs": [
        {
          "output_type": "execute_result",
          "data": {
            "text/html": [
              "<div>\n",
              "<style scoped>\n",
              "    .dataframe tbody tr th:only-of-type {\n",
              "        vertical-align: middle;\n",
              "    }\n",
              "\n",
              "    .dataframe tbody tr th {\n",
              "        vertical-align: top;\n",
              "    }\n",
              "\n",
              "    .dataframe thead th {\n",
              "        text-align: right;\n",
              "    }\n",
              "</style>\n",
              "<table border=\"1\" class=\"dataframe\">\n",
              "  <thead>\n",
              "    <tr style=\"text-align: right;\">\n",
              "      <th></th>\n",
              "      <th>Value</th>\n",
              "      <th>Price</th>\n",
              "    </tr>\n",
              "  </thead>\n",
              "  <tbody>\n",
              "    <tr>\n",
              "      <th>Value</th>\n",
              "      <td>1.000000</td>\n",
              "      <td>0.673561</td>\n",
              "    </tr>\n",
              "    <tr>\n",
              "      <th>Price</th>\n",
              "      <td>0.673561</td>\n",
              "      <td>1.000000</td>\n",
              "    </tr>\n",
              "  </tbody>\n",
              "</table>\n",
              "</div>"
            ],
            "text/plain": [
              "          Value     Price\n",
              "Value  1.000000  0.673561\n",
              "Price  0.673561  1.000000"
            ]
          },
          "metadata": {
            "tags": []
          },
          "execution_count": 26
        }
      ]
    },
    {
      "cell_type": "markdown",
      "metadata": {
        "id": "LFxM7w82eK0l"
      },
      "source": [
        "#### Date-time formatting"
      ]
    },
    {
      "cell_type": "code",
      "metadata": {
        "colab": {
          "base_uri": "https://localhost:8080/"
        },
        "id": "3o3NOYTJeOc6",
        "outputId": "437f1cd9-daf8-49b4-854b-f18390644396"
      },
      "source": [
        "df['Date'] = pd.to_datetime(df['Date'], dayfirst = False)\n",
        "df.set_index('Date', inplace=True)\n",
        "df.isnull().sum()"
      ],
      "execution_count": 27,
      "outputs": [
        {
          "output_type": "execute_result",
          "data": {
            "text/plain": [
              "Value    237\n",
              "Price    237\n",
              "dtype: int64"
            ]
          },
          "metadata": {
            "tags": []
          },
          "execution_count": 27
        }
      ]
    },
    {
      "cell_type": "code",
      "metadata": {
        "colab": {
          "base_uri": "https://localhost:8080/"
        },
        "id": "Ve3MhVjsg1hU",
        "outputId": "6d224070-f12e-439b-9f0f-9981aa41f850"
      },
      "source": [
        "# Business days time series\n",
        "data = df.resample('b').last()\n",
        "data.isnull().sum()"
      ],
      "execution_count": 59,
      "outputs": [
        {
          "output_type": "execute_result",
          "data": {
            "text/plain": [
              "Value    31\n",
              "Price    31\n",
              "dtype: int64"
            ]
          },
          "metadata": {
            "tags": []
          },
          "execution_count": 59
        }
      ]
    },
    {
      "cell_type": "code",
      "metadata": {
        "id": "szD52GP-xVE7"
      },
      "source": [
        "data.fillna(method='bfill', inplace=True)"
      ],
      "execution_count": 60,
      "outputs": []
    },
    {
      "cell_type": "code",
      "metadata": {
        "colab": {
          "base_uri": "https://localhost:8080/"
        },
        "id": "UPthM2RJkKnq",
        "outputId": "5640bf0d-d18a-4886-826e-3e72106e01ca"
      },
      "source": [
        "data.isnull().sum()"
      ],
      "execution_count": 61,
      "outputs": [
        {
          "output_type": "execute_result",
          "data": {
            "text/plain": [
              "Value    0\n",
              "Price    0\n",
              "dtype: int64"
            ]
          },
          "metadata": {
            "tags": []
          },
          "execution_count": 61
        }
      ]
    },
    {
      "cell_type": "code",
      "metadata": {
        "colab": {
          "base_uri": "https://localhost:8080/"
        },
        "id": "sL_xYDY4m1ws",
        "outputId": "d373ab6e-1a7a-434d-cfa0-e0b34fae393f"
      },
      "source": [
        "data.shape"
      ],
      "execution_count": 62,
      "outputs": [
        {
          "output_type": "execute_result",
          "data": {
            "text/plain": [
              "(522, 2)"
            ]
          },
          "metadata": {
            "tags": []
          },
          "execution_count": 62
        }
      ]
    },
    {
      "cell_type": "markdown",
      "metadata": {
        "id": "7YJ8HhLuOK7k"
      },
      "source": [
        "## Test for Stationarity"
      ]
    },
    {
      "cell_type": "code",
      "metadata": {
        "id": "HPRnafLHmihk"
      },
      "source": [
        "import statsmodels.tsa.stattools as sts\n",
        "from statsmodels.tsa.stattools import adfuller"
      ],
      "execution_count": 63,
      "outputs": []
    },
    {
      "cell_type": "code",
      "metadata": {
        "id": "N2v3BdtsOcZ9"
      },
      "source": [
        "# Define a function for Stationarity check\n",
        "\n",
        "def adfuller_test(series):\n",
        "  \"\"\" Takes the series and tests whether the series is stationary or not \n",
        "  by using ADFULLER test.\n",
        "  \"\"\"\n",
        "  result = adfuller(series)\n",
        "  labels = ['ADF Test stat', 'p-value', '# Lags', '# observations']\n",
        "  for value, label in zip(result,labels):\n",
        "    print(label, ': ', str(value))\n",
        "\n",
        "  if result[1]<=0.05:\n",
        "    print('Outcome: Strong evidence against the null hypothesis; reject H0; data has no unit root; DATA IS STATIONARY.')\n",
        "  else:\n",
        "    print('Outcome: Weak evidence against H0; accept H0, DATA IS NOT STATIONARY') \n"
      ],
      "execution_count": 64,
      "outputs": []
    },
    {
      "cell_type": "code",
      "metadata": {
        "colab": {
          "base_uri": "https://localhost:8080/"
        },
        "id": "ls_nxmOMPWtx",
        "outputId": "d677d873-14d4-41d3-e07b-4af911bc2666"
      },
      "source": [
        "adfuller_test(data['Price'])"
      ],
      "execution_count": 65,
      "outputs": [
        {
          "output_type": "stream",
          "text": [
            "ADF Test stat :  -0.9667821344274781\n",
            "p-value :  0.7651861831579707\n",
            "# Lags :  4\n",
            "# observations :  517\n",
            "Outcome: Weak evidence against H0; accept H0, DATA IS NOT STATIONARY\n"
          ],
          "name": "stdout"
        }
      ]
    },
    {
      "cell_type": "markdown",
      "metadata": {
        "id": "w1pOfXhWPell"
      },
      "source": [
        "Conclusion: The Data is not stationary\n",
        "We need to induce stationarity to be able to perform forecast through ARIMA"
      ]
    },
    {
      "cell_type": "code",
      "metadata": {
        "id": "_8VBO7_kPc6k"
      },
      "source": [
        ""
      ],
      "execution_count": 65,
      "outputs": []
    },
    {
      "cell_type": "markdown",
      "metadata": {
        "id": "YrKva34IPokx"
      },
      "source": [
        "### Induce Stationarity"
      ]
    },
    {
      "cell_type": "code",
      "metadata": {
        "colab": {
          "base_uri": "https://localhost:8080/",
          "height": 305
        },
        "id": "kseHimbCPr7u",
        "outputId": "52360df2-11f3-4fbb-9fb3-813bf4c842bf"
      },
      "source": [
        "# First degree differencing\n",
        "stationary_series = data['Price'].diff(2).dropna()\n",
        "stationary_series.plot()"
      ],
      "execution_count": 100,
      "outputs": [
        {
          "output_type": "execute_result",
          "data": {
            "text/plain": [
              "<matplotlib.axes._subplots.AxesSubplot at 0x7f14a4c17390>"
            ]
          },
          "metadata": {
            "tags": []
          },
          "execution_count": 100
        },
        {
          "output_type": "display_data",
          "data": {
            "image/png": "[encoded data removed]",
            "text/plain": [
              "<Figure size 432x288 with 1 Axes>"
            ]
          },
          "metadata": {
            "tags": [],
            "needs_background": "light"
          }
        }
      ]
    },
    {
      "cell_type": "code",
      "metadata": {
        "id": "Lx-AcgZ9RzQK"
      },
      "source": [
        ""
      ],
      "execution_count": 100,
      "outputs": []
    },
    {
      "cell_type": "code",
      "metadata": {
        "colab": {
          "base_uri": "https://localhost:8080/"
        },
        "id": "uVv8JU1wP0b5",
        "outputId": "d012d014-309a-491b-98fe-03ee4c5e9371"
      },
      "source": [
        "# Check for stationarity\n",
        "adfuller_test(stationary_series)"
      ],
      "execution_count": 101,
      "outputs": [
        {
          "output_type": "stream",
          "text": [
            "ADF Test stat :  -5.325418291390569\n",
            "p-value :  4.8494182646194105e-06\n",
            "# Lags :  14\n",
            "# observations :  504\n",
            "Outcome: Strong evidence against the null hypothesis; reject H0; data has no unit root; DATA IS STATIONARY.\n"
          ],
          "name": "stdout"
        }
      ]
    },
    {
      "cell_type": "markdown",
      "metadata": {
        "id": "v0XGiGRPQLo6"
      },
      "source": [
        "Now that the snew series is stationary, we can plot ACF and PACF to determine the p and q variables for ARIMA\n",
        "\n",
        "## Autocorrelation check"
      ]
    },
    {
      "cell_type": "code",
      "metadata": {
        "colab": {
          "base_uri": "https://localhost:8080/"
        },
        "id": "uwUDm8kBVGQX",
        "outputId": "d06be441-083a-433d-90ff-62857bd75821"
      },
      "source": [
        "# Create train set\n",
        "train_size = int(len(data)*0.7)\n",
        "train_size"
      ],
      "execution_count": 91,
      "outputs": [
        {
          "output_type": "execute_result",
          "data": {
            "text/plain": [
              "364"
            ]
          },
          "metadata": {
            "tags": []
          },
          "execution_count": 91
        }
      ]
    },
    {
      "cell_type": "code",
      "metadata": {
        "id": "WLUIaoseP5O7"
      },
      "source": [
        "import statsmodels.graphics.tsaplots as sgt"
      ],
      "execution_count": 92,
      "outputs": []
    },
    {
      "cell_type": "code",
      "metadata": {
        "colab": {
          "base_uri": "https://localhost:8080/",
          "height": 337
        },
        "id": "I1zomWKMQehi",
        "outputId": "a9e867f8-e218-4203-c593-059c95d9dc25"
      },
      "source": [
        "fig = plt.figure(figsize=(20,10))\n",
        "ax1 = fig.add_subplot(211)\n",
        "fig = sgt.plot_pacf(data['Price'][:train_size].diff(2).dropna(), lags=20, ax=ax1,zero= False)\n",
        "\n",
        "ax2 = fig.add_subplot(212)\n",
        "fig = sgt.plot_acf(data['Price'][:train_size].diff(2).dropna(), lags=20, ax=ax2, zero= False)\n",
        "\n"
      ],
      "execution_count": 102,
      "outputs": [
        {
          "output_type": "display_data",
          "data": {
            "image/png": "[encoded data removed]",
            "text/plain": [
              "<Figure size 1440x720 with 2 Axes>"
            ]
          },
          "metadata": {
            "tags": [],
            "needs_background": "light"
          }
        }
      ]
    },
    {
      "cell_type": "markdown",
      "metadata": {
        "id": "n0WvFJYXSgud"
      },
      "source": [
        "Conclusion:\n",
        "\n",
        "Value of p: No of lags for AR (PACF Plot): 6\n",
        "\n",
        "Value of q: No of lags for MA (ACF Plot):  6\n"
      ]
    },
    {
      "cell_type": "markdown",
      "metadata": {
        "id": "44x3qgZfS9P6"
      },
      "source": [
        "## ARIMA model"
      ]
    },
    {
      "cell_type": "code",
      "metadata": {
        "id": "Ftfbgu2hRwI5"
      },
      "source": [
        "# Import package\n",
        "from statsmodels.tsa.arima_model import ARIMA"
      ],
      "execution_count": 73,
      "outputs": []
    },
    {
      "cell_type": "code",
      "metadata": {
        "id": "RAkHHcsmTBI_"
      },
      "source": [
        "# Define a function to call:\n",
        "\n",
        "def predict_ARIMA(train_data):\n",
        "  \"\"\" The fun will fit ARIMA on the train data and forecast\n",
        "  \"\"\"\n",
        "  model = ARIMA(train_data, order=(2,2,1))\n",
        "  \n",
        "  # Fit the model\n",
        "  try:\n",
        "    model_fit = model.fit(disp=0)\n",
        "    #Forecast\n",
        "    forecast = model_fit.forecast() \n",
        "    return forecast[0][0]\n",
        "  except:\n",
        "    pass"
      ],
      "execution_count": 118,
      "outputs": []
    },
    {
      "cell_type": "code",
      "metadata": {
        "colab": {
          "base_uri": "https://localhost:8080/"
        },
        "id": "hFYbDbcJT12Z",
        "outputId": "cca69243-9f3f-4052-9bfa-df150d73e5d8"
      },
      "source": [
        "warnings.filterwarnings('ignore')\n",
        "warnings.filterwarnings('ignore', 'statsmodels.tsa.arima_model.ARMA',\n",
        "                        FutureWarning)\n",
        "\n",
        "# Find the params\n",
        "model = ARIMA(data['Price'][:train_size], order=(2, 2, 1))\n",
        "model_fit_0 = model.fit()\n",
        "print(model_fit_0.params.round(2))"
      ],
      "execution_count": 117,
      "outputs": [
        {
          "output_type": "stream",
          "text": [
            "const             0.01\n",
            "ar.L1.D2.Price    0.02\n",
            "ar.L2.D2.Price   -0.03\n",
            "ma.L1.D2.Price   -1.00\n",
            "dtype: float64\n"
          ],
          "name": "stdout"
        }
      ]
    },
    {
      "cell_type": "code",
      "metadata": {
        "id": "raTS0Hn3UAJk"
      },
      "source": [
        "data['Pred'] = data['Price'].rolling(train_size).apply(predict_ARIMA).round(2)\n",
        "data['Pred'] = data['Pred'].shift(1)"
      ],
      "execution_count": 123,
      "outputs": []
    },
    {
      "cell_type": "code",
      "metadata": {
        "colab": {
          "base_uri": "https://localhost:8080/",
          "height": 235
        },
        "id": "IBvK79HDUOtT",
        "outputId": "e665d589-9d70-46ca-e85b-b186ed5b082b"
      },
      "source": [
        "data.tail()"
      ],
      "execution_count": 122,
      "outputs": [
        {
          "output_type": "execute_result",
          "data": {
            "text/html": [
              "<div>\n",
              "<style scoped>\n",
              "    .dataframe tbody tr th:only-of-type {\n",
              "        vertical-align: middle;\n",
              "    }\n",
              "\n",
              "    .dataframe tbody tr th {\n",
              "        vertical-align: top;\n",
              "    }\n",
              "\n",
              "    .dataframe thead th {\n",
              "        text-align: right;\n",
              "    }\n",
              "</style>\n",
              "<table border=\"1\" class=\"dataframe\">\n",
              "  <thead>\n",
              "    <tr style=\"text-align: right;\">\n",
              "      <th></th>\n",
              "      <th>Value</th>\n",
              "      <th>Price</th>\n",
              "      <th>Stn_P</th>\n",
              "      <th>Pred</th>\n",
              "    </tr>\n",
              "    <tr>\n",
              "      <th>Date</th>\n",
              "      <th></th>\n",
              "      <th></th>\n",
              "      <th></th>\n",
              "      <th></th>\n",
              "    </tr>\n",
              "  </thead>\n",
              "  <tbody>\n",
              "    <tr>\n",
              "      <th>2021-05-25</th>\n",
              "      <td>26.23</td>\n",
              "      <td>1478.95</td>\n",
              "      <td>-31.0</td>\n",
              "      <td>1511.23</td>\n",
              "    </tr>\n",
              "    <tr>\n",
              "      <th>2021-05-26</th>\n",
              "      <td>26.19</td>\n",
              "      <td>1477.05</td>\n",
              "      <td>-1.9</td>\n",
              "      <td>1480.52</td>\n",
              "    </tr>\n",
              "    <tr>\n",
              "      <th>2021-05-27</th>\n",
              "      <td>26.29</td>\n",
              "      <td>1482.65</td>\n",
              "      <td>5.6</td>\n",
              "      <td>1481.50</td>\n",
              "    </tr>\n",
              "    <tr>\n",
              "      <th>2021-05-28</th>\n",
              "      <td>26.66</td>\n",
              "      <td>1503.45</td>\n",
              "      <td>20.8</td>\n",
              "      <td>1485.90</td>\n",
              "    </tr>\n",
              "    <tr>\n",
              "      <th>2021-05-31</th>\n",
              "      <td>26.88</td>\n",
              "      <td>1515.85</td>\n",
              "      <td>12.4</td>\n",
              "      <td>1507.19</td>\n",
              "    </tr>\n",
              "  </tbody>\n",
              "</table>\n",
              "</div>"
            ],
            "text/plain": [
              "            Value    Price  Stn_P     Pred\n",
              "Date                                      \n",
              "2021-05-25  26.23  1478.95  -31.0  1511.23\n",
              "2021-05-26  26.19  1477.05   -1.9  1480.52\n",
              "2021-05-27  26.29  1482.65    5.6  1481.50\n",
              "2021-05-28  26.66  1503.45   20.8  1485.90\n",
              "2021-05-31  26.88  1515.85   12.4  1507.19"
            ]
          },
          "metadata": {
            "tags": []
          },
          "execution_count": 122
        }
      ]
    },
    {
      "cell_type": "code",
      "metadata": {
        "id": "aNLKdyRlYTfz"
      },
      "source": [
        ""
      ],
      "execution_count": null,
      "outputs": []
    }
  ]
}