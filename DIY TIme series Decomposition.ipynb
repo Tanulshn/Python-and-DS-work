{
 "cells": [
  {
   "cell_type": "markdown",
   "metadata": {},
   "source": [
    "# Introduction\n",
    "\n",
    "Here we will discuss decomposition of your time series data into three components: \n",
    "1. Trend\n",
    "2. Seasonality\n",
    "3. Residual \n",
    "\n",
    "\n",
    "# Learning Outcomes\n",
    "\n",
    "What will we accomplish?\n",
    "1. First, we'll separately construct each time series component. \n",
    "2. Then we'll bring the three components together to create a simulated time series dataset. \n",
    "3. Finally, we'll leverage time series model decomposition in Python to deconstruct the series. \n",
    "\n",
    "We'll complete this process for the two most common processes: additive and multiplicative.\n",
    "\n",
    "The whole point of this exercise is to get you familiar with time series data and simple modeling approaches. \n",
    "\n",
    "You should walk away from this tutorial with:\n",
    "1. A practical understanding of the three components of time series data \n",
    "2. A better understanding of additive and multiplicative models\n",
    "3. A simple way to decompose time series data in Python\n",
    "\n",
    "# Imports"
   ]
  },
  {
   "cell_type": "code",
   "execution_count": 4,
   "metadata": {},
   "outputs": [],
   "source": [
    "import sys\n",
    "import statsmodels as ss\n",
    "import numpy as np\n",
    "import pandas as pd\n",
    "import matplotlib\n",
    "import matplotlib.pyplot as plt\n",
    "import os\n",
    "import seaborn as sns\n",
    "#os.chdir('data')\n",
    "#from colorsetup import colors, palette\n",
    "#sns.set_palette(palette)"
   ]
  },
  {
   "cell_type": "markdown",
   "metadata": {},
   "source": [
    "---\n",
    "# Section 1: Construct Trend, Seasonality, and Residual Components\n",
    "\n",
    "In this lesson, we will individually construct fictional trend, seasonality, and residual components. This is merely an example to show you how a simple time series dataset is constructed. This will aid your understanding later on. In the meantime, let's create a time interval of minutes. "
   ]
  },
  {
   "cell_type": "code",
   "execution_count": 5,
   "metadata": {},
   "outputs": [],
   "source": [
    "# Lets create a variable \n",
    "time = np.arange(1,51)"
   ]
  },
  {
   "cell_type": "code",
   "execution_count": 6,
   "metadata": {},
   "outputs": [],
   "source": [
    "# Now we needto create a trend\n",
    "trend= time * 2.75"
   ]
  },
  {
   "cell_type": "code",
   "execution_count": null,
   "metadata": {},
   "outputs": [],
   "source": []
  }
 ],
 "metadata": {
  "kernelspec": {
   "display_name": "Python 3",
   "language": "python",
   "name": "python3"
  },
  "language_info": {
   "codemirror_mode": {
    "name": "ipython",
    "version": 3
   },
   "file_extension": ".py",
   "mimetype": "text/x-python",
   "name": "python",
   "nbconvert_exporter": "python",
   "pygments_lexer": "ipython3",
   "version": "3.7.6"
  }
 },
 "nbformat": 4,
 "nbformat_minor": 4
}
