{
  "nbformat": 4,
  "nbformat_minor": 0,
  "metadata": {
    "colab": {
      "name": "ARIMA TSA Asian Paint.ipynb",
      "provenance": [],
      "collapsed_sections": [],
      "toc_visible": true,
      "mount_file_id": "1T7lyNABCKKqSU9HxpNTDtqGS4ee1fIwX",
      "authorship_tag": "ABX9TyPrxz+BPgyy5jeDCSCqkia6",
      "include_colab_link": true
    },
    "kernelspec": {
      "name": "python3",
      "display_name": "Python 3"
    },
    "language_info": {
      "name": "python"
    }
  },
  "cells": [
    {
      "cell_type": "markdown",
      "metadata": {
        "id": "view-in-github",
        "colab_type": "text"
      },
      "source": [
        "<a href=\"https://colab.research.google.com/github/Tanulshn/Python-and-DS-work/blob/main/ARIMA_TSA_Asian_Paint.ipynb\" target=\"_parent\"><img src=\"https://colab.research.google.com/assets/colab-badge.svg\" alt=\"Open In Colab\"/></a>"
      ]
    },
    {
      "cell_type": "markdown",
      "metadata": {
        "id": "_yLN9ylEU_cl"
      },
      "source": [
        ""
      ]
    },
    {
      "cell_type": "code",
      "metadata": {
        "id": "losOLZTeTipN"
      },
      "source": [
        "# Basic Package\n",
        "import pandas as pd\n",
        "import numpy as np\n",
        "import seaborn as sns\n",
        "import matplotlib.pyplot as plt\n",
        "%matplotlib inline\n",
        "plt.style.use('seaborn-darkgrid')\n",
        "\n",
        "# Warnings \n",
        "import warnings\n",
        "warnings.simplefilter(action='ignore')\n"
      ],
      "execution_count": null,
      "outputs": []
    },
    {
      "cell_type": "markdown",
      "metadata": {
        "id": "oZ6EHExdbZzr"
      },
      "source": [
        "### Data Preprocessing"
      ]
    },
    {
      "cell_type": "code",
      "metadata": {
        "colab": {
          "base_uri": "https://localhost:8080/",
          "height": 665
        },
        "id": "_voSF3iyaSOc",
        "outputId": "af2972a4-13df-49c2-fd39-14ff0072a6d4"
      },
      "source": [
        "# Read the data\n",
        "raw_data = pd.read_csv('/content/drive/MyDrive/Colab Notebooks/Daily Price ARIMA/CSV files/Asian Paint.csv')\n",
        "raw_data.head(20)"
      ],
      "execution_count": null,
      "outputs": [
        {
          "output_type": "execute_result",
          "data": {
            "text/html": [
              "<div>\n",
              "<style scoped>\n",
              "    .dataframe tbody tr th:only-of-type {\n",
              "        vertical-align: middle;\n",
              "    }\n",
              "\n",
              "    .dataframe tbody tr th {\n",
              "        vertical-align: top;\n",
              "    }\n",
              "\n",
              "    .dataframe thead th {\n",
              "        text-align: right;\n",
              "    }\n",
              "</style>\n",
              "<table border=\"1\" class=\"dataframe\">\n",
              "  <thead>\n",
              "    <tr style=\"text-align: right;\">\n",
              "      <th></th>\n",
              "      <th>Date</th>\n",
              "      <th>Value</th>\n",
              "      <th>Price</th>\n",
              "    </tr>\n",
              "  </thead>\n",
              "  <tbody>\n",
              "    <tr>\n",
              "      <th>0</th>\n",
              "      <td>6/3/2019</td>\n",
              "      <td>65.65</td>\n",
              "      <td>1459.25</td>\n",
              "    </tr>\n",
              "    <tr>\n",
              "      <th>1</th>\n",
              "      <td>6/4/2019</td>\n",
              "      <td>63.95</td>\n",
              "      <td>1421.50</td>\n",
              "    </tr>\n",
              "    <tr>\n",
              "      <th>2</th>\n",
              "      <td>6/5/2019</td>\n",
              "      <td>No Data FOund</td>\n",
              "      <td>No Data FOund</td>\n",
              "    </tr>\n",
              "    <tr>\n",
              "      <th>3</th>\n",
              "      <td>6/6/2019</td>\n",
              "      <td>64.27</td>\n",
              "      <td>1428.55</td>\n",
              "    </tr>\n",
              "    <tr>\n",
              "      <th>4</th>\n",
              "      <td>6/7/2019</td>\n",
              "      <td>63.81</td>\n",
              "      <td>1418.35</td>\n",
              "    </tr>\n",
              "    <tr>\n",
              "      <th>5</th>\n",
              "      <td>6/8/2019</td>\n",
              "      <td>No Data FOund</td>\n",
              "      <td>No Data FOund</td>\n",
              "    </tr>\n",
              "    <tr>\n",
              "      <th>6</th>\n",
              "      <td>6/9/2019</td>\n",
              "      <td>No Data FOund</td>\n",
              "      <td>No Data FOund</td>\n",
              "    </tr>\n",
              "    <tr>\n",
              "      <th>7</th>\n",
              "      <td>6/10/2019</td>\n",
              "      <td>64.00</td>\n",
              "      <td>1422.60</td>\n",
              "    </tr>\n",
              "    <tr>\n",
              "      <th>8</th>\n",
              "      <td>6/11/2019</td>\n",
              "      <td>64.13</td>\n",
              "      <td>1425.50</td>\n",
              "    </tr>\n",
              "    <tr>\n",
              "      <th>9</th>\n",
              "      <td>6/12/2019</td>\n",
              "      <td>64.13</td>\n",
              "      <td>1425.45</td>\n",
              "    </tr>\n",
              "    <tr>\n",
              "      <th>10</th>\n",
              "      <td>6/13/2019</td>\n",
              "      <td>64.31</td>\n",
              "      <td>1429.45</td>\n",
              "    </tr>\n",
              "    <tr>\n",
              "      <th>11</th>\n",
              "      <td>6/14/2019</td>\n",
              "      <td>63.56</td>\n",
              "      <td>1412.75</td>\n",
              "    </tr>\n",
              "    <tr>\n",
              "      <th>12</th>\n",
              "      <td>6/15/2019</td>\n",
              "      <td>No Data FOund</td>\n",
              "      <td>No Data FOund</td>\n",
              "    </tr>\n",
              "    <tr>\n",
              "      <th>13</th>\n",
              "      <td>6/16/2019</td>\n",
              "      <td>No Data FOund</td>\n",
              "      <td>No Data FOund</td>\n",
              "    </tr>\n",
              "    <tr>\n",
              "      <th>14</th>\n",
              "      <td>6/17/2019</td>\n",
              "      <td>63.07</td>\n",
              "      <td>1401.95</td>\n",
              "    </tr>\n",
              "    <tr>\n",
              "      <th>15</th>\n",
              "      <td>6/18/2019</td>\n",
              "      <td>62.08</td>\n",
              "      <td>1380.05</td>\n",
              "    </tr>\n",
              "    <tr>\n",
              "      <th>16</th>\n",
              "      <td>6/19/2019</td>\n",
              "      <td>62.13</td>\n",
              "      <td>1381.15</td>\n",
              "    </tr>\n",
              "    <tr>\n",
              "      <th>17</th>\n",
              "      <td>6/20/2019</td>\n",
              "      <td>62.62</td>\n",
              "      <td>1392.05</td>\n",
              "    </tr>\n",
              "    <tr>\n",
              "      <th>18</th>\n",
              "      <td>6/21/2019</td>\n",
              "      <td>62.22</td>\n",
              "      <td>1383.00</td>\n",
              "    </tr>\n",
              "    <tr>\n",
              "      <th>19</th>\n",
              "      <td>6/22/2019</td>\n",
              "      <td>No Data FOund</td>\n",
              "      <td>No Data FOund</td>\n",
              "    </tr>\n",
              "  </tbody>\n",
              "</table>\n",
              "</div>"
            ],
            "text/plain": [
              "         Date          Value          Price\n",
              "0    6/3/2019          65.65        1459.25\n",
              "1    6/4/2019          63.95        1421.50\n",
              "2    6/5/2019  No Data FOund  No Data FOund\n",
              "3    6/6/2019          64.27        1428.55\n",
              "4    6/7/2019          63.81        1418.35\n",
              "5    6/8/2019  No Data FOund  No Data FOund\n",
              "6    6/9/2019  No Data FOund  No Data FOund\n",
              "7   6/10/2019          64.00        1422.60\n",
              "8   6/11/2019          64.13        1425.50\n",
              "9   6/12/2019          64.13        1425.45\n",
              "10  6/13/2019          64.31        1429.45\n",
              "11  6/14/2019          63.56        1412.75\n",
              "12  6/15/2019  No Data FOund  No Data FOund\n",
              "13  6/16/2019  No Data FOund  No Data FOund\n",
              "14  6/17/2019          63.07        1401.95\n",
              "15  6/18/2019          62.08        1380.05\n",
              "16  6/19/2019          62.13        1381.15\n",
              "17  6/20/2019          62.62        1392.05\n",
              "18  6/21/2019          62.22        1383.00\n",
              "19  6/22/2019  No Data FOund  No Data FOund"
            ]
          },
          "metadata": {
            "tags": []
          },
          "execution_count": 8
        }
      ]
    },
    {
      "cell_type": "code",
      "metadata": {
        "colab": {
          "base_uri": "https://localhost:8080/",
          "height": 203
        },
        "id": "jmGYyhdnvqBp",
        "outputId": "8f52d6df-5316-456a-889a-511bd9e89b8e"
      },
      "source": [
        "raw_data.tail()"
      ],
      "execution_count": null,
      "outputs": [
        {
          "output_type": "execute_result",
          "data": {
            "text/html": [
              "<div>\n",
              "<style scoped>\n",
              "    .dataframe tbody tr th:only-of-type {\n",
              "        vertical-align: middle;\n",
              "    }\n",
              "\n",
              "    .dataframe tbody tr th {\n",
              "        vertical-align: top;\n",
              "    }\n",
              "\n",
              "    .dataframe thead th {\n",
              "        text-align: right;\n",
              "    }\n",
              "</style>\n",
              "<table border=\"1\" class=\"dataframe\">\n",
              "  <thead>\n",
              "    <tr style=\"text-align: right;\">\n",
              "      <th></th>\n",
              "      <th>Date</th>\n",
              "      <th>Value</th>\n",
              "      <th>Price</th>\n",
              "    </tr>\n",
              "  </thead>\n",
              "  <tbody>\n",
              "    <tr>\n",
              "      <th>755</th>\n",
              "      <td>6/27/2021</td>\n",
              "      <td>No Data FOund</td>\n",
              "      <td>No Data FOund</td>\n",
              "    </tr>\n",
              "    <tr>\n",
              "      <th>756</th>\n",
              "      <td>6/28/2021</td>\n",
              "      <td>93.73</td>\n",
              "      <td>2982.95</td>\n",
              "    </tr>\n",
              "    <tr>\n",
              "      <th>757</th>\n",
              "      <td>6/29/2021</td>\n",
              "      <td>94.32</td>\n",
              "      <td>3001.50</td>\n",
              "    </tr>\n",
              "    <tr>\n",
              "      <th>758</th>\n",
              "      <td>6/30/2021</td>\n",
              "      <td>94.04</td>\n",
              "      <td>2992.70</td>\n",
              "    </tr>\n",
              "    <tr>\n",
              "      <th>759</th>\n",
              "      <td>7/1/2021</td>\n",
              "      <td>94.95</td>\n",
              "      <td>3021.60</td>\n",
              "    </tr>\n",
              "  </tbody>\n",
              "</table>\n",
              "</div>"
            ],
            "text/plain": [
              "          Date          Value          Price\n",
              "755  6/27/2021  No Data FOund  No Data FOund\n",
              "756  6/28/2021          93.73        2982.95\n",
              "757  6/29/2021          94.32        3001.50\n",
              "758  6/30/2021          94.04        2992.70\n",
              "759   7/1/2021          94.95        3021.60"
            ]
          },
          "metadata": {
            "tags": []
          },
          "execution_count": 9
        }
      ]
    },
    {
      "cell_type": "code",
      "metadata": {
        "colab": {
          "base_uri": "https://localhost:8080/"
        },
        "id": "BrZD8ifycjDf",
        "outputId": "426c09a7-fad2-4a15-ab02-2f9f2cdd4dcf"
      },
      "source": [
        "df=raw_data.copy()\n",
        "df.info()"
      ],
      "execution_count": null,
      "outputs": [
        {
          "output_type": "stream",
          "text": [
            "<class 'pandas.core.frame.DataFrame'>\n",
            "RangeIndex: 760 entries, 0 to 759\n",
            "Data columns (total 3 columns):\n",
            " #   Column  Non-Null Count  Dtype \n",
            "---  ------  --------------  ----- \n",
            " 0   Date    760 non-null    object\n",
            " 1   Value   760 non-null    object\n",
            " 2   Price   760 non-null    object\n",
            "dtypes: object(3)\n",
            "memory usage: 17.9+ KB\n"
          ],
          "name": "stdout"
        }
      ]
    },
    {
      "cell_type": "code",
      "metadata": {
        "colab": {
          "base_uri": "https://localhost:8080/"
        },
        "id": "jmDEw1l3dbxv",
        "outputId": "add7236b-0914-4d69-9cd1-54c725695bfa"
      },
      "source": [
        "# Change the dtype\n",
        "for i in (['Value','Price']):\n",
        "  df[i]=pd.to_numeric(raw_data[i], errors= 'coerce').round(2)\n",
        "\n",
        "df.info()"
      ],
      "execution_count": null,
      "outputs": [
        {
          "output_type": "stream",
          "text": [
            "<class 'pandas.core.frame.DataFrame'>\n",
            "RangeIndex: 760 entries, 0 to 759\n",
            "Data columns (total 3 columns):\n",
            " #   Column  Non-Null Count  Dtype  \n",
            "---  ------  --------------  -----  \n",
            " 0   Date    760 non-null    object \n",
            " 1   Value   517 non-null    float64\n",
            " 2   Price   517 non-null    float64\n",
            "dtypes: float64(2), object(1)\n",
            "memory usage: 17.9+ KB\n"
          ],
          "name": "stdout"
        }
      ]
    },
    {
      "cell_type": "code",
      "metadata": {
        "colab": {
          "base_uri": "https://localhost:8080/",
          "height": 110
        },
        "id": "oM_OUgWRpjjL",
        "outputId": "44b168e7-76af-4657-d9ed-ffab5e9fdb4b"
      },
      "source": [
        "df.corr()"
      ],
      "execution_count": null,
      "outputs": [
        {
          "output_type": "execute_result",
          "data": {
            "text/html": [
              "<div>\n",
              "<style scoped>\n",
              "    .dataframe tbody tr th:only-of-type {\n",
              "        vertical-align: middle;\n",
              "    }\n",
              "\n",
              "    .dataframe tbody tr th {\n",
              "        vertical-align: top;\n",
              "    }\n",
              "\n",
              "    .dataframe thead th {\n",
              "        text-align: right;\n",
              "    }\n",
              "</style>\n",
              "<table border=\"1\" class=\"dataframe\">\n",
              "  <thead>\n",
              "    <tr style=\"text-align: right;\">\n",
              "      <th></th>\n",
              "      <th>Value</th>\n",
              "      <th>Price</th>\n",
              "    </tr>\n",
              "  </thead>\n",
              "  <tbody>\n",
              "    <tr>\n",
              "      <th>Value</th>\n",
              "      <td>1.000000</td>\n",
              "      <td>0.314806</td>\n",
              "    </tr>\n",
              "    <tr>\n",
              "      <th>Price</th>\n",
              "      <td>0.314806</td>\n",
              "      <td>1.000000</td>\n",
              "    </tr>\n",
              "  </tbody>\n",
              "</table>\n",
              "</div>"
            ],
            "text/plain": [
              "          Value     Price\n",
              "Value  1.000000  0.314806\n",
              "Price  0.314806  1.000000"
            ]
          },
          "metadata": {
            "tags": []
          },
          "execution_count": 12
        }
      ]
    },
    {
      "cell_type": "markdown",
      "metadata": {
        "id": "LFxM7w82eK0l"
      },
      "source": [
        "#### Date-time formatting"
      ]
    },
    {
      "cell_type": "code",
      "metadata": {
        "colab": {
          "base_uri": "https://localhost:8080/"
        },
        "id": "3o3NOYTJeOc6",
        "outputId": "cbf7de8e-48be-4d09-d7a6-b0072e79efdc"
      },
      "source": [
        "df['Date'] = pd.to_datetime(df['Date'], dayfirst = False)\n",
        "df.set_index('Date', inplace=True)\n",
        "df.isnull().sum()"
      ],
      "execution_count": null,
      "outputs": [
        {
          "output_type": "execute_result",
          "data": {
            "text/plain": [
              "Value    243\n",
              "Price    243\n",
              "dtype: int64"
            ]
          },
          "metadata": {
            "tags": []
          },
          "execution_count": 17
        }
      ]
    },
    {
      "cell_type": "code",
      "metadata": {
        "colab": {
          "base_uri": "https://localhost:8080/"
        },
        "id": "Ve3MhVjsg1hU",
        "outputId": "e1f699ed-acab-4a32-cd8e-6bda441b246d"
      },
      "source": [
        "# Business days time series\n",
        "data = df.resample('b').last()\n",
        "data.isnull().sum()"
      ],
      "execution_count": null,
      "outputs": [
        {
          "output_type": "execute_result",
          "data": {
            "text/plain": [
              "Value    30\n",
              "Price    30\n",
              "dtype: int64"
            ]
          },
          "metadata": {
            "tags": []
          },
          "execution_count": 18
        }
      ]
    },
    {
      "cell_type": "code",
      "metadata": {
        "id": "szD52GP-xVE7"
      },
      "source": [
        "data.fillna(method='bfill', inplace=True)"
      ],
      "execution_count": null,
      "outputs": []
    },
    {
      "cell_type": "code",
      "metadata": {
        "colab": {
          "base_uri": "https://localhost:8080/"
        },
        "id": "UPthM2RJkKnq",
        "outputId": "8a41d6aa-e329-42e2-98e3-67b66a8acd10"
      },
      "source": [
        "data.isnull().sum()"
      ],
      "execution_count": null,
      "outputs": [
        {
          "output_type": "execute_result",
          "data": {
            "text/plain": [
              "Value    0\n",
              "Price    0\n",
              "dtype: int64"
            ]
          },
          "metadata": {
            "tags": []
          },
          "execution_count": 20
        }
      ]
    },
    {
      "cell_type": "code",
      "metadata": {
        "colab": {
          "base_uri": "https://localhost:8080/"
        },
        "id": "sL_xYDY4m1ws",
        "outputId": "9d362f9b-8550-4bc1-e04f-c45910ba0044"
      },
      "source": [
        "data.shape"
      ],
      "execution_count": null,
      "outputs": [
        {
          "output_type": "execute_result",
          "data": {
            "text/plain": [
              "(544, 2)"
            ]
          },
          "metadata": {
            "tags": []
          },
          "execution_count": 21
        }
      ]
    },
    {
      "cell_type": "code",
      "metadata": {
        "colab": {
          "base_uri": "https://localhost:8080/",
          "height": 587
        },
        "id": "5uneHIwppI9E",
        "outputId": "02cc2fc9-d439-432d-844d-f60105c2d4f0"
      },
      "source": [
        "for col,i in enumerate(['Value','Price']):\n",
        "  plt.figure(i)\n",
        "  df[i].plot()\n",
        "  #plt.axvline(x = Scaled_std_2021.index[-84], color='g')\n",
        "  #plt.axhline(y =0, color='g')\n",
        "  plt.title('{}. The Graph for {}'.format(col+1, i))\n",
        "  plt.show()\n",
        "  \n",
        " \n"
      ],
      "execution_count": null,
      "outputs": [
        {
          "output_type": "display_data",
          "data": {
            "image/png": "[encoded data removed]",
            "text/plain": [
              "<Figure size 432x288 with 1 Axes>"
            ]
          },
          "metadata": {
            "tags": []
          }
        },
        {
          "output_type": "display_data",
          "data": {
            "image/png": "[encoded data removed]",
            "text/plain": [
              "<Figure size 432x288 with 1 Axes>"
            ]
          },
          "metadata": {
            "tags": []
          }
        }
      ]
    },
    {
      "cell_type": "markdown",
      "metadata": {
        "id": "7YJ8HhLuOK7k"
      },
      "source": [
        "## Test for Stationarity"
      ]
    },
    {
      "cell_type": "code",
      "metadata": {
        "id": "HPRnafLHmihk"
      },
      "source": [
        "import statsmodels.tsa.stattools as sts\n",
        "from statsmodels.tsa.stattools import adfuller"
      ],
      "execution_count": null,
      "outputs": []
    },
    {
      "cell_type": "code",
      "metadata": {
        "id": "N2v3BdtsOcZ9"
      },
      "source": [
        "# Define a function for Stationarity check\n",
        "\n",
        "def adfuller_test(series):\n",
        "  \"\"\" Takes the series and tests whether the series is stationary or not \n",
        "  by using ADFULLER test.\n",
        "  \"\"\"\n",
        "  result = adfuller(series)\n",
        "  labels = ['ADF Test stat', 'p-value', '# Lags', '# observations']\n",
        "  for value, label in zip(result,labels):\n",
        "    print(label, ': ', str(value))\n",
        "\n",
        "  if result[1]<=0.05:\n",
        "    print('Outcome: Strong evidence against the null hypothesis; reject H0; data has no unit root; DATA IS STATIONARY.')\n",
        "  else:\n",
        "    print('Outcome: Weak evidence against H0; accept H0, DATA IS NOT STATIONARY') \n"
      ],
      "execution_count": null,
      "outputs": []
    },
    {
      "cell_type": "code",
      "metadata": {
        "colab": {
          "base_uri": "https://localhost:8080/"
        },
        "id": "ls_nxmOMPWtx",
        "outputId": "cab5dd60-1e0e-4a99-a3ba-9ecfc5f632d5"
      },
      "source": [
        "adfuller_test(data['Price'])"
      ],
      "execution_count": null,
      "outputs": [
        {
          "output_type": "stream",
          "text": [
            "ADF Test stat :  0.11265409852541541\n",
            "p-value :  0.966914503829688\n",
            "# Lags :  1\n",
            "# observations :  542\n",
            "Outcome: Weak evidence against H0; accept H0, DATA IS NOT STATIONARY\n"
          ],
          "name": "stdout"
        }
      ]
    },
    {
      "cell_type": "markdown",
      "metadata": {
        "id": "w1pOfXhWPell"
      },
      "source": [
        "Conclusion: The Data is not stationary\n",
        "We need to induce stationarity to be able to perform forecast through ARIMA"
      ]
    },
    {
      "cell_type": "code",
      "metadata": {
        "id": "_8VBO7_kPc6k"
      },
      "source": [
        ""
      ],
      "execution_count": null,
      "outputs": []
    },
    {
      "cell_type": "markdown",
      "metadata": {
        "id": "YrKva34IPokx"
      },
      "source": [
        "### Induce Stationarity"
      ]
    },
    {
      "cell_type": "code",
      "metadata": {
        "colab": {
          "base_uri": "https://localhost:8080/",
          "height": 304
        },
        "id": "kseHimbCPr7u",
        "outputId": "25101f69-2691-4542-a489-75b714b4de16"
      },
      "source": [
        "# First degree differencing\n",
        "stationary_series = data['Price'].diff(2).dropna()\n",
        "stationary_series.plot()"
      ],
      "execution_count": null,
      "outputs": [
        {
          "output_type": "execute_result",
          "data": {
            "text/plain": [
              "<matplotlib.axes._subplots.AxesSubplot at 0x7f0c321a9990>"
            ]
          },
          "metadata": {
            "tags": []
          },
          "execution_count": 35
        },
        {
          "output_type": "display_data",
          "data": {
            "image/png": "[encoded data removed]",
            "text/plain": [
              "<Figure size 432x288 with 1 Axes>"
            ]
          },
          "metadata": {
            "tags": []
          }
        }
      ]
    },
    {
      "cell_type": "code",
      "metadata": {
        "id": "Lx-AcgZ9RzQK"
      },
      "source": [
        ""
      ],
      "execution_count": null,
      "outputs": []
    },
    {
      "cell_type": "code",
      "metadata": {
        "colab": {
          "base_uri": "https://localhost:8080/"
        },
        "id": "uVv8JU1wP0b5",
        "outputId": "01c7fdd9-d9f0-4cc0-949f-5e01f1a8d16f"
      },
      "source": [
        "# Check for stationarity\n",
        "adfuller_test(stationary_series)"
      ],
      "execution_count": null,
      "outputs": [
        {
          "output_type": "stream",
          "text": [
            "ADF Test stat :  -5.370943821882996\n",
            "p-value :  3.8971617343910624e-06\n",
            "# Lags :  19\n",
            "# observations :  522\n",
            "Outcome: Strong evidence against the null hypothesis; reject H0; data has no unit root; DATA IS STATIONARY.\n"
          ],
          "name": "stdout"
        }
      ]
    },
    {
      "cell_type": "markdown",
      "metadata": {
        "id": "v0XGiGRPQLo6"
      },
      "source": [
        "Now that the snew series is stationary, we can plot ACF and PACF to determine the p and q variables for ARIMA\n",
        "\n",
        "## Autocorrelation check"
      ]
    },
    {
      "cell_type": "code",
      "metadata": {
        "colab": {
          "base_uri": "https://localhost:8080/"
        },
        "id": "uwUDm8kBVGQX",
        "outputId": "2e6fad2a-85ec-42ae-fa33-c1e7bc61420d"
      },
      "source": [
        "# Create train set\n",
        "train_size = int(len(data)*0.8)\n",
        "train_size"
      ],
      "execution_count": null,
      "outputs": [
        {
          "output_type": "execute_result",
          "data": {
            "text/plain": [
              "435"
            ]
          },
          "metadata": {
            "tags": []
          },
          "execution_count": 29
        }
      ]
    },
    {
      "cell_type": "code",
      "metadata": {
        "id": "WLUIaoseP5O7"
      },
      "source": [
        "import statsmodels.graphics.tsaplots as sgt"
      ],
      "execution_count": null,
      "outputs": []
    },
    {
      "cell_type": "code",
      "metadata": {
        "colab": {
          "base_uri": "https://localhost:8080/",
          "height": 583
        },
        "id": "I1zomWKMQehi",
        "outputId": "ec5b8b0e-7d75-414f-b3fb-16834a1595d9"
      },
      "source": [
        "fig = plt.figure(figsize=(20,10))\n",
        "ax1 = fig.add_subplot(211)\n",
        "fig = sgt.plot_pacf(data['Price'][:train_size].diff(2).dropna(), lags=30, ax=ax1,zero= False)\n",
        "\n",
        "ax2 = fig.add_subplot(212)\n",
        "fig = sgt.plot_acf(data['Price'][:train_size].diff(2).dropna(), lags=30, ax=ax2, zero= False)\n",
        "\n"
      ],
      "execution_count": null,
      "outputs": [
        {
          "output_type": "display_data",
          "data": {
            "image/png": "[encoded data removed]",
            "text/plain": [
              "<Figure size 1440x720 with 2 Axes>"
            ]
          },
          "metadata": {
            "tags": []
          }
        }
      ]
    },
    {
      "cell_type": "markdown",
      "metadata": {
        "id": "n0WvFJYXSgud"
      },
      "source": [
        "Conclusion:\n",
        "\n",
        "Value of p: No of lags for AR (PACF Plot): 5\n",
        "\n",
        "Value of q: No of lags for MA (ACF Plot):  1\n"
      ]
    },
    {
      "cell_type": "markdown",
      "metadata": {
        "id": "44x3qgZfS9P6"
      },
      "source": [
        "## ARIMA model"
      ]
    },
    {
      "cell_type": "code",
      "metadata": {
        "id": "Ftfbgu2hRwI5"
      },
      "source": [
        "# Import package\n",
        "from statsmodels.tsa.arima_model import ARIMA\n",
        "\n",
        "from sklearn.metrics import mean_squared_error\n",
        "from sklearn.metrics import mean_absolute_error"
      ],
      "execution_count": null,
      "outputs": []
    },
    {
      "cell_type": "code",
      "metadata": {
        "id": "RAkHHcsmTBI_"
      },
      "source": [
        "# Define a function to call:\n",
        "\n",
        "def predict_ARIMA(train_data):\n",
        "  \"\"\" The fun will fit ARIMA on the train data and forecast\n",
        "  \"\"\"\n",
        "  model = ARIMA(train_data, order=(5,2,1))\n",
        "  \n",
        "  # Fit the model\n",
        "  try:\n",
        "    model_fit = model.fit(disp=0)\n",
        "    #Forecast\n",
        "    forecast = model_fit.forecast() \n",
        "    return forecast[0][0]\n",
        "  except:\n",
        "    pass"
      ],
      "execution_count": null,
      "outputs": []
    },
    {
      "cell_type": "code",
      "metadata": {
        "colab": {
          "base_uri": "https://localhost:8080/"
        },
        "id": "hFYbDbcJT12Z",
        "outputId": "0ea16ba1-6e05-48ba-a688-622bac843c3d"
      },
      "source": [
        "warnings.filterwarnings('ignore')\n",
        "warnings.filterwarnings('ignore', 'statsmodels.tsa.arima_model.ARMA',\n",
        "                        FutureWarning)\n",
        "\n",
        "# Find the params\n",
        "model = ARIMA(data['Price'][:train_size], order=(5, 2, 1))\n",
        "model_fit = model.fit()\n",
        "print(model_fit.params.round(2))"
      ],
      "execution_count": null,
      "outputs": [
        {
          "output_type": "stream",
          "text": [
            "const             0.01\n",
            "ar.L1.D2.Price   -0.06\n",
            "ar.L2.D2.Price   -0.00\n",
            "ar.L3.D2.Price    0.08\n",
            "ar.L4.D2.Price   -0.02\n",
            "ar.L5.D2.Price    0.04\n",
            "ma.L1.D2.Price   -1.00\n",
            "dtype: float64\n"
          ],
          "name": "stdout"
        }
      ]
    },
    {
      "cell_type": "code",
      "metadata": {
        "id": "raTS0Hn3UAJk"
      },
      "source": [
        "data['Pred'] = data['Price'].rolling(train_size).apply(predict_ARIMA).round(2)\n",
        "data['Pred'] = data['Pred'].shift(1)"
      ],
      "execution_count": null,
      "outputs": []
    },
    {
      "cell_type": "code",
      "metadata": {
        "colab": {
          "base_uri": "https://localhost:8080/",
          "height": 234
        },
        "id": "IBvK79HDUOtT",
        "outputId": "280c3ac1-127a-4b58-cf8f-c91beb231615"
      },
      "source": [
        "data.tail()"
      ],
      "execution_count": null,
      "outputs": [
        {
          "output_type": "execute_result",
          "data": {
            "text/html": [
              "<div>\n",
              "<style scoped>\n",
              "    .dataframe tbody tr th:only-of-type {\n",
              "        vertical-align: middle;\n",
              "    }\n",
              "\n",
              "    .dataframe tbody tr th {\n",
              "        vertical-align: top;\n",
              "    }\n",
              "\n",
              "    .dataframe thead th {\n",
              "        text-align: right;\n",
              "    }\n",
              "</style>\n",
              "<table border=\"1\" class=\"dataframe\">\n",
              "  <thead>\n",
              "    <tr style=\"text-align: right;\">\n",
              "      <th></th>\n",
              "      <th>Value</th>\n",
              "      <th>Price</th>\n",
              "      <th>Pred</th>\n",
              "    </tr>\n",
              "    <tr>\n",
              "      <th>Date</th>\n",
              "      <th></th>\n",
              "      <th></th>\n",
              "      <th></th>\n",
              "    </tr>\n",
              "  </thead>\n",
              "  <tbody>\n",
              "    <tr>\n",
              "      <th>2021-06-25</th>\n",
              "      <td>94.39</td>\n",
              "      <td>3003.90</td>\n",
              "      <td>3043.38</td>\n",
              "    </tr>\n",
              "    <tr>\n",
              "      <th>2021-06-28</th>\n",
              "      <td>93.73</td>\n",
              "      <td>2982.95</td>\n",
              "      <td>3017.31</td>\n",
              "    </tr>\n",
              "    <tr>\n",
              "      <th>2021-06-29</th>\n",
              "      <td>94.32</td>\n",
              "      <td>3001.50</td>\n",
              "      <td>2995.80</td>\n",
              "    </tr>\n",
              "    <tr>\n",
              "      <th>2021-06-30</th>\n",
              "      <td>94.04</td>\n",
              "      <td>2992.70</td>\n",
              "      <td>3004.54</td>\n",
              "    </tr>\n",
              "    <tr>\n",
              "      <th>2021-07-01</th>\n",
              "      <td>94.95</td>\n",
              "      <td>3021.60</td>\n",
              "      <td>3002.07</td>\n",
              "    </tr>\n",
              "  </tbody>\n",
              "</table>\n",
              "</div>"
            ],
            "text/plain": [
              "            Value    Price     Pred\n",
              "Date                               \n",
              "2021-06-25  94.39  3003.90  3043.38\n",
              "2021-06-28  93.73  2982.95  3017.31\n",
              "2021-06-29  94.32  3001.50  2995.80\n",
              "2021-06-30  94.04  2992.70  3004.54\n",
              "2021-07-01  94.95  3021.60  3002.07"
            ]
          },
          "metadata": {
            "tags": []
          },
          "execution_count": 44
        }
      ]
    },
    {
      "cell_type": "markdown",
      "metadata": {
        "id": "vnlmmweUaLRB"
      },
      "source": [
        "### ARIMA model evaluation"
      ]
    },
    {
      "cell_type": "code",
      "metadata": {
        "id": "aNLKdyRlYTfz"
      },
      "source": [
        "def model_performance(actual, predicted):\n",
        "  \"\"\" This function will print the MAE, MSE, RMSE and Mean Absolute percentage error (MAPE)\n",
        "  This will also plot PACF an residual plot\"\"\"\n",
        "\n",
        "  #Mean Absolute error\n",
        "  mae = mean_absolute_error(actual, predicted).round(2)\n",
        "  print('The Mean Absolute Error is: ', mae)\n",
        "  \n",
        "  #Mean Squared Error \n",
        "  mse = mean_squared_error(actual, predicted).round(2)\n",
        "  print('The Mean Squared Error is: ', mse)\n",
        "\n",
        "  # Root Mean Squared Error\n",
        "  rmse = np.sqrt(mse).round(2)\n",
        "  print('The RMSE is: ', rmse )\n",
        "\n",
        "  # Mean Absolute percentage error\n",
        "  mape = 100*((actual-predicted)/actual).abs().mean()\n",
        "  print('The Mean Absolute Percentage Error is: ', mape)\n",
        "\n",
        "  # Residuals\n",
        "  residuals = actual- predicted\n",
        "  labels = actual.index\n",
        "  #fig,(ax1,ax2) = plt.subplot(2,1, figsize=(12,11))\n",
        "\n",
        "  # Plot Graph\n",
        "  plt.figure(figsize=(15,10))\n",
        "  \n",
        "  plt.subplot(2,1,1)\n",
        "  plt.plot(actual, color = 'red')\n",
        "  plt.plot(predicted, color = 'blue' )\n",
        "  plt.ylabel('Price')\n",
        "  plt.title('Predicted v/s Actual')\n",
        "\n",
        "  # Plot PACF\n",
        "  plt.subplot(2,1,2)\n",
        "  sgt.plot_acf(residuals, color= 'green')\n",
        "  plt.xlabel('Lags')\n",
        "  plt.ylabel('Autocorrelation')\n",
        "  plt.title('Autocorrelation of Residuals')\n",
        "\n",
        "  plt.tight_layout()\n",
        "  plt.show()"
      ],
      "execution_count": null,
      "outputs": []
    },
    {
      "cell_type": "code",
      "metadata": {
        "colab": {
          "base_uri": "https://localhost:8080/",
          "height": 950
        },
        "id": "os13HU4QZhW_",
        "outputId": "a43f5b00-2f04-42e4-82a1-2a7a32db730d"
      },
      "source": [
        "model_performance(data['Price'].iloc[train_size:],data['Pred'].iloc[train_size:])"
      ],
      "execution_count": null,
      "outputs": [
        {
          "output_type": "stream",
          "text": [
            "The Mean Absolute Error is:  32.4\n",
            "The Mean Squared Error is:  2043.14\n",
            "The RMSE is:  45.2\n",
            "The Mean Absolute Percentage Error is:  1.244115539579242\n"
          ],
          "name": "stdout"
        },
        {
          "output_type": "display_data",
          "data": {
            "image/png": "[encoded data removed]",
            "text/plain": [
              "<Figure size 1080x720 with 2 Axes>"
            ]
          },
          "metadata": {
            "tags": []
          }
        },
        {
          "output_type": "display_data",
          "data": {
            "image/png": "[encoded data removed]",
            "text/plain": [
              "<Figure size 432x288 with 1 Axes>"
            ]
          },
          "metadata": {
            "tags": []
          }
        }
      ]
    },
    {
      "cell_type": "markdown",
      "metadata": {
        "id": "UjMIdNmXaNI2"
      },
      "source": [
        "### Trade Strategy- Long Short\n",
        "\n",
        "What are we trying to do in the strategy:\n",
        "- Create Signal - When the predicted price is higher than previous day actual price, create a signal +1, or -1 if not.\n",
        "- Signal implies the direction for the returns.\n",
        "- *Strategy* returns- Creating a hypothetical return (Pred return), in case the position was held throughout the tennure. "
      ]
    },
    {
      "cell_type": "code",
      "metadata": {
        "colab": {
          "base_uri": "https://localhost:8080/",
          "height": 542
        },
        "id": "zqw-0tosZrLi",
        "outputId": "634c6f3e-cf8b-4d73-c93e-080e2e53cc21"
      },
      "source": [
        "data['Return'] = data['Price'].pct_change()\n",
        "data['Position'] = np.where(data['Price'].shift(1) < data['Pred'], 1,-1)\n",
        "\n",
        "data['Strategy_return'] = data['Return']* data['Position']\n",
        "\n",
        "data.tail(15)"
      ],
      "execution_count": null,
      "outputs": [
        {
          "output_type": "execute_result",
          "data": {
            "text/html": [
              "<div>\n",
              "<style scoped>\n",
              "    .dataframe tbody tr th:only-of-type {\n",
              "        vertical-align: middle;\n",
              "    }\n",
              "\n",
              "    .dataframe tbody tr th {\n",
              "        vertical-align: top;\n",
              "    }\n",
              "\n",
              "    .dataframe thead th {\n",
              "        text-align: right;\n",
              "    }\n",
              "</style>\n",
              "<table border=\"1\" class=\"dataframe\">\n",
              "  <thead>\n",
              "    <tr style=\"text-align: right;\">\n",
              "      <th></th>\n",
              "      <th>Value</th>\n",
              "      <th>Price</th>\n",
              "      <th>Pred</th>\n",
              "      <th>Return</th>\n",
              "      <th>Position</th>\n",
              "      <th>Strategy_return</th>\n",
              "    </tr>\n",
              "    <tr>\n",
              "      <th>Date</th>\n",
              "      <th></th>\n",
              "      <th></th>\n",
              "      <th></th>\n",
              "      <th></th>\n",
              "      <th></th>\n",
              "      <th></th>\n",
              "    </tr>\n",
              "  </thead>\n",
              "  <tbody>\n",
              "    <tr>\n",
              "      <th>2021-06-11</th>\n",
              "      <td>92.89</td>\n",
              "      <td>2956.25</td>\n",
              "      <td>2956.74</td>\n",
              "      <td>0.001915</td>\n",
              "      <td>1</td>\n",
              "      <td>0.001915</td>\n",
              "    </tr>\n",
              "    <tr>\n",
              "      <th>2021-06-14</th>\n",
              "      <td>92.70</td>\n",
              "      <td>2949.90</td>\n",
              "      <td>2964.26</td>\n",
              "      <td>-0.002148</td>\n",
              "      <td>1</td>\n",
              "      <td>-0.002148</td>\n",
              "    </tr>\n",
              "    <tr>\n",
              "      <th>2021-06-15</th>\n",
              "      <td>95.60</td>\n",
              "      <td>3042.20</td>\n",
              "      <td>2957.75</td>\n",
              "      <td>0.031289</td>\n",
              "      <td>1</td>\n",
              "      <td>0.031289</td>\n",
              "    </tr>\n",
              "    <tr>\n",
              "      <th>2021-06-16</th>\n",
              "      <td>94.86</td>\n",
              "      <td>3018.70</td>\n",
              "      <td>3040.85</td>\n",
              "      <td>-0.007725</td>\n",
              "      <td>-1</td>\n",
              "      <td>0.007725</td>\n",
              "    </tr>\n",
              "    <tr>\n",
              "      <th>2021-06-17</th>\n",
              "      <td>96.16</td>\n",
              "      <td>3060.30</td>\n",
              "      <td>3028.23</td>\n",
              "      <td>0.013781</td>\n",
              "      <td>1</td>\n",
              "      <td>0.013781</td>\n",
              "    </tr>\n",
              "    <tr>\n",
              "      <th>2021-06-18</th>\n",
              "      <td>95.75</td>\n",
              "      <td>3047.20</td>\n",
              "      <td>3067.52</td>\n",
              "      <td>-0.004281</td>\n",
              "      <td>1</td>\n",
              "      <td>-0.004281</td>\n",
              "    </tr>\n",
              "    <tr>\n",
              "      <th>2021-06-21</th>\n",
              "      <td>96.42</td>\n",
              "      <td>3068.55</td>\n",
              "      <td>3052.82</td>\n",
              "      <td>0.007006</td>\n",
              "      <td>1</td>\n",
              "      <td>0.007006</td>\n",
              "    </tr>\n",
              "    <tr>\n",
              "      <th>2021-06-22</th>\n",
              "      <td>94.61</td>\n",
              "      <td>3010.80</td>\n",
              "      <td>3077.53</td>\n",
              "      <td>-0.018820</td>\n",
              "      <td>1</td>\n",
              "      <td>-0.018820</td>\n",
              "    </tr>\n",
              "    <tr>\n",
              "      <th>2021-06-23</th>\n",
              "      <td>93.87</td>\n",
              "      <td>2987.35</td>\n",
              "      <td>3023.71</td>\n",
              "      <td>-0.007789</td>\n",
              "      <td>1</td>\n",
              "      <td>-0.007789</td>\n",
              "    </tr>\n",
              "    <tr>\n",
              "      <th>2021-06-24</th>\n",
              "      <td>95.63</td>\n",
              "      <td>3043.25</td>\n",
              "      <td>2999.36</td>\n",
              "      <td>0.018712</td>\n",
              "      <td>1</td>\n",
              "      <td>0.018712</td>\n",
              "    </tr>\n",
              "    <tr>\n",
              "      <th>2021-06-25</th>\n",
              "      <td>94.39</td>\n",
              "      <td>3003.90</td>\n",
              "      <td>3043.38</td>\n",
              "      <td>-0.012930</td>\n",
              "      <td>1</td>\n",
              "      <td>-0.012930</td>\n",
              "    </tr>\n",
              "    <tr>\n",
              "      <th>2021-06-28</th>\n",
              "      <td>93.73</td>\n",
              "      <td>2982.95</td>\n",
              "      <td>3017.31</td>\n",
              "      <td>-0.006974</td>\n",
              "      <td>1</td>\n",
              "      <td>-0.006974</td>\n",
              "    </tr>\n",
              "    <tr>\n",
              "      <th>2021-06-29</th>\n",
              "      <td>94.32</td>\n",
              "      <td>3001.50</td>\n",
              "      <td>2995.80</td>\n",
              "      <td>0.006219</td>\n",
              "      <td>1</td>\n",
              "      <td>0.006219</td>\n",
              "    </tr>\n",
              "    <tr>\n",
              "      <th>2021-06-30</th>\n",
              "      <td>94.04</td>\n",
              "      <td>2992.70</td>\n",
              "      <td>3004.54</td>\n",
              "      <td>-0.002932</td>\n",
              "      <td>1</td>\n",
              "      <td>-0.002932</td>\n",
              "    </tr>\n",
              "    <tr>\n",
              "      <th>2021-07-01</th>\n",
              "      <td>94.95</td>\n",
              "      <td>3021.60</td>\n",
              "      <td>3002.07</td>\n",
              "      <td>0.009657</td>\n",
              "      <td>1</td>\n",
              "      <td>0.009657</td>\n",
              "    </tr>\n",
              "  </tbody>\n",
              "</table>\n",
              "</div>"
            ],
            "text/plain": [
              "            Value    Price     Pred    Return  Position  Strategy_return\n",
              "Date                                                                    \n",
              "2021-06-11  92.89  2956.25  2956.74  0.001915         1         0.001915\n",
              "2021-06-14  92.70  2949.90  2964.26 -0.002148         1        -0.002148\n",
              "2021-06-15  95.60  3042.20  2957.75  0.031289         1         0.031289\n",
              "2021-06-16  94.86  3018.70  3040.85 -0.007725        -1         0.007725\n",
              "2021-06-17  96.16  3060.30  3028.23  0.013781         1         0.013781\n",
              "2021-06-18  95.75  3047.20  3067.52 -0.004281         1        -0.004281\n",
              "2021-06-21  96.42  3068.55  3052.82  0.007006         1         0.007006\n",
              "2021-06-22  94.61  3010.80  3077.53 -0.018820         1        -0.018820\n",
              "2021-06-23  93.87  2987.35  3023.71 -0.007789         1        -0.007789\n",
              "2021-06-24  95.63  3043.25  2999.36  0.018712         1         0.018712\n",
              "2021-06-25  94.39  3003.90  3043.38 -0.012930         1        -0.012930\n",
              "2021-06-28  93.73  2982.95  3017.31 -0.006974         1        -0.006974\n",
              "2021-06-29  94.32  3001.50  2995.80  0.006219         1         0.006219\n",
              "2021-06-30  94.04  2992.70  3004.54 -0.002932         1        -0.002932\n",
              "2021-07-01  94.95  3021.60  3002.07  0.009657         1         0.009657"
            ]
          },
          "metadata": {
            "tags": []
          },
          "execution_count": 47
        }
      ]
    },
    {
      "cell_type": "code",
      "metadata": {
        "id": "lQ6Y_lxMaZKj"
      },
      "source": [
        "# Define a function to analyse the returns of Strategy returns\n",
        "\n",
        "def analyse_strategy(return_series):\n",
        "  \"\"\" Takes the Returns column as input and performs few calculations\n",
        "  Sharpe ratio- Return to risk ratio\n",
        "  Cumulative return - Month over month return calculated\n",
        "  Drawdown calculation\n",
        "  Print statistics\n",
        "  \"\"\"\n",
        "  sharpe_ratio = return_series.mean()/return_series.std()*np.sqrt(252)\n",
        "\n",
        "  #Cumulative Returns\n",
        "  cum_return = (return_series+1).cumprod()\n",
        "  \n",
        "\n",
        "  print('The Sharpe Ratio is %.2f' % sharpe_ratio)\n",
        "  print('The cumulative return is %.2f' % (((cum_return[-1])-1)*100) + \"%\") \n",
        "  print('The std dev is: ', return_series.std())\n",
        "  print( 'The number of days for retrn assessment: ', int(len(return_series)))\n",
        "  # Plots\n",
        "  labels = return_series.index\n",
        "  plt.figure(figsize=(15,10))\n",
        "\n",
        "  #Plot strategy return\n",
        "  plt.plot(cum_return, color = 'b')\n",
        "  plt.title('Cumulative returns', fontsize=14)\n",
        "  plt.ylabel('Cumulative Return')\n",
        "  plt.xlabel('Date')"
      ],
      "execution_count": null,
      "outputs": []
    },
    {
      "cell_type": "code",
      "metadata": {
        "id": "4agn-mkXhHYf"
      },
      "source": [
        "# Define a function to calcualte return of the stock without strategy\n",
        "def stock_return(series):\n",
        "  \n",
        "  #Cumulative Returns\n",
        "  cum_return = (series+1).cumprod()\n",
        "\n",
        "  print('The return of the stock is :',(((cum_return[-1])-1)*100).round(2))"
      ],
      "execution_count": null,
      "outputs": []
    },
    {
      "cell_type": "code",
      "metadata": {
        "colab": {
          "base_uri": "https://localhost:8080/"
        },
        "id": "R-Hc6vXeh0Eq",
        "outputId": "e4fffd7a-0af3-4c31-ecef-e96f0fa695f2"
      },
      "source": [
        "stock_return(data['Return'].iloc[train_size:])"
      ],
      "execution_count": null,
      "outputs": [
        {
          "output_type": "stream",
          "text": [
            "The return of the stock is : 25.52\n"
          ],
          "name": "stdout"
        }
      ]
    },
    {
      "cell_type": "code",
      "metadata": {
        "colab": {
          "base_uri": "https://localhost:8080/",
          "height": 686
        },
        "id": "C1T3093ldstW",
        "outputId": "0a957e73-fd04-4d2e-94b2-fd912b45d791"
      },
      "source": [
        "analyse_strategy(data['Strategy_return'].iloc[train_size:])"
      ],
      "execution_count": null,
      "outputs": [
        {
          "output_type": "stream",
          "text": [
            "The Sharpe Ratio is 2.52\n",
            "The cumulative return is 33.49%\n",
            "The std dev is:  0.01765742567358908\n",
            " The number of days for retrn assessment:  109\n"
          ],
          "name": "stdout"
        },
        {
          "output_type": "display_data",
          "data": {
            "image/png": "[encoded data removed]",
            "text/plain": [
              "<Figure size 1080x720 with 1 Axes>"
            ]
          },
          "metadata": {
            "tags": []
          }
        }
      ]
    },
    {
      "cell_type": "markdown",
      "metadata": {
        "id": "MpcmudWVfBzX"
      },
      "source": [
        "### Trade Strategy- Long Only\n",
        "\n",
        "What are we trying to do in the strategy:\n",
        "- Create Signal - When the predicted price is higher than previous day actual price, create a signal +1, or 0.\n",
        "- Signal implies the direction for the returns.\n",
        "- *Strategy* returns- Creating a hypothetical return (Pred return), in case the position was held throughout the tennure. "
      ]
    },
    {
      "cell_type": "code",
      "metadata": {
        "colab": {
          "base_uri": "https://localhost:8080/",
          "height": 542
        },
        "id": "TciyRo5dd0Lo",
        "outputId": "2e6b926e-716a-407b-ceaa-728e4c9e95bb"
      },
      "source": [
        "data['Return'] = data['Price'].pct_change()\n",
        "data['Position'] = np.where(data['Price'].shift(1) < data['Pred'], 1,0)\n",
        "\n",
        "data['Strategy_return'] = data['Return']* data['Position']\n",
        "\n",
        "data.tail(15)"
      ],
      "execution_count": null,
      "outputs": [
        {
          "output_type": "execute_result",
          "data": {
            "text/html": [
              "<div>\n",
              "<style scoped>\n",
              "    .dataframe tbody tr th:only-of-type {\n",
              "        vertical-align: middle;\n",
              "    }\n",
              "\n",
              "    .dataframe tbody tr th {\n",
              "        vertical-align: top;\n",
              "    }\n",
              "\n",
              "    .dataframe thead th {\n",
              "        text-align: right;\n",
              "    }\n",
              "</style>\n",
              "<table border=\"1\" class=\"dataframe\">\n",
              "  <thead>\n",
              "    <tr style=\"text-align: right;\">\n",
              "      <th></th>\n",
              "      <th>Value</th>\n",
              "      <th>Price</th>\n",
              "      <th>Pred</th>\n",
              "      <th>Return</th>\n",
              "      <th>Position</th>\n",
              "      <th>Strategy_return</th>\n",
              "    </tr>\n",
              "    <tr>\n",
              "      <th>Date</th>\n",
              "      <th></th>\n",
              "      <th></th>\n",
              "      <th></th>\n",
              "      <th></th>\n",
              "      <th></th>\n",
              "      <th></th>\n",
              "    </tr>\n",
              "  </thead>\n",
              "  <tbody>\n",
              "    <tr>\n",
              "      <th>2021-06-11</th>\n",
              "      <td>92.89</td>\n",
              "      <td>2956.25</td>\n",
              "      <td>2956.74</td>\n",
              "      <td>0.001915</td>\n",
              "      <td>1</td>\n",
              "      <td>0.001915</td>\n",
              "    </tr>\n",
              "    <tr>\n",
              "      <th>2021-06-14</th>\n",
              "      <td>92.70</td>\n",
              "      <td>2949.90</td>\n",
              "      <td>2964.26</td>\n",
              "      <td>-0.002148</td>\n",
              "      <td>1</td>\n",
              "      <td>-0.002148</td>\n",
              "    </tr>\n",
              "    <tr>\n",
              "      <th>2021-06-15</th>\n",
              "      <td>95.60</td>\n",
              "      <td>3042.20</td>\n",
              "      <td>2957.75</td>\n",
              "      <td>0.031289</td>\n",
              "      <td>1</td>\n",
              "      <td>0.031289</td>\n",
              "    </tr>\n",
              "    <tr>\n",
              "      <th>2021-06-16</th>\n",
              "      <td>94.86</td>\n",
              "      <td>3018.70</td>\n",
              "      <td>3040.85</td>\n",
              "      <td>-0.007725</td>\n",
              "      <td>0</td>\n",
              "      <td>-0.000000</td>\n",
              "    </tr>\n",
              "    <tr>\n",
              "      <th>2021-06-17</th>\n",
              "      <td>96.16</td>\n",
              "      <td>3060.30</td>\n",
              "      <td>3028.23</td>\n",
              "      <td>0.013781</td>\n",
              "      <td>1</td>\n",
              "      <td>0.013781</td>\n",
              "    </tr>\n",
              "    <tr>\n",
              "      <th>2021-06-18</th>\n",
              "      <td>95.75</td>\n",
              "      <td>3047.20</td>\n",
              "      <td>3067.52</td>\n",
              "      <td>-0.004281</td>\n",
              "      <td>1</td>\n",
              "      <td>-0.004281</td>\n",
              "    </tr>\n",
              "    <tr>\n",
              "      <th>2021-06-21</th>\n",
              "      <td>96.42</td>\n",
              "      <td>3068.55</td>\n",
              "      <td>3052.82</td>\n",
              "      <td>0.007006</td>\n",
              "      <td>1</td>\n",
              "      <td>0.007006</td>\n",
              "    </tr>\n",
              "    <tr>\n",
              "      <th>2021-06-22</th>\n",
              "      <td>94.61</td>\n",
              "      <td>3010.80</td>\n",
              "      <td>3077.53</td>\n",
              "      <td>-0.018820</td>\n",
              "      <td>1</td>\n",
              "      <td>-0.018820</td>\n",
              "    </tr>\n",
              "    <tr>\n",
              "      <th>2021-06-23</th>\n",
              "      <td>93.87</td>\n",
              "      <td>2987.35</td>\n",
              "      <td>3023.71</td>\n",
              "      <td>-0.007789</td>\n",
              "      <td>1</td>\n",
              "      <td>-0.007789</td>\n",
              "    </tr>\n",
              "    <tr>\n",
              "      <th>2021-06-24</th>\n",
              "      <td>95.63</td>\n",
              "      <td>3043.25</td>\n",
              "      <td>2999.36</td>\n",
              "      <td>0.018712</td>\n",
              "      <td>1</td>\n",
              "      <td>0.018712</td>\n",
              "    </tr>\n",
              "    <tr>\n",
              "      <th>2021-06-25</th>\n",
              "      <td>94.39</td>\n",
              "      <td>3003.90</td>\n",
              "      <td>3043.38</td>\n",
              "      <td>-0.012930</td>\n",
              "      <td>1</td>\n",
              "      <td>-0.012930</td>\n",
              "    </tr>\n",
              "    <tr>\n",
              "      <th>2021-06-28</th>\n",
              "      <td>93.73</td>\n",
              "      <td>2982.95</td>\n",
              "      <td>3017.31</td>\n",
              "      <td>-0.006974</td>\n",
              "      <td>1</td>\n",
              "      <td>-0.006974</td>\n",
              "    </tr>\n",
              "    <tr>\n",
              "      <th>2021-06-29</th>\n",
              "      <td>94.32</td>\n",
              "      <td>3001.50</td>\n",
              "      <td>2995.80</td>\n",
              "      <td>0.006219</td>\n",
              "      <td>1</td>\n",
              "      <td>0.006219</td>\n",
              "    </tr>\n",
              "    <tr>\n",
              "      <th>2021-06-30</th>\n",
              "      <td>94.04</td>\n",
              "      <td>2992.70</td>\n",
              "      <td>3004.54</td>\n",
              "      <td>-0.002932</td>\n",
              "      <td>1</td>\n",
              "      <td>-0.002932</td>\n",
              "    </tr>\n",
              "    <tr>\n",
              "      <th>2021-07-01</th>\n",
              "      <td>94.95</td>\n",
              "      <td>3021.60</td>\n",
              "      <td>3002.07</td>\n",
              "      <td>0.009657</td>\n",
              "      <td>1</td>\n",
              "      <td>0.009657</td>\n",
              "    </tr>\n",
              "  </tbody>\n",
              "</table>\n",
              "</div>"
            ],
            "text/plain": [
              "            Value    Price     Pred    Return  Position  Strategy_return\n",
              "Date                                                                    \n",
              "2021-06-11  92.89  2956.25  2956.74  0.001915         1         0.001915\n",
              "2021-06-14  92.70  2949.90  2964.26 -0.002148         1        -0.002148\n",
              "2021-06-15  95.60  3042.20  2957.75  0.031289         1         0.031289\n",
              "2021-06-16  94.86  3018.70  3040.85 -0.007725         0        -0.000000\n",
              "2021-06-17  96.16  3060.30  3028.23  0.013781         1         0.013781\n",
              "2021-06-18  95.75  3047.20  3067.52 -0.004281         1        -0.004281\n",
              "2021-06-21  96.42  3068.55  3052.82  0.007006         1         0.007006\n",
              "2021-06-22  94.61  3010.80  3077.53 -0.018820         1        -0.018820\n",
              "2021-06-23  93.87  2987.35  3023.71 -0.007789         1        -0.007789\n",
              "2021-06-24  95.63  3043.25  2999.36  0.018712         1         0.018712\n",
              "2021-06-25  94.39  3003.90  3043.38 -0.012930         1        -0.012930\n",
              "2021-06-28  93.73  2982.95  3017.31 -0.006974         1        -0.006974\n",
              "2021-06-29  94.32  3001.50  2995.80  0.006219         1         0.006219\n",
              "2021-06-30  94.04  2992.70  3004.54 -0.002932         1        -0.002932\n",
              "2021-07-01  94.95  3021.60  3002.07  0.009657         1         0.009657"
            ]
          },
          "metadata": {
            "tags": []
          },
          "execution_count": 52
        }
      ]
    },
    {
      "cell_type": "code",
      "metadata": {
        "colab": {
          "base_uri": "https://localhost:8080/"
        },
        "id": "qcDoeQwHj5Ng",
        "outputId": "b0bd9a2f-5308-4411-982f-e2dd955b1de0"
      },
      "source": [
        "stock_return(data['Return'].iloc[train_size:])"
      ],
      "execution_count": null,
      "outputs": [
        {
          "output_type": "stream",
          "text": [
            "The return of the stock is : 25.52\n"
          ],
          "name": "stdout"
        }
      ]
    },
    {
      "cell_type": "code",
      "metadata": {
        "colab": {
          "base_uri": "https://localhost:8080/",
          "height": 686
        },
        "id": "HYGgdj3KfOx5",
        "outputId": "7b8c1b18-8aaa-44f6-b9de-805d70d6e29f"
      },
      "source": [
        "analyse_strategy(data['Strategy_return'].iloc[train_size:])"
      ],
      "execution_count": null,
      "outputs": [
        {
          "output_type": "stream",
          "text": [
            "The Sharpe Ratio is 2.54\n",
            "The cumulative return is 29.90%\n",
            "The std dev is:  0.01573889479834617\n",
            " The number of days for retrn assessment:  109\n"
          ],
          "name": "stdout"
        },
        {
          "output_type": "display_data",
          "data": {
            "image/png": "[encoded data removed]",
            "text/plain": [
              "<Figure size 1080x720 with 1 Axes>"
            ]
          },
          "metadata": {
            "tags": []
          }
        }
      ]
    },
    {
      "cell_type": "code",
      "metadata": {
        "id": "bX0QTQWIfQCy"
      },
      "source": [
        ""
      ],
      "execution_count": null,
      "outputs": []
    },
    {
      "cell_type": "markdown",
      "metadata": {
        "id": "kCykttvHUDl6"
      },
      "source": [
        "### Calculate Volatility\n",
        "To calculate the volatility, we measure the std dev of the log of returns.\n",
        "\n",
        "Since the volatility measures the fluctuation in time, a common mistake is that it is calculated over the price. However, it should be calculated as the dispersion of the log of returns.\n",
        "\n",
        "This is because the distribution of price is unknown and we are taking standard deviation as a measure of risk. To be sure that the standard deviation is accurate and meaningful, an assumption has to be made that the underlying data follows a normal distribution. Hence the volatility is calculated over the log of returns."
      ]
    },
    {
      "cell_type": "code",
      "metadata": {
        "id": "QEQDBdh0UFtf"
      },
      "source": [
        ""
      ],
      "execution_count": null,
      "outputs": []
    },
    {
      "cell_type": "markdown",
      "metadata": {
        "id": "xx_YseM3YbFx"
      },
      "source": [
        "#### Daily Volatility"
      ]
    },
    {
      "cell_type": "code",
      "metadata": {
        "colab": {
          "base_uri": "https://localhost:8080/",
          "height": 234
        },
        "id": "mU_C7kE-UHJL",
        "outputId": "e8c19067-e609-4aaa-be64-7abfe372d563"
      },
      "source": [
        "# Daily Volatility\n",
        "\n",
        "# Compute the Log returns \n",
        "data['log_R'] = np.log(data['Price']/data['Price'].shift(1))\n",
        "\n",
        "# Compute volatility using the pandas rolling std dev function \n",
        "data['Daily_Volatility'] = data['log_R'].rolling(window=20).std()*100\n",
        "\n",
        "data.tail()"
      ],
      "execution_count": null,
      "outputs": [
        {
          "output_type": "execute_result",
          "data": {
            "text/html": [
              "<div>\n",
              "<style scoped>\n",
              "    .dataframe tbody tr th:only-of-type {\n",
              "        vertical-align: middle;\n",
              "    }\n",
              "\n",
              "    .dataframe tbody tr th {\n",
              "        vertical-align: top;\n",
              "    }\n",
              "\n",
              "    .dataframe thead th {\n",
              "        text-align: right;\n",
              "    }\n",
              "</style>\n",
              "<table border=\"1\" class=\"dataframe\">\n",
              "  <thead>\n",
              "    <tr style=\"text-align: right;\">\n",
              "      <th></th>\n",
              "      <th>Value</th>\n",
              "      <th>Price</th>\n",
              "      <th>Pred</th>\n",
              "      <th>Return</th>\n",
              "      <th>Position</th>\n",
              "      <th>Strategy_return</th>\n",
              "      <th>log_R</th>\n",
              "      <th>Daily_Volatility</th>\n",
              "    </tr>\n",
              "    <tr>\n",
              "      <th>Date</th>\n",
              "      <th></th>\n",
              "      <th></th>\n",
              "      <th></th>\n",
              "      <th></th>\n",
              "      <th></th>\n",
              "      <th></th>\n",
              "      <th></th>\n",
              "      <th></th>\n",
              "    </tr>\n",
              "  </thead>\n",
              "  <tbody>\n",
              "    <tr>\n",
              "      <th>2021-05-25</th>\n",
              "      <td>75.86</td>\n",
              "      <td>1450.95</td>\n",
              "      <td>1448.03</td>\n",
              "      <td>0.005335</td>\n",
              "      <td>1</td>\n",
              "      <td>0.005335</td>\n",
              "      <td>0.005321</td>\n",
              "      <td>1.382351</td>\n",
              "    </tr>\n",
              "    <tr>\n",
              "      <th>2021-05-26</th>\n",
              "      <td>77.01</td>\n",
              "      <td>1472.90</td>\n",
              "      <td>1454.78</td>\n",
              "      <td>0.015128</td>\n",
              "      <td>1</td>\n",
              "      <td>0.015128</td>\n",
              "      <td>0.015015</td>\n",
              "      <td>1.402167</td>\n",
              "    </tr>\n",
              "    <tr>\n",
              "      <th>2021-05-27</th>\n",
              "      <td>77.53</td>\n",
              "      <td>1482.85</td>\n",
              "      <td>1478.47</td>\n",
              "      <td>0.006755</td>\n",
              "      <td>1</td>\n",
              "      <td>0.006755</td>\n",
              "      <td>0.006733</td>\n",
              "      <td>1.351637</td>\n",
              "    </tr>\n",
              "    <tr>\n",
              "      <th>2021-05-28</th>\n",
              "      <td>77.28</td>\n",
              "      <td>1478.10</td>\n",
              "      <td>1487.41</td>\n",
              "      <td>-0.003203</td>\n",
              "      <td>1</td>\n",
              "      <td>-0.003203</td>\n",
              "      <td>-0.003208</td>\n",
              "      <td>1.298660</td>\n",
              "    </tr>\n",
              "    <tr>\n",
              "      <th>2021-05-31</th>\n",
              "      <td>76.74</td>\n",
              "      <td>1467.70</td>\n",
              "      <td>1482.82</td>\n",
              "      <td>-0.007036</td>\n",
              "      <td>1</td>\n",
              "      <td>-0.007036</td>\n",
              "      <td>-0.007061</td>\n",
              "      <td>1.324303</td>\n",
              "    </tr>\n",
              "  </tbody>\n",
              "</table>\n",
              "</div>"
            ],
            "text/plain": [
              "            Value    Price  ...     log_R  Daily_Volatility\n",
              "Date                        ...                            \n",
              "2021-05-25  75.86  1450.95  ...  0.005321          1.382351\n",
              "2021-05-26  77.01  1472.90  ...  0.015015          1.402167\n",
              "2021-05-27  77.53  1482.85  ...  0.006733          1.351637\n",
              "2021-05-28  77.28  1478.10  ... -0.003208          1.298660\n",
              "2021-05-31  76.74  1467.70  ... -0.007061          1.324303\n",
              "\n",
              "[5 rows x 8 columns]"
            ]
          },
          "metadata": {
            "tags": []
          },
          "execution_count": 41
        }
      ]
    },
    {
      "cell_type": "code",
      "metadata": {
        "colab": {
          "base_uri": "https://localhost:8080/",
          "height": 279
        },
        "id": "BxXAjKrmV4Wt",
        "outputId": "5208b486-a931-4c30-ea35-40e4dbd4b3f6"
      },
      "source": [
        "plt.plot(data['Daily_Volatility'])"
      ],
      "execution_count": null,
      "outputs": [
        {
          "output_type": "execute_result",
          "data": {
            "text/plain": [
              "[<matplotlib.lines.Line2D at 0x7f621c14f410>]"
            ]
          },
          "metadata": {
            "tags": []
          },
          "execution_count": 42
        },
        {
          "output_type": "display_data",
          "data": {
            "image/png": "[encoded data removed]",
            "text/plain": [
              "<Figure size 432x288 with 1 Axes>"
            ]
          },
          "metadata": {
            "tags": []
          }
        }
      ]
    },
    {
      "cell_type": "code",
      "metadata": {
        "colab": {
          "base_uri": "https://localhost:8080/",
          "height": 279
        },
        "id": "NyXjjsnCWkL1",
        "outputId": "ae52695e-a075-4482-97f6-0fe5a115662f"
      },
      "source": [
        "# Convert daily volatility to annual volatility\n",
        "data['Annual_Volatility'] = data['Daily_Volatility']* np.sqrt(252)\n",
        "\n",
        "plt.plot(data['Annual_Volatility'])"
      ],
      "execution_count": null,
      "outputs": [
        {
          "output_type": "execute_result",
          "data": {
            "text/plain": [
              "[<matplotlib.lines.Line2D at 0x7f621c032590>]"
            ]
          },
          "metadata": {
            "tags": []
          },
          "execution_count": 43
        },
        {
          "output_type": "display_data",
          "data": {
            "image/png": "[encoded data removed]",
            "text/plain": [
              "<Figure size 432x288 with 1 Axes>"
            ]
          },
          "metadata": {
            "tags": []
          }
        }
      ]
    },
    {
      "cell_type": "code",
      "metadata": {
        "id": "I_G5LZ5LXF43"
      },
      "source": [
        ""
      ],
      "execution_count": null,
      "outputs": []
    }
  ]
}